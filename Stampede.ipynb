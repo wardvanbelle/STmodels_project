{
 "metadata": {
  "language_info": {
   "codemirror_mode": {
    "name": "ipython",
    "version": 3
   },
   "file_extension": ".py",
   "mimetype": "text/x-python",
   "name": "python",
   "nbconvert_exporter": "python",
   "pygments_lexer": "ipython3",
   "version": "3.8.5"
  },
  "orig_nbformat": 2,
  "kernelspec": {
   "name": "python385jvsc74a57bd0d163ea45bd2cab844339aee21428a939709027bb084b146d6f32097ba0bd9484",
   "display_name": "Python 3.8.5 64-bit ('base': conda)"
  },
  "metadata": {
   "interpreter": {
    "hash": "05aff6734a0136c1456f6cababa7509d8ef823a72f9d7deb75637cc690b3e532"
   }
  }
 },
 "nbformat": 4,
 "nbformat_minor": 2,
 "cells": [
  {
   "source": [
    "# Chaos during a stampede\n",
    "\n",
    "Based on the paper: https://www.sciencedirect.com/science/article/pii/S1569190X20300861?casa_token=eoCj844--UoAAAAA%3AW5IEQVZQbP5ILasesMnahd3iIgfHNXfAWnaI7RsboLHrfqNA-UNxb_pyNF5FIyDN0hoKbjdC-EA "
   ],
   "cell_type": "markdown",
   "metadata": {}
  },
  {
   "source": [
    "### To do:\n",
    "Implement everything\n",
    "\n",
    "### Ideas:\n",
    "Implement people as class so that we can define their state and position as parts of that class.\n",
    "\n",
    "Use code example below, set all bordercells to 500 (= wall)\n",
    "Use different values for different states of people.\n",
    "Make custom update rules."
   ],
   "cell_type": "markdown",
   "metadata": {}
  },
  {
   "source": [
    "### Steps:\n",
    "1. Populate board with random amount of people in random positions\n",
    "2. In each time step, calculate the static floor field Sij, the dynamic floor field Dij and the event floor field Fij with help of the formulas.\n",
    "3. For each pedestrian, determine his/her state and make a decision regarding movement behavior. If the pedestrian is in\n",
    "state Ue,Un or Ae, calculate the transition probability according to Eqs. (15)–(17), respectively. If the pedestrian is in state An, he/\n",
    "she chooses one of the strategies S1, S2 or S3 to evacuate. If the pedestrian is in state C, calculate the probability of him/her\n",
    "getting up again.\n",
    "4. Each pedestrian moves to his/her target cell. If the pedestrian chooses a target cell that is occupied by a fallen pedestrian, he/she will be tripped and become a new fallen pedestrian.\n",
    "5. If the chaos duration is over, uninjured pedestrians regard fallen pedestrians as obstacles and conduct a normal evacuation. There will be no more new fallen pedestrians.\n",
    "6. When multiple pedestrians choose to move to the same target, one pedestrian is randomly selected with equal probability to move to the target cell, and other pedestrians remain in their original cells.\n",
    "7. Determine whether the evacuation is over. If there are still uninjured pedestrians in the room, return to step 2 and repeat the simulation process until all the uninjured pedestrians evacuate from the room.\n",
    "\n",
    "### Variables:\n",
    "\n",
    "S = static floor: describes pedestrian behavior of finding the shortest path to the exit during the evacuation process.\n",
    "D = dynamic floor: represents the interactions among pedestrians in the evacuation process.\n",
    "F = event floor: reflects thhat some pedestrians intend to escape from the stampede location when they are affected by the stampede.\n",
    "A = risk floor field: depicts that pedestrian movement direction affects the risk of being tripped.\n",
    "\n",
    "### evac strategies:\n",
    "S1 = Tries to stay away from the stampede location (Eq 1)\n",
    "S2 = Follows movement of neighbours \n",
    "S3 = keeps moving in same direction until wall is reached, then follows it clockwise or anti clockwise.\n",
    "     when they stay in the same cell for more then 5 time steps, they change the desired direction randomly.\n"
   ],
   "cell_type": "markdown",
   "metadata": {}
  },
  {
   "cell_type": "code",
   "execution_count": 4,
   "metadata": {},
   "outputs": [],
   "source": [
    "# imports\n",
    "import numpy as np\n",
    "import random\n",
    "import matplotlib.pyplot as plt"
   ]
  },
  {
   "cell_type": "code",
   "execution_count": 47,
   "metadata": {},
   "outputs": [],
   "source": [
    "# functions\n",
    "\n",
    "def init_board(board_size,num_people,exit_locs,sight_radius,state_dic): # TODO: add density\n",
    "    \"\"\" populate board with size r x r with x people\n",
    "        decide where exits are with e list of locations of exits\n",
    "        set remaining walls to 500 \n",
    "        Inputs:\n",
    "            board_size: The size of the board\n",
    "            num_people: The number of people on the board\n",
    "            exit_locs: The locations of the exits given as an array(y,x)\n",
    "            sight_radius: How far the people should be able to see\n",
    "            state_dic: The dictionary of the states and their according number\n",
    "        Outputs:\n",
    "            The board filled with numeric values. Where each state is represented by a certain number\n",
    "            The list of people on the board, this is the list that we can iterate over every time.\n",
    "            Encoding:\n",
    "              0: empty cell\n",
    "              1+: One or more fallen down persons (C)\n",
    "              -1: wall\n",
    "              -2: exit\n",
    "              -3: person in state Ue\n",
    "              -4: person in state Un\n",
    "              -5: person in state Ae\n",
    "              -6: person in state An\n",
    "        \"\"\"\n",
    "\n",
    "    # create board with all walls being 500\n",
    "    board = np.ones((board_size,board_size), dtype = \"int\") * -1\n",
    "    board[1:-1,1:-1] = 0\n",
    "\n",
    "    # add the exit locations\n",
    "    board[exit_locs] = -2\n",
    "\n",
    "    # calculate all possible locations\n",
    "    locations = [[y,x] for x in range(1,board_size-1) for y in range(1,board_size-1)]\n",
    "\n",
    "    if len(locations) >= num_people:\n",
    "        uniq_locations = random.sample(locations,num_people)\n",
    "    else:\n",
    "        raise ValueError('num_people can not be greater than the number of free spaces on the board')\n",
    "\n",
    "    # add the people to the board\n",
    "    person_list = []\n",
    "\n",
    "    exits = [[exit_locs[0][i], exit_locs[1][i]] for i in range(len(exit_locs[0]))]\n",
    "\n",
    "    for i,location in enumerate(uniq_locations):\n",
    "        # set standard state to 'Un' if exit in range set to 'Ue'\n",
    "        pstate = 'Un'\n",
    "        for exit_loc in exits:\n",
    "            if np.sqrt((exit_loc[0]-location[0])**2+(exit_loc[1]-location[1])**2) <= sight_radius:\n",
    "                pstate = 'Ue'\n",
    "        \n",
    "        person_list.append(Pedestrian(location,pstate))\n",
    "\n",
    "        board[location[0], location[1]] = state_dic[pstate]\n",
    "\n",
    "    return board, person_list\n",
    "\n",
    "def get_locations(person_list):\n",
    "    return np.array([person.location for person in person_list])\n",
    "\n",
    "def get_directions(board_size,person_list):\n",
    "    directionmap = np.ones((board_size,board_size,2))*2 # we use [2,2] for empty cells since [0,0] is equal to standing still\n",
    "    for person in person_list:\n",
    "        directionmap[person.location[0],person.location[1],:] = person.direction\n",
    "\n",
    "    return directionmap\n",
    "\n",
    "def get_perceptionmask(sight_radius):\n",
    "    \"\"\"Creates a boolean mask selecting all cells within perception range of a person.\n",
    "    This mask is to be applied on a 2*sight_radius+1 x 2*sight_radius+1 grid with the person in question in the middle.\n",
    "\n",
    "    Inputs:\n",
    "    \"\"\"\n",
    "    mask = np.zeros((2*sight_radius+1, 2*sight_radius+1), dtype = \"bool\")\n",
    "    y_m, x_m = sight_radius, sight_radius # Coordinates of midpoints\n",
    "    perceived_cells = [[y, x] for y in range(2*sight_radius+1) for x in range(2*sight_radius+1) if (y-y_m)**2 + (x-x_m)**2 <= sight_radius**2]\n",
    "    perceived_cells = ([cell[0] for cell in perceived_cells], [cell[1] for cell in perceived_cells])\n",
    "    mask[perceived_cells] = True\n",
    "    mask[y_m, x_m] = False # Don't select the cell itself (middle cell)\n",
    "    return mask\n",
    "\n",
    "\n",
    "def init_S(board_size, S_wall, S_exit, obstacle_locs, exit_locs, mu):\n",
    "    \"\"\"Creates the initial static floor field S.\n",
    "    The static floor field describes the path on the grid which is the shortest way to the exit.\n",
    "    All walls are assumed to be on the outside of the grid.\n",
    "    Inputs:\n",
    "      board_size: Length of the square board\n",
    "      S_wall: Value of the static field for a wall or obstacle\n",
    "      S_exit: Value of the static field for the exit\n",
    "      obstacle_locs: Locations of the obstacles on the grid\n",
    "      exit_locs: Locations of the exit\n",
    "      mu: Ratio of distance when travelling to a neighbouring diagonal cell over travelling to a neighbouring cell on a side\n",
    "    \"\"\"\n",
    "    S = np.ones((board_size, board_size)) * np.inf # Initialise array full of +infinity since filling up S is based on selecting minimum values\n",
    "    side_neighbour_mask = np.zeros((3, 3), dtype = bool)\n",
    "    side_neighbour_mask[0, 1] = side_neighbour_mask[1, 0] = side_neighbour_mask[1, -1] = side_neighbour_mask[-1, 1] = True\n",
    "\n",
    "    diag_neighbour_mask = np.zeros((3,3), dtype = bool)\n",
    "    diag_neighbour_mask[0, 0] = diag_neighbour_mask[0, -1] = diag_neighbour_mask[-1, 0] = diag_neighbour_mask[-1, -1] = True\n",
    "\n",
    "    S[exit_locs] = S_exit\n",
    "\n",
    "    curr_cells = [[exit_locs[0][i], exit_locs[1][i]] for i in range(len(exit_locs[0]))]\n",
    "    next_cells = []\n",
    "    done_cells = []\n",
    "\n",
    "\n",
    "    # The exit cells are the only cells on the border to evaluate and require a special treatment (don't select any cells outside of the existing grid)\n",
    "    for y, x in curr_cells:\n",
    "        for i in np.arange(np.maximum(1, y-1), np.minimum(board_size, y+2)):\n",
    "            for j in np.arange(np.maximum(1, x-1), np.minimum(board_size, x+2)):\n",
    "                if (i, j) != (y, x):\n",
    "                    if ((y-i)+(x-j))%2 == 0: # diagonal neighbour\n",
    "                        S[i,j] = np.minimum(S[y, x] + mu, S[i, j])\n",
    "                    else: # side neighbour\n",
    "                        S[i,j] = np.minimum(S[y, x] + 1, S[i, j])\n",
    "\n",
    "                    next_cells += [[i, j]]\n",
    "\n",
    "                    S[:, 0] = S[:, -1] = S_wall\n",
    "                    S[0, :] = S[-1, :] = S_wall\n",
    "                    if obstacle_locs: # => If the list of obstacles isn't empty\n",
    "                        S[obstacle_locs] = S_wall\n",
    "                    S[exit_locs] = S_exit\n",
    "\n",
    "    while next_cells:\n",
    "        done_cells += curr_cells\n",
    "        curr_cells = next_cells\n",
    "        next_cells = []\n",
    "\n",
    "        for y, x in curr_cells:\n",
    "            S[y-1:y+2, x-1:x+2][side_neighbour_mask] = np.minimum(S[y, x] + 1, S[y-1:y+2, x-1:x+2][side_neighbour_mask])\n",
    "            S[y-1:y+2, x-1:x+2][diag_neighbour_mask] = np.minimum(S[y, x] + mu, S[y-1:y+2, x-1:x+2][diag_neighbour_mask])\n",
    "            next_cells += [[y+i, x+j] for i in range(-1, 2) for j in range(-1, 2) if i != 0 or j != 0 if y+i > 0 and y+i < board_size-1 if x+j > 0 and x+j < board_size-1] # Select all neighbouring cells but not the cell itself\n",
    "            S[:, 0] = S[:, -1] = S_wall\n",
    "            S[0, :] = S[-1, :] = S_wall\n",
    "            if obstacle_locs: # => If the list of obstacles isn't empty\n",
    "                S[obstacle_locs] = S_wall\n",
    "            S[exit_locs] = S_exit\n",
    "            \n",
    "        next_cells = np.unique(next_cells, axis = 0).tolist() # Specify axis or the list of lists will be flattened to 1 list\n",
    "        next_cells = [cell for cell in next_cells if not cell in done_cells]\n",
    "\n",
    "    S[S != S_wall] = np.amax(S[S != S_wall]) - S[S != S_wall]\n",
    "    \n",
    "\n",
    "    return S\n",
    "\n",
    "def init_D(board_size):\n",
    "    \"\"\"Creates the initial dynamic floor field D.\n",
    "    The dynamic floor field describes interactions between pedestrians \n",
    "    (i.e. people don't tend to intentionally sprint into eachother when trying to evacuate)\n",
    "    Inputs:\n",
    "      board_size: Length of the square board\n",
    "    \"\"\"\n",
    "    D = np.zeros((board_size, board_size))\n",
    "\n",
    "    return D\n",
    "\n",
    "def update_D(D, locations, locations_prev, diffusion_factor, decay_factor):\n",
    "    \"\"\"Updates the dynamic floor field D.\n",
    "    Inputs:\n",
    "      D: The previous state of the dynamic floor field.\n",
    "      locations: numpy array with current locations of all persons\n",
    "      locations_prev: numpy array with locations of all persons at previous timestep\n",
    "      diffusion_factor (alpha): describes how the dynamic floor field diffuses through the room\n",
    "      decay_factor (delta): describes how the dynamic floor field decays over time\n",
    "    \"\"\"\n",
    "    neighbour_mask = np.ones((3, 3), dtype = bool)\n",
    "    neighbour_mask[1, 1] = False\n",
    "\n",
    "    D_new = np.copy(D)\n",
    "    for i in range(1, D.shape[0]-1):\n",
    "        for j in range(1, D.shape[1]-1):\n",
    "            D_new[i, j] = (1-diffusion_factor)*(1-decay_factor)*D[i, j] + diffusion_factor*(1-decay_factor)/8 * np.sum(D[i-1:i+2, j-1:j+2][neighbour_mask])\n",
    "\n",
    "    updated_locations = locations[np.where(prev_locations != locations)]\n",
    "    D_new[updated_locations[::2], updated_locations[1::2]] += 1\n",
    "    \n",
    "    return D_new\n",
    "\n",
    "def create_dist_mat(board_size, obstacle_locs):\n",
    "    obstacle_dist = np.zeros((0,board_size,board_size))\n",
    "\n",
    "    # initialize the x and y values of the board\n",
    "\n",
    "    x = y = np.arange(board_size)\n",
    "    x = np.reshape(x,(1,board_size))\n",
    "    x = np.matmul(np.ones((board_size,1)),x)\n",
    "    y = np.reshape(y,(board_size,1))\n",
    "    y = np.matmul(y,np.ones((1,board_size)))\n",
    "\n",
    "    # for every obstacle calculate the distance to every point on the board\n",
    "\n",
    "    for i in range(len(obstacle_locs[0])):\n",
    "        dist_mat = np.sqrt(np.square(y - obstacle_locs[0][i]) + np.square(x - obstacle_locs[1][i]))\n",
    "        dist_mat = np.reshape(dist_mat,(1,board_size,board_size))\n",
    "        obstacle_dist = np.vstack((obstacle_dist,dist_mat))\n",
    "\n",
    "    # take the minimal distance to an obstacle for every point on the board\n",
    "\n",
    "    min_dist_mat = np.amin(obstacle_dist,axis=0)\n",
    "\n",
    "    return min_dist_mat\n",
    "\n",
    "def init_F(board_size, obstacle_locs, Srange):\n",
    "    \"\"\"Creates the event floor field F.\n",
    "    The event floor field describes the efect that a person wants to get away from the stampede.\n",
    "    Inputs:\n",
    "      board_size: Length of the square board\n",
    "      obstacle_locs: Locations of the obstacles/fallen people on the grid\n",
    "    \"\"\"\n",
    "    \n",
    "    F = create_dist_mat(board_size, obstacle_locs)\n",
    "\n",
    "\n",
    "    # give correct values to every point on the board\n",
    "\n",
    "    F[F <= Srange] = -1*np.exp(1/F[F <= Srange])\n",
    "    F[F > Srange] = 0\n",
    "    \n",
    "    return F \n",
    "\n",
    "def calc_tumble(person,sight_radius,ka,kc,board,new_loc):\n",
    "    \"\"\"This function calculates the tumble factor for the move from a persons current position to\n",
    "    Their next position given as [x,y] by new_loc\n",
    "    Inputs:\n",
    "        person: An object of the pedestrian class\n",
    "        sight_radius: How far the humans can see\n",
    "        ka and kc: sensitivity parameters\n",
    "        board: The physical board\n",
    "        new_loc: The wanted new location  \n",
    "    \"\"\"\n",
    "    \n",
    "    if not (board[new_loc] >= 1).all(): # 1+ means there are 1 or more fallen people in the desired cell\n",
    "        return 1\n",
    "    else:\n",
    "        y_person = person.location[0]\n",
    "        x_person = person.location[1]\n",
    "\n",
    "        # Only select cells within grid and not on the border (these are walls)\n",
    "        y_min = max(1, y_person-sight_radius)\n",
    "        y_max = min(board_size-1, y_person+sight_radius+1)\n",
    "        x_min = max(1, x_person-sight_radius)\n",
    "        x_max = min(board_size-1, x_person+sight_radius+1)\n",
    "        neighbouring_cells = board[y_min:y_max, x_min:x_max]\n",
    "\n",
    "        # Only select part of mask that applies to selected cells (if you cut off some cells, the same part of the mask must be cut off)\n",
    "        y_min_mask = y_min - (y_person-sight_radius)\n",
    "        y_max_mask = y_max - (y_person-sight_radius)\n",
    "        x_min_mask = x_min - (x_person-sight_radius)\n",
    "        x_max_mask = x_max - (x_person-sight_radius)\n",
    "        perceptionmask = get_perceptionmask(sight_radius)[y_min_mask:y_max_mask, x_min_mask:x_max_mask]\n",
    "        perceived_cells = neighbouring_cells[perceptionmask]\n",
    "\n",
    "        # perceived_cells that are not 0, -1, -2: other pedestrians\n",
    "        rho_0 = (perceived_cells[perceived_cells <= -3].size + perceived_cells[perceived_cells >= 1].size) / perceived_cells.size \n",
    "\n",
    "        if rho_0 >= 0.64: # more then 4 people/m^2 so trample threshold is exceeded\n",
    "            eps = 1\n",
    "        else:\n",
    "            eps = 0\n",
    "\n",
    "        # theta is de hoek tussen bewegingsrichting van vorige stap en normaal van huidige cell naar cell ij (in het bereik van 0 en 180 graden)\n",
    "        theta = np.arccos(np.dot(np.array(person.direction), np.array([new_loc[i] - person.location[i] for i in range(len(new_loc))]))) % (np.pi/2) \n",
    "        # Assuming directions input as lists rather than numpy arrays\n",
    "        A = np.cos(theta) - 1 # Risk floor field A\n",
    "\n",
    "        alpha = kc*eps*rho_0*np.exp(ka*A)\n",
    "\n",
    "        return alpha\n",
    "\n",
    "\n",
    "def check_state(person,exit_locs):\n",
    "    # possible state: Ue,Un,Ae,An,C,left\n",
    "    \n",
    "    if person.state != 'C':\n",
    "\n",
    "        exits = [[exit_locs[0][i], exit_locs[1][i]] for i in range(len(exit_locs[0]))]\n",
    "\n",
    "        # set standard state to 'Un' if exit in range set to 'Ue'\n",
    "\n",
    "        pstate = 'Un'\n",
    "\n",
    "        for exit_loc in exits:\n",
    "            if person.location == exit_loc:\n",
    "                pstate = 'left'\n",
    "            elif np.sqrt((exit_loc[0]-person.location[0])**2+(exit_loc[1]-person.location[1])**2) <= sight_radius:\n",
    "                pstate = 'Ue'\n",
    "        \n",
    "        # check if affected and state accordingly\n",
    "\n",
    "        affected = create_dist_mat(board_size, obstacle_locs)\n",
    "        affected[affected <= 8] = True\n",
    "        affected[affected > 8] = False\n",
    "\n",
    "        if affected[person.location[0], person.location[1]]:\n",
    "            if pstate == 'Un':\n",
    "                pstate = 'An'\n",
    "            elif pstate == 'Ue':\n",
    "                pstate = 'Ae'\n",
    "\n",
    "        person.state = pstate\n",
    "\n",
    "    return person\n",
    "\n",
    "def check_valid4wallhugger(board, location):\n",
    "    y = location[0]\n",
    "    x = location[1]\n",
    "\n",
    "    if board[y, x] != 0:\n",
    "        return False\n",
    "\n",
    "    neighbour_mask = np.ones((3, 3), dtype = bool)\n",
    "    neighbour_mask[1, 1] = False\n",
    "\n",
    "    return -1 in board[y-1:y+2, x-1:x+2][neighbour_mask]\n",
    "\n",
    "def move_direction(person,board,S,D,F,exit_locs,directionmap,sight_radius,board_size,ks,kd,kf,ka,kc):\n",
    "    \"\"\" this function looks at the current state of the person\n",
    "        based on this state it defines it next movement step\n",
    "        then it defines the chance of this step being taken\n",
    "        lastly it chooses the step with the highest probability and takes it.\n",
    "        Input:\n",
    "            person: An object of the pedestrian class\n",
    "            board: The physical board\n",
    "            S: The static floor field\n",
    "            D: The dynamic floor field\n",
    "            F: The event floor field\n",
    "        Ouput:\n",
    "            The adjusted given pedestrian object\n",
    "    \"\"\"\n",
    "\n",
    "    # calc trans prob for every direction, then max trans prob = movement\n",
    "\n",
    "    # TODO: optimize movement to erase the for loop and instead use matrix multiplication\n",
    "\n",
    "    if person.state != 'C':\n",
    "        y = person.location[0]\n",
    "        x = person.location[1]\n",
    "        pmove = np.zeros((3,3))\n",
    "\n",
    "        if person.state == 'Ue':\n",
    "            for i in range(y-1,y+2):\n",
    "                for j in range(x-1,x+2):\n",
    "                    if [i,j] != [y,x]:\n",
    "                        if [y,x]-[i,j] == person.direction:\n",
    "                            Iine = 1.2\n",
    "                        else:\n",
    "                            Iine = 1\n",
    "\n",
    "                        pmove[i,j] = Iine*np.exp(ks*S[i,j])*(board[i,j] in [6,0])*(board[i,j] != 500)\n",
    "\n",
    "                    else:\n",
    "                        pmove[i,j] = 0\n",
    "            \n",
    "            move = np.asarray(np.unravel_index(np.argmax(pmove, axis=None), pmove.shape)) - [1,1] # note: this gives a list in the format of [y_move,x_move]\n",
    "\n",
    "        elif person.state == 'Un':\n",
    "            for i in range(y-1,y+2):\n",
    "                for j in range(x-1,x+2):\n",
    "                    if [i,j] != [y,x]:\n",
    "                        if [y,x]-[i,j] == person.direction:\n",
    "                            Iine = 1.2\n",
    "                        else:\n",
    "                            Iine = 1\n",
    "\n",
    "                        pmove[i,j] = Iine*np.exp(ks*S[i,j] + kd*D[i,j])*(board[i,j] in [6,0])*(board[i,j] != 500)\n",
    "\n",
    "                    else:\n",
    "                        pmove[i,j] = 0\n",
    "            \n",
    "            move = np.asarray(np.unravel_index(np.argmax(pmove, axis=None), pmove.shape)) - [1,1] # note: this gives a list in the format of [y_move,x_move]\n",
    "\n",
    "        elif person.state == 'Ae':\n",
    "            alphaij = calc_tumble(person,sight_radius,ka,kc,board)\n",
    "            for i in range(y-1,y+2):\n",
    "                for j in range(x-1,x+2):\n",
    "                    if [i,j] != [y,x]:\n",
    "                        if [y,x]-[i,j] == person.direction:\n",
    "                            Iine = 1.2\n",
    "                        else:\n",
    "                            Iine = 1\n",
    "\n",
    "                        pmove[i,j] = Iine*np.exp(ks*S[i,j])*(board[i,j] in [6,0])*(board[i,j] != 500)*alphaij\n",
    "\n",
    "                    else:\n",
    "                        pmove[i,j] = 0\n",
    "            \n",
    "            move = np.asarray(np.unravel_index(np.argmax(pmove, axis=None), pmove.shape)) - [1,1] # note: this gives a list in the format of [y_move,x_move]\n",
    "\n",
    "        elif person.state == 'An':\n",
    "            if person.evac_strat == 'S1':\n",
    "                alphaij = calc_tumble(person,sight_radius,ka,kc,board)\n",
    "                for i in range(y-1,y+2):\n",
    "                    for j in range(x-1,x+2):\n",
    "                        if [i,j] != [y,x]:\n",
    "                            if [y,x]-[i,j] == person.direction:\n",
    "                                Iine = 1.2\n",
    "                            else:\n",
    "                                Iine = 1\n",
    "\n",
    "                            pmove[i,j] = Iine*np.exp(ks*S[i,j] + kd*D[i,j] + kf*F[i,j])*(board[i,j] in [6,0])(board[i,j] != 500)*alphaij\n",
    "\n",
    "                        else:\n",
    "                            pmove[i,j] = 0\n",
    "                \n",
    "                move = np.asarray(np.unravel_index(np.argmax(pmove, axis=None), pmove.shape)) - [1,1] # note: this gives a list in the format of [y_move,x_move]\n",
    "\n",
    "            elif person.evac_strat == 'S2':\n",
    "                dist_mat  = create_dist_mat(board_size, ([person.location[0]],[person.location[1]]))\n",
    "                dist_mat = (dist_mat <= sight_radius)\n",
    "\n",
    "                neighbour_directions = directionmap[dist_mat]\n",
    "                unq, count = np.unique(neighbour_directions, axis=0, return_counts=True)\n",
    "                ind = np.argsort(-count)\n",
    "                if all(unq[ind][0] == [2,2]):\n",
    "                    move = unq[ind][1]\n",
    "                else:\n",
    "                    move = unq[ind][0]\n",
    "\n",
    "            else:\n",
    "                if person.direction = [0,0]: # Standing still\n",
    "                    person.time_down += 1\n",
    "\n",
    "                if person.time_down >= 5: # They have been standing still for a while so they choose a random new direction\n",
    "                    valid_cells = np.where(board[y-1:y+2, x-1:x+2] == 0) # Choose from locations without other people for the new direction\n",
    "                    if valid_cells[0].size == 0: # There is no valid location to go\n",
    "                        move = [0, 0]\n",
    "                    else:\n",
    "                        valid_directions = [[valid_cells[0][i] - 1, valid_cells[1][i] - 1] for i in range(len(valid_cells[0]))]\n",
    "                        ## -1, -1 since movement is related to position of the person in cell [1,1] in their own neighbourhood\n",
    "\n",
    "                        random_dir_ind = np.random.randint(len(valid_directions))\n",
    "                        move = valid_directions[random_dir_ind]\n",
    "\n",
    "                elif board[y + person.direction[0], x + person.direction[1]] == -1: # wall is reached\n",
    "                    mask = np.array([check_valid4wallhugger(board, [i, j]) for i in range(y-1,y+2) for j in range(x-1,x+2)]).reshape(3,3)\n",
    "                    mask[1,1] = True # Current location is always a valid spot despite it not being empty (the person themselves are there)\n",
    "                    valid_cells = np.where(mask)\n",
    "                    ideal_cell_ind = np.argmax(S[y-1:y+2, x-1:x+2][valid_cells])\n",
    "                    move = [valid_cells[0][ideal_cell_ind]-1, valid_cells[1][ideal_cell_ind]-1]\n",
    "\n",
    "                else:\n",
    "                    move = person.direction\n",
    "        \n",
    "        person.direction = move\n",
    "        person.new_location = [y + move[0], x + move[1]]\n",
    "        if board[y + move[0], x + move[1]] >= 1: # Fallen person on the location they are moving, so they trip\n",
    "            person.state = \"C\"\n",
    "            person.time_down = 0\n",
    "            \n",
    "    else:\n",
    "        person.time_down += 1\n",
    "        pstand = 1/(np.exp(1)*np.math.factorial(person.time_down))\n",
    "        if np.random.randint(1,101)/100 <= pstand:\n",
    "            person.state = 'Ue'\n",
    "            person = check_state(person,exit_locs)\n",
    "            person.time_down = 0\n",
    "\n",
    "    return person\n",
    "\n",
    "def check_stampede(people_list,chaos):\n",
    "    states = [person.state for person in people_list]\n",
    "\n",
    "    if all(states == 'left' or states == 'C') and not(chaos):\n",
    "        stampede = False\n",
    "    else:\n",
    "        stampede = True\n",
    "    \n",
    "    return stampede\n",
    "\n",
    "def plot_room(board,state_dic,S_exit,S_wall):\n",
    "    color_map = {0: np.array([255, 255, 255]), # white = empty floor\n",
    "             S_exit: np.array([255, 255, 255]), # white = exits\n",
    "             state_dic['Ue']: np.array([0, 255, 0]), # green = Ue\n",
    "             state_dic['Un']: np.array([0, 0, 255]), # blue = Un\n",
    "             state_dic['Ae']: np.array([255, 0, ]), # red = Ae\n",
    "             state_dic['An']: np.array([255, 153, 51]), # orange = An\n",
    "             state_dic['C']: np.array([255, 255, 0]), # yellow = C\n",
    "             S_wall: np.array([128, 128, 128])} # gray = walls\n",
    "\n",
    "    # make a 3d numpy array that has a color channel dimension   \n",
    "    data_3d = np.ndarray(shape=(board.shape[0], board.shape[1], 3), dtype=int)\n",
    "    for i in range(0, board.shape[0]):\n",
    "        for j in range(0, board.shape[1]):\n",
    "            data_3d[i][j] = color_map[int(board[i][j])]\n",
    "    \n",
    "    return data_3d\n",
    "\n",
    "\n",
    "# classes\n",
    "\n",
    "class Pedestrian:\n",
    "  def __init__(self, location, state):\n",
    "    self.evac_strat = random.choices(['S1','S2','S3'],(50,30,20))[0]\n",
    "    self.location = location # gives location as [y,x]\n",
    "    self.state = state \n",
    "    self.direction = [0,0] # showes the last direction moved eg. [1,0] is left and [0,-1] is down\n",
    "    self.new_location = [0,0]\n",
    "    self.time_down = 0\n"
   ]
  },
  {
   "cell_type": "code",
   "execution_count": 4,
   "metadata": {},
   "outputs": [],
   "source": [
    "# parameters\n",
    "board_size = 30 # size of board \n",
    "num_people = 100 # number of people\n",
    "\n",
    "##b Assigning locations as a tuple of a list with all y-coordinates and a list with all x-coordinates allows for multiple indexing\n",
    "exit_locs = ([int(board_size/2-2), int(board_size/2-1), int(board_size/2), int(board_size/2+1)], [0, 0, 0, 0]) # exit locations (middle of left wall)\n",
    "obstacle_locs = () # No obstacles for now\n",
    "\n",
    "S_wall = 500\n",
    "S_exit = -2\n",
    "mu = 1.5\n",
    "\n",
    "Ts = 1 # occurrence time of the stampede\n",
    "Tc = Ts + 50 # chaos duration\n",
    "\n",
    "kc = 0.5 # sensitivity parameter for tumble factor \n",
    "ka = 1 # sensitivity parameter for tumble factor \n",
    "ks = 5 # sensitivity parameter for the static field\n",
    "kd = 1 # sensitivity parameter for the dynamic field\n",
    "diffusion_factor = 0.3 # aka alpha\n",
    "decay_factor = 0.3 # aka delta\n",
    "sight_radius = 5 # perception radius for each person\n",
    "\n",
    "Srange = 8 # stampede range\n",
    "\n",
    "state_dic = {'C':1,'Ue':-3,'Un':-4,'Ae':-5,'An':-6}\n",
    "# each time step == 0.3s"
   ]
  },
  {
   "cell_type": "code",
   "execution_count": 54,
   "metadata": {},
   "outputs": [
    {
     "output_type": "stream",
     "name": "stdout",
     "text": [
      "[[-1 -1 -1 -1 -1 -1 -1 -1 -1 -1 -1 -1 -1 -1 -1 -1 -1 -1 -1 -1 -1 -1 -1 -1\n  -1 -1 -1 -1 -1 -1]\n [-1  0  0  0 -4  0  0  0  0 -4  0  0  0  0  0 -4  0 -4  0  0  0  0  0 -4\n   0  0  0 -4  0 -1]\n [-1  0  0 -4  0  0  0  0  0  0  0  0  0  0  0  0  0  0  0  0  0  0  0  0\n   0  0  0  0  0 -1]\n [-1  0  0  0  0  0  0  0  0  0  0  0  0  0  0  0  0  0 -4  0 -4 -4  0  0\n   0  0  0  0  0 -1]\n [-1  0  0  0  0 -4  0  0  0  0 -4  0  0  0  0 -4  0  0  0  0 -4 -4  0  0\n   0  0  0  0  0 -1]\n [-1  0  0  0  0  0  0 -4  0  0  0  0  0  0  0  0  0  0 -4  0  0  0  0  0\n   0  0  0  0  0 -1]\n [-1  0  0 -4  0  0  0  0  0  0  0 -4  0  0 -4  0  0  0  0  0  0  0  0  0\n   0  0  0  0  0 -1]\n [-1  0  0  0  0  0 -4 -4 -4  0  0  0  0  0  0  0  0 -4  0  0  0  0  0  0\n   0  0  0  0  0 -1]\n [-1  0  0  0 -4  0  0  0  0  0  0  0  0  0  0  0  0  0 -4  0  0  0  0  0\n  -4  0  0  0  0 -1]\n [-1  0  0  0  0  0  0 -4  0  0  0 -4  0 -4  0  0 -4  0  0  0 -4  0  0  0\n   0  0  0  0 -4 -1]\n [-1 -3  0  0  0 -4  0  0  0  0  0  0 -4  0  0  0  0  0  0  0 -4  0  0  0\n   0  0  0  0  0 -1]\n [-1  0  0 -3  0  0  0  0  0  0  0  0  0 -4  0  0  0  0  0  0  0  0  0  0\n  -4  0  0 -4  0 -1]\n [-1  0  0  0  0  0  0  0  0  0 -4  0  0  0  0  0  0  0  0  0  0  0 -4  0\n   0  0  0 -4  0 -1]\n [-2  0  0 -3 -3  0  0  0  0 -4 -4  0  0  0 -4  0  0  0  0  0  0  0  0  0\n   0  0 -4  0  0 -1]\n [-2  0  0  0  0 -3  0  0  0  0  0 -4  0  0  0 -4  0  0  0  0  0  0  0  0\n   0 -4  0  0  0 -1]\n [-2  0  0  0  0  0  0  0 -4  0  0  0 -4  0  0  0  0  0  0  0  0  0  0  0\n  -4 -4  0  0  0 -1]\n [-2 -3  0  0  0  0  0  0  0  0  0  0  0  0  0  0  0  0  0  0  0  0  0  0\n   0  0  0  0  0 -1]\n [-1 -3  0  0  0 -4  0  0  0  0 -4  0  0  0  0  0  0 -4  0  0  0  0  0  0\n  -4  0  0  0  0 -1]\n [-1  0  0  0  0  0  0 -4  0  0  0  0 -4  0  0  0  0  0  0  0 -4  0  0  0\n   0  0  0  0 -4 -1]\n [-1  0 -3  0 -3  0  0  0  0 -4  0  0  0  0  0  0 -4  0 -4  0  0  0  0  0\n   0  0  0  0  0 -1]\n [-1  0  0  0  0 -4  0  0  0  0  0  0  0  0  0  0 -4  0  0  0  0 -4 -4  0\n   0  0  0 -4  0 -1]\n [-1 -4  0  0  0  0  0  0  0  0  0  0  0  0  0  0  0  0  0  0  0  0  0  0\n   0 -4  0  0  0 -1]\n [-1  0  0  0  0  0  0  0  0  0 -4 -4  0  0  0  0 -4  0  0  0  0  0  0  0\n   0  0  0  0  0 -1]\n [-1  0  0  0  0  0  0 -4  0  0  0  0  0  0  0  0  0  0  0  0 -4 -4  0  0\n   0  0  0  0  0 -1]\n [-1  0  0  0  0  0  0  0  0  0  0 -4  0  0  0  0  0  0  0  0  0  0  0  0\n   0  0  0  0  0 -1]\n [-1  0 -4  0  0  0  0  0  0  0  0  0  0  0  0  0  0  0  0  0  0  0  0  0\n  -4 -4  0  0  0 -1]\n [-1  0  0  0  0  0  0  0  0 -4  0  0  0 -4  0  0  0  0  0  0  0  0  0  0\n  -4  0  0  0  0 -1]\n [-1  0  0  0  0  0  0  0  0 -4  0  0  0  0 -4  0  0  0  0  0  0 -4  0  0\n   0  0  0 -4  0 -1]\n [-1  0  0  0  0  0  0  0  0  0  0  0  0  0  0  0 -4  0  0  0 -4  0  0  0\n   0  0 -4  0  0 -1]\n [-1 -1 -1 -1 -1 -1 -1 -1 -1 -1 -1 -1 -1 -1 -1 -1 -1 -1 -1 -1 -1 -1 -1 -1\n  -1 -1 -1 -1 -1 -1]]\n"
     ]
    }
   ],
   "source": [
    "board, person_list = init_board(board_size,num_people,exit_locs,sight_radius,state_dic) \n",
    "S = init_S(board_size, S_wall, S_exit, obstacle_locs, exit_locs, mu)\n",
    "D = init_D(board_size)\n",
    "directionsmap = get_directions(board_size,person_list)\n",
    "dist_mat  = create_dist_mat(board_size, ([person_list[1].location[0]],[person_list[1].location[1]]))\n",
    "dist_mat = (dist_mat <= sight_radius)\n",
    "unq, count = np.unique(directionsmap[dist_mat], axis=0, return_counts=True)\n",
    "ind = np.argsort(-count)\n",
    "print(all(unq[ind][0] == [2,2]))\n",
    "print(unq[ind][1])\n",
    "print(unq,count)"
   ]
  },
  {
   "cell_type": "code",
   "execution_count": 6,
   "metadata": {},
   "outputs": [
    {
     "output_type": "error",
     "ename": "IndentationError",
     "evalue": "expected an indented block (<ipython-input-6-38d1f71e444f>, line 81)",
     "traceback": [
      "\u001b[1;36m  File \u001b[1;32m\"<ipython-input-6-38d1f71e444f>\"\u001b[1;36m, line \u001b[1;32m81\u001b[0m\n\u001b[1;33m    for #non dupes:\u001b[0m\n\u001b[1;37m    ^\u001b[0m\n\u001b[1;31mIndentationError\u001b[0m\u001b[1;31m:\u001b[0m expected an indented block\n"
     ]
    }
   ],
   "source": [
    "# main function\n",
    "\n",
    "# fill board with people and initialize them\n",
    "\n",
    "board, person_list = init_board(board_size,num_people,exit_locs,sight_radius,state_dic) \n",
    "\n",
    "# add starting board to stampede clip, this will later be transformed to a gif.\n",
    "\n",
    "stampede_clip = np.zeros((0,board_size,board_size,3))\n",
    "temp = np.reshape(plot_room(board),(1,board_size,board_size,3))\n",
    "stampede_clip = np.vstack((stampede_clip,temp))\n",
    "\n",
    "time = 1\n",
    "\n",
    "stampede = True\n",
    "chaos = False\n",
    "\n",
    "S = init_S(board_size, S_wall, S_exit, obstacle_locs, exit_locs, mu)\n",
    "D = init_D(board_size)\n",
    "\n",
    "while stampede:\n",
    "\n",
    "    if time == Ts:\n",
    "        chaos = True\n",
    "        x = random.randint(0,len(person_list))\n",
    "        person_list[x].state = 'C'\n",
    "        person_list[x].time_down = 1\n",
    "        c_loc = person_list[x].location\n",
    "        board[c_loc[0],c_loc[1]] = state_dic['C']\n",
    "        \n",
    "    \n",
    "    if time > Tc:\n",
    "        chaos = False\n",
    "        S = init_S(board_size, S_wall, S_exit, obstacle_locs, exit_locs, mu)\n",
    "        # change evacuation strategy of others to normal\n",
    "        # change to fall = 0\n",
    "\n",
    "    # step 2: iterate over every person in person_list\n",
    "\n",
    "    if time > 1:\n",
    "        D = update_D(D, locations, prev_locations)\n",
    "\n",
    "    if time > 1 and obstacle_locs != prev_obstacle_locs:\n",
    "        # note that Fij is -inf if there is an obstacle/fallen person on Fij\n",
    "        F = init_F(board_size, obstacle_locs, Srange)\n",
    "\n",
    "    prev_obstacle_locs = obstacle_locs\n",
    "    prev_locations = get_locations(person_list)\n",
    "    directionmap = get_directions(board_size,person_list)\n",
    "\n",
    "    for person in person_list:\n",
    "        \n",
    "        # calculate state of person\n",
    "\n",
    "        person = check_state(person,exit_locs)\n",
    "        \n",
    "        # if person has been evacuated, remove from person list\n",
    "\n",
    "        if person.state == 'left':\n",
    "            person_list.remove(person)\n",
    "            continue\n",
    "\n",
    "        # calculate movement of each person \n",
    "        # or if person.state = 'C' calculate chance of getting up\n",
    "\n",
    "        person = move_direction(person,board)\n",
    "    \n",
    "    next_locations = np.array([person.new_location for person in person_list if person.state != 'C'])\n",
    "\n",
    "    # find duplicate locations in next_locations list and put in dupes\n",
    "\n",
    "    dupes, count = np.unique(next_locations, axis=0, return_counts=True)\n",
    "    non_dupes = dupes[count == 1]\n",
    "    dupes = dupes[count > 1]\n",
    "\n",
    "    if dupes:\n",
    "\n",
    "        for dupe in dupes:\n",
    "            # for all dupes calc which person moves and set its location to new location\n",
    "            # The other persons stay in there original location and thus don't need to be adjusted\n",
    "            people_moving = person_list[np.all(next_locations == dupe,axis=1)]\n",
    "            people_moving = np.random.shuffle(people_moving)\n",
    "            picked = people_moving[0]\n",
    "            picked.location = picked.new_location\n",
    "        \n",
    "        for non_dupe in non_dupes:\n",
    "            # set location to new locations\n",
    "            person_moving = person_list[np.all(next_locations == non_dupe,axis=1)]\n",
    "            person_moving.location = person_moving.new_location\n",
    "    \n",
    "    else:\n",
    "        for person in person_list:\n",
    "            person.location = person.new_location\n",
    "\n",
    "    # check if stampede is over\n",
    "\n",
    "    stampede = check_stampede(person_list,chaos)\n",
    "\n",
    "    # write current board to total\n",
    "    temp = np.reshape(plot_room(board),(1,board_size,board_size,3))\n",
    "    stampede_clip = np.vstack((stampede_clip,temp))\n",
    "    time += 1\n",
    "\n",
    "print(f\"The stampede lasted {time} seconds.\")\n"
   ]
  },
  {
   "cell_type": "code",
   "execution_count": 61,
   "metadata": {},
   "outputs": [
    {
     "output_type": "stream",
     "name": "stdout",
     "text": [
      "[[0 1]]\n[[2 3]]\n[[4 5]]\n"
     ]
    }
   ],
   "source": [
    "a = np.array([[0,1],[2,3],[4,5]])\n",
    "for b in a:\n",
    "    print(a[np.all(a == b,axis=1)])"
   ]
  },
  {
   "cell_type": "code",
   "execution_count": 7,
   "metadata": {},
   "outputs": [
    {
     "output_type": "execute_result",
     "data": {
      "text/plain": [
       "<matplotlib.image.AxesImage at 0x1fbd52c5820>"
      ]
     },
     "metadata": {},
     "execution_count": 7
    },
    {
     "output_type": "display_data",
     "data": {
      "text/plain": "<Figure size 432x288 with 1 Axes>",
      "image/svg+xml": "<?xml version=\"1.0\" encoding=\"utf-8\" standalone=\"no\"?>\r\n<!DOCTYPE svg PUBLIC \"-//W3C//DTD SVG 1.1//EN\"\r\n  \"http://www.w3.org/Graphics/SVG/1.1/DTD/svg11.dtd\">\r\n<svg height=\"248.693344pt\" version=\"1.1\" viewBox=\"0 0 251.565 248.693344\" width=\"251.565pt\" xmlns=\"http://www.w3.org/2000/svg\" xmlns:xlink=\"http://www.w3.org/1999/xlink\">\r\n <metadata>\r\n  <rdf:RDF xmlns:cc=\"http://creativecommons.org/ns#\" xmlns:dc=\"http://purl.org/dc/elements/1.1/\" xmlns:rdf=\"http://www.w3.org/1999/02/22-rdf-syntax-ns#\">\r\n   <cc:Work>\r\n    <dc:type rdf:resource=\"http://purl.org/dc/dcmitype/StillImage\"/>\r\n    <dc:date>2021-05-16T17:31:54.796863</dc:date>\r\n    <dc:format>image/svg+xml</dc:format>\r\n    <dc:creator>\r\n     <cc:Agent>\r\n      <dc:title>Matplotlib v3.4.1, https://matplotlib.org/</dc:title>\r\n     </cc:Agent>\r\n    </dc:creator>\r\n   </cc:Work>\r\n  </rdf:RDF>\r\n </metadata>\r\n <defs>\r\n  <style type=\"text/css\">*{stroke-linecap:butt;stroke-linejoin:round;}</style>\r\n </defs>\r\n <g id=\"figure_1\">\r\n  <g id=\"patch_1\">\r\n   <path d=\"M 0 248.693344 \r\nL 251.565 248.693344 \r\nL 251.565 0 \r\nL 0 0 \r\nz\r\n\" style=\"fill:none;\"/>\r\n  </g>\r\n  <g id=\"axes_1\">\r\n   <g id=\"patch_2\">\r\n    <path d=\"M 26.925 224.815219 \r\nL 244.365 224.815219 \r\nL 244.365 7.375219 \r\nL 26.925 7.375219 \r\nz\r\n\" style=\"fill:#ffffff;\"/>\r\n   </g>\r\n   <g clip-path=\"url(#pee2b8721b4)\">\r\n    <image height=\"218\" id=\"image701472f9b1\" transform=\"scale(1 -1)translate(0 -218)\" width=\"218\" x=\"26.925\" xlink:href=\"data:image/png;base64,\r\niVBORw0KGgoAAAANSUhEUgAAANoAAADaCAYAAADAHVzbAAAE3klEQVR4nO3dMW7cRhiA0VXgNhdw4QukSelGdW4hQFWKnCdFKp0jbVQk6nIGF7qAD6AUqZcESMzH4e57LSEtl/KHAX6anIent+ePCzDUD0efANwDoUFAaBAQGgSEBgGhQeDT0sGXL69DPvSXzz9fPfbn+79DPvNsbukanem77DnX52+PV49Z0SAgNAgIDQJCg4DQICA0CAgNAov30UY5072Ty+WY8x31mWe6p3WEUdfAigYBoUFAaBAQGgSEBgGhQeCQ8f4oW0fXZxtr7xnRn+27XjPjLZklVjQICA0CQoOA0CAgNAgIDQI3Nd7fOtI926h4tvNZM+J8137n1lsgo55usKJBQGgQEBoEhAYBoUFAaBC4qfH+Vmcbl7Nutr+pFQ0CQoOA0CAgNAgIDQJCg4DQIHBT99FGPeIw28YQs53PmrXHkK65pc1FrGgQEBoEhAYBoUFAaBAQGgQent6eP64dfP/6ffMvnnHMzHZnu6Uwwtptis///Hj1mBUNAkKDgNAgIDQICA0CQoPA4nj/5ctreS43Z8aR+IzndCuevz1ePWZFg4DQICA0CAgNAkKDgNAgcFMv55nNjOPyEft8z/g9t7KHNZyY0CAgNAgIDQJCg4DQICA0CAy7j/b4269Xj73+/seoj53K1s0dLpf57k3Ndj6j2OQCTkxoEBAaBIQGAaFBQGgQGDbe3zrCXxuJn2nMfKZzZSwrGgSEBgGhQUBoEBAaBIQGgdO9Bete3sY0iuu3/Rqs72F9/ZgVDQJCg4DQICA0CAgNAkKDwKe//v7p+tED9rC+lxHzKHteCHQvto7w1/5t2sMaDiY0CAgNAkKDgNAgIDQICA0Ci4/JLG1Ucbncz2YVZ7LnPuS9PEJzxPe0okFAaBAQGgSEBgGhQUBoEFgc76+N79fG/1vsuWUw6u1GZxpt7/kue67RVkdc2yM+04oGAaFBQGgQEBoEhAYBoUFguj2s9zwxMOrtRmcy6ruMeipglBF/b5tcwOSEBgGhQUBoEBAaBIQGAaFB4OHp7fnj2sGXA3aTuZdHVmb8HmfaiWbG62c3GTiY0CAgNAgIDQJCg4DQIDDsMZklS4/CvL7fzsYZRzxasuczZxyZ3worGgSEBgGhQUBoEBAaBIQGgUPG+/a+XnfEqP1MTxuMespj1DWwokFAaBAQGgSEBgGhQUBoEDhkvD/bGHnGFwLNdo32GPFdZtzMY4kVDQJCg4DQICA0CAgNAkKDgNAgsLjJxfvX74s/7P7SshnPdcZzuuZM53q52OQCDic0CAgNAkKDgNAgIDQITLeHNZyV8T4cTGgQEBoEhAYBoUFAaBBYfAvW1n2UL5cxmwzs+b2zuZfvucfZ/vf+EisaBIQGAaFBQGgQEBoEhAaBxfH+ESPUs41tl+y5PXIvbmmEv8SKBgGhQUBoEBAaBIQGAaFBQGgQOGSz+NmMemTllu4DjXIv18iKBgGhQUBoEBAaBIQGAaFBwHj/sm/EPNtjHt6u9b/Z/i5WNAgIDQJCg4DQICA0CAgNAncz3h817p1tXD7b+Rxl6TocMfq3okFAaBAQGgSEBgGhQUBoEDhkvH/EeHXruHftZznf9Tti9G9Fg4DQICA0CAgNAkKDgNAgIDQIPDy9PX8cfRJw66xoEBAaBIQGAaFBQGgQEBoE/gMV5G+3qeCGMwAAAABJRU5ErkJggg==\" y=\"-6.815219\"/>\r\n   </g>\r\n   <g id=\"matplotlib.axis_1\">\r\n    <g id=\"xtick_1\">\r\n     <g id=\"line2d_1\">\r\n      <defs>\r\n       <path d=\"M 0 0 \r\nL 0 3.5 \r\n\" id=\"m14e525e34b\" style=\"stroke:#000000;stroke-width:0.8;\"/>\r\n      </defs>\r\n      <g>\r\n       <use style=\"stroke:#000000;stroke-width:0.8;\" x=\"30.549\" xlink:href=\"#m14e525e34b\" y=\"224.815219\"/>\r\n      </g>\r\n     </g>\r\n     <g id=\"text_1\">\r\n      <!-- 0 -->\r\n      <g transform=\"translate(27.36775 239.413656)scale(0.1 -0.1)\">\r\n       <defs>\r\n        <path d=\"M 2034 4250 \r\nQ 1547 4250 1301 3770 \r\nQ 1056 3291 1056 2328 \r\nQ 1056 1369 1301 889 \r\nQ 1547 409 2034 409 \r\nQ 2525 409 2770 889 \r\nQ 3016 1369 3016 2328 \r\nQ 3016 3291 2770 3770 \r\nQ 2525 4250 2034 4250 \r\nz\r\nM 2034 4750 \r\nQ 2819 4750 3233 4129 \r\nQ 3647 3509 3647 2328 \r\nQ 3647 1150 3233 529 \r\nQ 2819 -91 2034 -91 \r\nQ 1250 -91 836 529 \r\nQ 422 1150 422 2328 \r\nQ 422 3509 836 4129 \r\nQ 1250 4750 2034 4750 \r\nz\r\n\" id=\"DejaVuSans-30\" transform=\"scale(0.015625)\"/>\r\n       </defs>\r\n       <use xlink:href=\"#DejaVuSans-30\"/>\r\n      </g>\r\n     </g>\r\n    </g>\r\n    <g id=\"xtick_2\">\r\n     <g id=\"line2d_2\">\r\n      <g>\r\n       <use style=\"stroke:#000000;stroke-width:0.8;\" x=\"66.789\" xlink:href=\"#m14e525e34b\" y=\"224.815219\"/>\r\n      </g>\r\n     </g>\r\n     <g id=\"text_2\">\r\n      <!-- 5 -->\r\n      <g transform=\"translate(63.60775 239.413656)scale(0.1 -0.1)\">\r\n       <defs>\r\n        <path d=\"M 691 4666 \r\nL 3169 4666 \r\nL 3169 4134 \r\nL 1269 4134 \r\nL 1269 2991 \r\nQ 1406 3038 1543 3061 \r\nQ 1681 3084 1819 3084 \r\nQ 2600 3084 3056 2656 \r\nQ 3513 2228 3513 1497 \r\nQ 3513 744 3044 326 \r\nQ 2575 -91 1722 -91 \r\nQ 1428 -91 1123 -41 \r\nQ 819 9 494 109 \r\nL 494 744 \r\nQ 775 591 1075 516 \r\nQ 1375 441 1709 441 \r\nQ 2250 441 2565 725 \r\nQ 2881 1009 2881 1497 \r\nQ 2881 1984 2565 2268 \r\nQ 2250 2553 1709 2553 \r\nQ 1456 2553 1204 2497 \r\nQ 953 2441 691 2322 \r\nL 691 4666 \r\nz\r\n\" id=\"DejaVuSans-35\" transform=\"scale(0.015625)\"/>\r\n       </defs>\r\n       <use xlink:href=\"#DejaVuSans-35\"/>\r\n      </g>\r\n     </g>\r\n    </g>\r\n    <g id=\"xtick_3\">\r\n     <g id=\"line2d_3\">\r\n      <g>\r\n       <use style=\"stroke:#000000;stroke-width:0.8;\" x=\"103.029\" xlink:href=\"#m14e525e34b\" y=\"224.815219\"/>\r\n      </g>\r\n     </g>\r\n     <g id=\"text_3\">\r\n      <!-- 10 -->\r\n      <g transform=\"translate(96.6665 239.413656)scale(0.1 -0.1)\">\r\n       <defs>\r\n        <path d=\"M 794 531 \r\nL 1825 531 \r\nL 1825 4091 \r\nL 703 3866 \r\nL 703 4441 \r\nL 1819 4666 \r\nL 2450 4666 \r\nL 2450 531 \r\nL 3481 531 \r\nL 3481 0 \r\nL 794 0 \r\nL 794 531 \r\nz\r\n\" id=\"DejaVuSans-31\" transform=\"scale(0.015625)\"/>\r\n       </defs>\r\n       <use xlink:href=\"#DejaVuSans-31\"/>\r\n       <use x=\"63.623047\" xlink:href=\"#DejaVuSans-30\"/>\r\n      </g>\r\n     </g>\r\n    </g>\r\n    <g id=\"xtick_4\">\r\n     <g id=\"line2d_4\">\r\n      <g>\r\n       <use style=\"stroke:#000000;stroke-width:0.8;\" x=\"139.269\" xlink:href=\"#m14e525e34b\" y=\"224.815219\"/>\r\n      </g>\r\n     </g>\r\n     <g id=\"text_4\">\r\n      <!-- 15 -->\r\n      <g transform=\"translate(132.9065 239.413656)scale(0.1 -0.1)\">\r\n       <use xlink:href=\"#DejaVuSans-31\"/>\r\n       <use x=\"63.623047\" xlink:href=\"#DejaVuSans-35\"/>\r\n      </g>\r\n     </g>\r\n    </g>\r\n    <g id=\"xtick_5\">\r\n     <g id=\"line2d_5\">\r\n      <g>\r\n       <use style=\"stroke:#000000;stroke-width:0.8;\" x=\"175.509\" xlink:href=\"#m14e525e34b\" y=\"224.815219\"/>\r\n      </g>\r\n     </g>\r\n     <g id=\"text_5\">\r\n      <!-- 20 -->\r\n      <g transform=\"translate(169.1465 239.413656)scale(0.1 -0.1)\">\r\n       <defs>\r\n        <path d=\"M 1228 531 \r\nL 3431 531 \r\nL 3431 0 \r\nL 469 0 \r\nL 469 531 \r\nQ 828 903 1448 1529 \r\nQ 2069 2156 2228 2338 \r\nQ 2531 2678 2651 2914 \r\nQ 2772 3150 2772 3378 \r\nQ 2772 3750 2511 3984 \r\nQ 2250 4219 1831 4219 \r\nQ 1534 4219 1204 4116 \r\nQ 875 4013 500 3803 \r\nL 500 4441 \r\nQ 881 4594 1212 4672 \r\nQ 1544 4750 1819 4750 \r\nQ 2544 4750 2975 4387 \r\nQ 3406 4025 3406 3419 \r\nQ 3406 3131 3298 2873 \r\nQ 3191 2616 2906 2266 \r\nQ 2828 2175 2409 1742 \r\nQ 1991 1309 1228 531 \r\nz\r\n\" id=\"DejaVuSans-32\" transform=\"scale(0.015625)\"/>\r\n       </defs>\r\n       <use xlink:href=\"#DejaVuSans-32\"/>\r\n       <use x=\"63.623047\" xlink:href=\"#DejaVuSans-30\"/>\r\n      </g>\r\n     </g>\r\n    </g>\r\n    <g id=\"xtick_6\">\r\n     <g id=\"line2d_6\">\r\n      <g>\r\n       <use style=\"stroke:#000000;stroke-width:0.8;\" x=\"211.749\" xlink:href=\"#m14e525e34b\" y=\"224.815219\"/>\r\n      </g>\r\n     </g>\r\n     <g id=\"text_6\">\r\n      <!-- 25 -->\r\n      <g transform=\"translate(205.3865 239.413656)scale(0.1 -0.1)\">\r\n       <use xlink:href=\"#DejaVuSans-32\"/>\r\n       <use x=\"63.623047\" xlink:href=\"#DejaVuSans-35\"/>\r\n      </g>\r\n     </g>\r\n    </g>\r\n   </g>\r\n   <g id=\"matplotlib.axis_2\">\r\n    <g id=\"ytick_1\">\r\n     <g id=\"line2d_7\">\r\n      <defs>\r\n       <path d=\"M 0 0 \r\nL -3.5 0 \r\n\" id=\"m2bf8025b41\" style=\"stroke:#000000;stroke-width:0.8;\"/>\r\n      </defs>\r\n      <g>\r\n       <use style=\"stroke:#000000;stroke-width:0.8;\" x=\"26.925\" xlink:href=\"#m2bf8025b41\" y=\"10.999219\"/>\r\n      </g>\r\n     </g>\r\n     <g id=\"text_7\">\r\n      <!-- 0 -->\r\n      <g transform=\"translate(13.5625 14.798437)scale(0.1 -0.1)\">\r\n       <use xlink:href=\"#DejaVuSans-30\"/>\r\n      </g>\r\n     </g>\r\n    </g>\r\n    <g id=\"ytick_2\">\r\n     <g id=\"line2d_8\">\r\n      <g>\r\n       <use style=\"stroke:#000000;stroke-width:0.8;\" x=\"26.925\" xlink:href=\"#m2bf8025b41\" y=\"47.239219\"/>\r\n      </g>\r\n     </g>\r\n     <g id=\"text_8\">\r\n      <!-- 5 -->\r\n      <g transform=\"translate(13.5625 51.038437)scale(0.1 -0.1)\">\r\n       <use xlink:href=\"#DejaVuSans-35\"/>\r\n      </g>\r\n     </g>\r\n    </g>\r\n    <g id=\"ytick_3\">\r\n     <g id=\"line2d_9\">\r\n      <g>\r\n       <use style=\"stroke:#000000;stroke-width:0.8;\" x=\"26.925\" xlink:href=\"#m2bf8025b41\" y=\"83.479219\"/>\r\n      </g>\r\n     </g>\r\n     <g id=\"text_9\">\r\n      <!-- 10 -->\r\n      <g transform=\"translate(7.2 87.278437)scale(0.1 -0.1)\">\r\n       <use xlink:href=\"#DejaVuSans-31\"/>\r\n       <use x=\"63.623047\" xlink:href=\"#DejaVuSans-30\"/>\r\n      </g>\r\n     </g>\r\n    </g>\r\n    <g id=\"ytick_4\">\r\n     <g id=\"line2d_10\">\r\n      <g>\r\n       <use style=\"stroke:#000000;stroke-width:0.8;\" x=\"26.925\" xlink:href=\"#m2bf8025b41\" y=\"119.719219\"/>\r\n      </g>\r\n     </g>\r\n     <g id=\"text_10\">\r\n      <!-- 15 -->\r\n      <g transform=\"translate(7.2 123.518437)scale(0.1 -0.1)\">\r\n       <use xlink:href=\"#DejaVuSans-31\"/>\r\n       <use x=\"63.623047\" xlink:href=\"#DejaVuSans-35\"/>\r\n      </g>\r\n     </g>\r\n    </g>\r\n    <g id=\"ytick_5\">\r\n     <g id=\"line2d_11\">\r\n      <g>\r\n       <use style=\"stroke:#000000;stroke-width:0.8;\" x=\"26.925\" xlink:href=\"#m2bf8025b41\" y=\"155.959219\"/>\r\n      </g>\r\n     </g>\r\n     <g id=\"text_11\">\r\n      <!-- 20 -->\r\n      <g transform=\"translate(7.2 159.758437)scale(0.1 -0.1)\">\r\n       <use xlink:href=\"#DejaVuSans-32\"/>\r\n       <use x=\"63.623047\" xlink:href=\"#DejaVuSans-30\"/>\r\n      </g>\r\n     </g>\r\n    </g>\r\n    <g id=\"ytick_6\">\r\n     <g id=\"line2d_12\">\r\n      <g>\r\n       <use style=\"stroke:#000000;stroke-width:0.8;\" x=\"26.925\" xlink:href=\"#m2bf8025b41\" y=\"192.199219\"/>\r\n      </g>\r\n     </g>\r\n     <g id=\"text_12\">\r\n      <!-- 25 -->\r\n      <g transform=\"translate(7.2 195.998437)scale(0.1 -0.1)\">\r\n       <use xlink:href=\"#DejaVuSans-32\"/>\r\n       <use x=\"63.623047\" xlink:href=\"#DejaVuSans-35\"/>\r\n      </g>\r\n     </g>\r\n    </g>\r\n   </g>\r\n   <g id=\"patch_3\">\r\n    <path d=\"M 26.925 224.815219 \r\nL 26.925 7.375219 \r\n\" style=\"fill:none;stroke:#000000;stroke-linecap:square;stroke-linejoin:miter;stroke-width:0.8;\"/>\r\n   </g>\r\n   <g id=\"patch_4\">\r\n    <path d=\"M 244.365 224.815219 \r\nL 244.365 7.375219 \r\n\" style=\"fill:none;stroke:#000000;stroke-linecap:square;stroke-linejoin:miter;stroke-width:0.8;\"/>\r\n   </g>\r\n   <g id=\"patch_5\">\r\n    <path d=\"M 26.925 224.815219 \r\nL 244.365 224.815219 \r\n\" style=\"fill:none;stroke:#000000;stroke-linecap:square;stroke-linejoin:miter;stroke-width:0.8;\"/>\r\n   </g>\r\n   <g id=\"patch_6\">\r\n    <path d=\"M 26.925 7.375219 \r\nL 244.365 7.375219 \r\n\" style=\"fill:none;stroke:#000000;stroke-linecap:square;stroke-linejoin:miter;stroke-width:0.8;\"/>\r\n   </g>\r\n  </g>\r\n </g>\r\n <defs>\r\n  <clipPath id=\"pee2b8721b4\">\r\n   <rect height=\"217.44\" width=\"217.44\" x=\"26.925\" y=\"7.375219\"/>\r\n  </clipPath>\r\n </defs>\r\n</svg>\r\n",
      "image/png": "[encoded data removed]"
     },
     "metadata": {
      "needs_background": "light"
     }
    }
   ],
   "source": [
    "plt.imshow(board)"
   ]
  },
  {
   "cell_type": "code",
   "execution_count": 8,
   "metadata": {},
   "outputs": [
    {
     "output_type": "execute_result",
     "data": {
      "text/plain": [
       "<matplotlib.image.AxesImage at 0x1fbd5392c70>"
      ]
     },
     "metadata": {},
     "execution_count": 8
    },
    {
     "output_type": "display_data",
     "data": {
      "text/plain": "<Figure size 432x288 with 1 Axes>",
      "image/svg+xml": "<?xml version=\"1.0\" encoding=\"utf-8\" standalone=\"no\"?>\r\n<!DOCTYPE svg PUBLIC \"-//W3C//DTD SVG 1.1//EN\"\r\n  \"http://www.w3.org/Graphics/SVG/1.1/DTD/svg11.dtd\">\r\n<svg height=\"248.693344pt\" version=\"1.1\" viewBox=\"0 0 251.565 248.693344\" width=\"251.565pt\" xmlns=\"http://www.w3.org/2000/svg\" xmlns:xlink=\"http://www.w3.org/1999/xlink\">\r\n <metadata>\r\n  <rdf:RDF xmlns:cc=\"http://creativecommons.org/ns#\" xmlns:dc=\"http://purl.org/dc/elements/1.1/\" xmlns:rdf=\"http://www.w3.org/1999/02/22-rdf-syntax-ns#\">\r\n   <cc:Work>\r\n    <dc:type rdf:resource=\"http://purl.org/dc/dcmitype/StillImage\"/>\r\n    <dc:date>2021-05-16T17:31:59.192814</dc:date>\r\n    <dc:format>image/svg+xml</dc:format>\r\n    <dc:creator>\r\n     <cc:Agent>\r\n      <dc:title>Matplotlib v3.4.1, https://matplotlib.org/</dc:title>\r\n     </cc:Agent>\r\n    </dc:creator>\r\n   </cc:Work>\r\n  </rdf:RDF>\r\n </metadata>\r\n <defs>\r\n  <style type=\"text/css\">*{stroke-linecap:butt;stroke-linejoin:round;}</style>\r\n </defs>\r\n <g id=\"figure_1\">\r\n  <g id=\"patch_1\">\r\n   <path d=\"M 0 248.693344 \r\nL 251.565 248.693344 \r\nL 251.565 0 \r\nL 0 0 \r\nz\r\n\" style=\"fill:none;\"/>\r\n  </g>\r\n  <g id=\"axes_1\">\r\n   <g id=\"patch_2\">\r\n    <path d=\"M 26.925 224.815219 \r\nL 244.365 224.815219 \r\nL 244.365 7.375219 \r\nL 26.925 7.375219 \r\nz\r\n\" style=\"fill:#ffffff;\"/>\r\n   </g>\r\n   <g clip-path=\"url(#pc605081ba1)\">\r\n    <image height=\"218\" id=\"imagebb6a6625fb\" transform=\"scale(1 -1)translate(0 -218)\" width=\"218\" x=\"26.925\" xlink:href=\"data:image/png;base64,\r\niVBORw0KGgoAAAANSUhEUgAAANoAAADaCAYAAADAHVzbAAAFKklEQVR4nO3dTW4cRQCA0R7LR8mKHVyAHUjhvCxyCcQpyCliszBIbFxtVaW+9pj3ttakPfZ8Kal+XLdvXz89H8BWD1d/A/B/IDQICA0CQoOA0CAgNAg8jr74+Yefx69++v4rA8/PF6w2PD31z1x5nwvf7/TPd+V3/Tz3/T5f8MyV38uXv/589WtGNAgIDQJCg4DQICA0CAgNAkKDwHAd7dTDbe51g/WR223y3zwW1ogeFv6/uWINjrtjRIOA0CAgNAgIDQJCg4DQIDCe3r+ddDh7FGF2WeA4tiwNLB3NGS0NjKb+z77X0fc0+8xj/DMa/hxGv7Oz4yyjz9HgM3QbPPP0CM3kM4e/l4XPiRENAkKDgNAgIDQICA0CQoPA2u79s+n/18wuCxzHJScGLvnLXHwoRjQICA0CQoOA0CAgNAgIDQLj6f2zqfTZSwhmlwWOY8+JgZP3Mb/jfX6X/fQu8rM/NDR47pad/ccx/vlu2Nn/8tLv/8zTExcDRjQICA0CQoOA0CAgNAgIDQJCg8C7u+Ti1I6jObvWC+EfRjQICA0CQoOA0CAgNAgIDQInl1wsXMQwsumSiytsOUJzHPMXZJz9TiaP7ky/z+OYP6I0e5zlWLggY+GZI0Y0CAgNAkKDgNAgIDQICA0Ci5dcTE7TL90Z3U8VL93fDIcRDRJCg4DQICA0CAgNAkKDwMnu/ZMOZ3czr+w+vyNrO94nL8hYOXGxYWf/yyMnL8iYXa45jukLMqZ39p8wokFAaBAQGgSEBgGhQUBoEBAaBBaPyWy4cGJpHahfk3GEhrcwokFAaBAQGgSEBgGhQUBoEBhP77vbeZu1oyWTR2heHjx66JZnzl8EsrB0MvlXz6aP0JwwokFAaBAQGgSEBgGhQUBoEFjbvX/FhRPT09P9VLGd/fzLiAYBoUFAaBAQGgSEBgGhQeDxt59+HXzZFPRV5ne8n/zfOXtBxqZnbtnZfxxblpdGO/vPGNEgIDQICA0CQoOA0CAgNAgIDQJCg4DQICA0CAgNAkKDgNAgIDQICA0CQoOA0CAgNAgIDQJCg4DQICA0CAgNAkKDgNAgIDQICA0CQoOA0CDw+PsfX1794ucffwm/Ff5reJPKyOi2mPOH5s+cf58LNx0NbowZv2z+mUY0CAgNAkKDgNAgIDQICA0Cj0uvnp3unJxefXnt/UwHLz2TD8WIBgGhQUBoEBAaBIQGAaFBYDy9b3p6m+ld68dhh/6bHtrv0B8xokFAaBAQGgSEBgGhQUBoEFjbvb+yC//Vf3Nl2vuC0wSWQHgDIxoEhAYBoUFAaBAQGgSEBgGhQWC8jrZjnew41tbK7sglR2EueOba++zXPqePwiw804gGAaFBQGgQEBoEhAYBoUFg8ZjMBdP0jsJwh4xoEBAaBIQGAaFBQGgQEBoETnbvb5rW/kDT5fMXOFxwUcXCc+3QX2NEg4DQICA0CAgNAkKDgNAgsLZ7/4pp+h3Trx9ouYH3yYgGAaFBQGgQEBoEhAYBoUFAaBAYr6PtWl/adXnGyMJ7uaujMAvPnH+fC5+Tyc/C9DGYhWeuHE8yokFAaBAQGgSEBgGhQUBoEFi85OK+pulfs/QXnuANjGgQEBoEhAYBoUFAaBAQGgROLrnYNH2/6VTAJdP0s7vlL7io4uWxduiPX7fnM2REg4DQICA0CAgNAkKDgNAg8O4uubirKXp4IyMaBIQGAaFBQGgQEBoEhAYBoUHg9u3rJ38CCjYzokFAaBAQGgSEBgGhQUBoEPgb1KeovYdDc/gAAAAASUVORK5CYII=\" y=\"-6.815219\"/>\r\n   </g>\r\n   <g id=\"matplotlib.axis_1\">\r\n    <g id=\"xtick_1\">\r\n     <g id=\"line2d_1\">\r\n      <defs>\r\n       <path d=\"M 0 0 \r\nL 0 3.5 \r\n\" id=\"m68763d597d\" style=\"stroke:#000000;stroke-width:0.8;\"/>\r\n      </defs>\r\n      <g>\r\n       <use style=\"stroke:#000000;stroke-width:0.8;\" x=\"30.549\" xlink:href=\"#m68763d597d\" y=\"224.815219\"/>\r\n      </g>\r\n     </g>\r\n     <g id=\"text_1\">\r\n      <!-- 0 -->\r\n      <g transform=\"translate(27.36775 239.413656)scale(0.1 -0.1)\">\r\n       <defs>\r\n        <path d=\"M 2034 4250 \r\nQ 1547 4250 1301 3770 \r\nQ 1056 3291 1056 2328 \r\nQ 1056 1369 1301 889 \r\nQ 1547 409 2034 409 \r\nQ 2525 409 2770 889 \r\nQ 3016 1369 3016 2328 \r\nQ 3016 3291 2770 3770 \r\nQ 2525 4250 2034 4250 \r\nz\r\nM 2034 4750 \r\nQ 2819 4750 3233 4129 \r\nQ 3647 3509 3647 2328 \r\nQ 3647 1150 3233 529 \r\nQ 2819 -91 2034 -91 \r\nQ 1250 -91 836 529 \r\nQ 422 1150 422 2328 \r\nQ 422 3509 836 4129 \r\nQ 1250 4750 2034 4750 \r\nz\r\n\" id=\"DejaVuSans-30\" transform=\"scale(0.015625)\"/>\r\n       </defs>\r\n       <use xlink:href=\"#DejaVuSans-30\"/>\r\n      </g>\r\n     </g>\r\n    </g>\r\n    <g id=\"xtick_2\">\r\n     <g id=\"line2d_2\">\r\n      <g>\r\n       <use style=\"stroke:#000000;stroke-width:0.8;\" x=\"66.789\" xlink:href=\"#m68763d597d\" y=\"224.815219\"/>\r\n      </g>\r\n     </g>\r\n     <g id=\"text_2\">\r\n      <!-- 5 -->\r\n      <g transform=\"translate(63.60775 239.413656)scale(0.1 -0.1)\">\r\n       <defs>\r\n        <path d=\"M 691 4666 \r\nL 3169 4666 \r\nL 3169 4134 \r\nL 1269 4134 \r\nL 1269 2991 \r\nQ 1406 3038 1543 3061 \r\nQ 1681 3084 1819 3084 \r\nQ 2600 3084 3056 2656 \r\nQ 3513 2228 3513 1497 \r\nQ 3513 744 3044 326 \r\nQ 2575 -91 1722 -91 \r\nQ 1428 -91 1123 -41 \r\nQ 819 9 494 109 \r\nL 494 744 \r\nQ 775 591 1075 516 \r\nQ 1375 441 1709 441 \r\nQ 2250 441 2565 725 \r\nQ 2881 1009 2881 1497 \r\nQ 2881 1984 2565 2268 \r\nQ 2250 2553 1709 2553 \r\nQ 1456 2553 1204 2497 \r\nQ 953 2441 691 2322 \r\nL 691 4666 \r\nz\r\n\" id=\"DejaVuSans-35\" transform=\"scale(0.015625)\"/>\r\n       </defs>\r\n       <use xlink:href=\"#DejaVuSans-35\"/>\r\n      </g>\r\n     </g>\r\n    </g>\r\n    <g id=\"xtick_3\">\r\n     <g id=\"line2d_3\">\r\n      <g>\r\n       <use style=\"stroke:#000000;stroke-width:0.8;\" x=\"103.029\" xlink:href=\"#m68763d597d\" y=\"224.815219\"/>\r\n      </g>\r\n     </g>\r\n     <g id=\"text_3\">\r\n      <!-- 10 -->\r\n      <g transform=\"translate(96.6665 239.413656)scale(0.1 -0.1)\">\r\n       <defs>\r\n        <path d=\"M 794 531 \r\nL 1825 531 \r\nL 1825 4091 \r\nL 703 3866 \r\nL 703 4441 \r\nL 1819 4666 \r\nL 2450 4666 \r\nL 2450 531 \r\nL 3481 531 \r\nL 3481 0 \r\nL 794 0 \r\nL 794 531 \r\nz\r\n\" id=\"DejaVuSans-31\" transform=\"scale(0.015625)\"/>\r\n       </defs>\r\n       <use xlink:href=\"#DejaVuSans-31\"/>\r\n       <use x=\"63.623047\" xlink:href=\"#DejaVuSans-30\"/>\r\n      </g>\r\n     </g>\r\n    </g>\r\n    <g id=\"xtick_4\">\r\n     <g id=\"line2d_4\">\r\n      <g>\r\n       <use style=\"stroke:#000000;stroke-width:0.8;\" x=\"139.269\" xlink:href=\"#m68763d597d\" y=\"224.815219\"/>\r\n      </g>\r\n     </g>\r\n     <g id=\"text_4\">\r\n      <!-- 15 -->\r\n      <g transform=\"translate(132.9065 239.413656)scale(0.1 -0.1)\">\r\n       <use xlink:href=\"#DejaVuSans-31\"/>\r\n       <use x=\"63.623047\" xlink:href=\"#DejaVuSans-35\"/>\r\n      </g>\r\n     </g>\r\n    </g>\r\n    <g id=\"xtick_5\">\r\n     <g id=\"line2d_5\">\r\n      <g>\r\n       <use style=\"stroke:#000000;stroke-width:0.8;\" x=\"175.509\" xlink:href=\"#m68763d597d\" y=\"224.815219\"/>\r\n      </g>\r\n     </g>\r\n     <g id=\"text_5\">\r\n      <!-- 20 -->\r\n      <g transform=\"translate(169.1465 239.413656)scale(0.1 -0.1)\">\r\n       <defs>\r\n        <path d=\"M 1228 531 \r\nL 3431 531 \r\nL 3431 0 \r\nL 469 0 \r\nL 469 531 \r\nQ 828 903 1448 1529 \r\nQ 2069 2156 2228 2338 \r\nQ 2531 2678 2651 2914 \r\nQ 2772 3150 2772 3378 \r\nQ 2772 3750 2511 3984 \r\nQ 2250 4219 1831 4219 \r\nQ 1534 4219 1204 4116 \r\nQ 875 4013 500 3803 \r\nL 500 4441 \r\nQ 881 4594 1212 4672 \r\nQ 1544 4750 1819 4750 \r\nQ 2544 4750 2975 4387 \r\nQ 3406 4025 3406 3419 \r\nQ 3406 3131 3298 2873 \r\nQ 3191 2616 2906 2266 \r\nQ 2828 2175 2409 1742 \r\nQ 1991 1309 1228 531 \r\nz\r\n\" id=\"DejaVuSans-32\" transform=\"scale(0.015625)\"/>\r\n       </defs>\r\n       <use xlink:href=\"#DejaVuSans-32\"/>\r\n       <use x=\"63.623047\" xlink:href=\"#DejaVuSans-30\"/>\r\n      </g>\r\n     </g>\r\n    </g>\r\n    <g id=\"xtick_6\">\r\n     <g id=\"line2d_6\">\r\n      <g>\r\n       <use style=\"stroke:#000000;stroke-width:0.8;\" x=\"211.749\" xlink:href=\"#m68763d597d\" y=\"224.815219\"/>\r\n      </g>\r\n     </g>\r\n     <g id=\"text_6\">\r\n      <!-- 25 -->\r\n      <g transform=\"translate(205.3865 239.413656)scale(0.1 -0.1)\">\r\n       <use xlink:href=\"#DejaVuSans-32\"/>\r\n       <use x=\"63.623047\" xlink:href=\"#DejaVuSans-35\"/>\r\n      </g>\r\n     </g>\r\n    </g>\r\n   </g>\r\n   <g id=\"matplotlib.axis_2\">\r\n    <g id=\"ytick_1\">\r\n     <g id=\"line2d_7\">\r\n      <defs>\r\n       <path d=\"M 0 0 \r\nL -3.5 0 \r\n\" id=\"m6d6c755ce8\" style=\"stroke:#000000;stroke-width:0.8;\"/>\r\n      </defs>\r\n      <g>\r\n       <use style=\"stroke:#000000;stroke-width:0.8;\" x=\"26.925\" xlink:href=\"#m6d6c755ce8\" y=\"10.999219\"/>\r\n      </g>\r\n     </g>\r\n     <g id=\"text_7\">\r\n      <!-- 0 -->\r\n      <g transform=\"translate(13.5625 14.798437)scale(0.1 -0.1)\">\r\n       <use xlink:href=\"#DejaVuSans-30\"/>\r\n      </g>\r\n     </g>\r\n    </g>\r\n    <g id=\"ytick_2\">\r\n     <g id=\"line2d_8\">\r\n      <g>\r\n       <use style=\"stroke:#000000;stroke-width:0.8;\" x=\"26.925\" xlink:href=\"#m6d6c755ce8\" y=\"47.239219\"/>\r\n      </g>\r\n     </g>\r\n     <g id=\"text_8\">\r\n      <!-- 5 -->\r\n      <g transform=\"translate(13.5625 51.038437)scale(0.1 -0.1)\">\r\n       <use xlink:href=\"#DejaVuSans-35\"/>\r\n      </g>\r\n     </g>\r\n    </g>\r\n    <g id=\"ytick_3\">\r\n     <g id=\"line2d_9\">\r\n      <g>\r\n       <use style=\"stroke:#000000;stroke-width:0.8;\" x=\"26.925\" xlink:href=\"#m6d6c755ce8\" y=\"83.479219\"/>\r\n      </g>\r\n     </g>\r\n     <g id=\"text_9\">\r\n      <!-- 10 -->\r\n      <g transform=\"translate(7.2 87.278437)scale(0.1 -0.1)\">\r\n       <use xlink:href=\"#DejaVuSans-31\"/>\r\n       <use x=\"63.623047\" xlink:href=\"#DejaVuSans-30\"/>\r\n      </g>\r\n     </g>\r\n    </g>\r\n    <g id=\"ytick_4\">\r\n     <g id=\"line2d_10\">\r\n      <g>\r\n       <use style=\"stroke:#000000;stroke-width:0.8;\" x=\"26.925\" xlink:href=\"#m6d6c755ce8\" y=\"119.719219\"/>\r\n      </g>\r\n     </g>\r\n     <g id=\"text_10\">\r\n      <!-- 15 -->\r\n      <g transform=\"translate(7.2 123.518437)scale(0.1 -0.1)\">\r\n       <use xlink:href=\"#DejaVuSans-31\"/>\r\n       <use x=\"63.623047\" xlink:href=\"#DejaVuSans-35\"/>\r\n      </g>\r\n     </g>\r\n    </g>\r\n    <g id=\"ytick_5\">\r\n     <g id=\"line2d_11\">\r\n      <g>\r\n       <use style=\"stroke:#000000;stroke-width:0.8;\" x=\"26.925\" xlink:href=\"#m6d6c755ce8\" y=\"155.959219\"/>\r\n      </g>\r\n     </g>\r\n     <g id=\"text_11\">\r\n      <!-- 20 -->\r\n      <g transform=\"translate(7.2 159.758437)scale(0.1 -0.1)\">\r\n       <use xlink:href=\"#DejaVuSans-32\"/>\r\n       <use x=\"63.623047\" xlink:href=\"#DejaVuSans-30\"/>\r\n      </g>\r\n     </g>\r\n    </g>\r\n    <g id=\"ytick_6\">\r\n     <g id=\"line2d_12\">\r\n      <g>\r\n       <use style=\"stroke:#000000;stroke-width:0.8;\" x=\"26.925\" xlink:href=\"#m6d6c755ce8\" y=\"192.199219\"/>\r\n      </g>\r\n     </g>\r\n     <g id=\"text_12\">\r\n      <!-- 25 -->\r\n      <g transform=\"translate(7.2 195.998437)scale(0.1 -0.1)\">\r\n       <use xlink:href=\"#DejaVuSans-32\"/>\r\n       <use x=\"63.623047\" xlink:href=\"#DejaVuSans-35\"/>\r\n      </g>\r\n     </g>\r\n    </g>\r\n   </g>\r\n   <g id=\"patch_3\">\r\n    <path d=\"M 26.925 224.815219 \r\nL 26.925 7.375219 \r\n\" style=\"fill:none;stroke:#000000;stroke-linecap:square;stroke-linejoin:miter;stroke-width:0.8;\"/>\r\n   </g>\r\n   <g id=\"patch_4\">\r\n    <path d=\"M 244.365 224.815219 \r\nL 244.365 7.375219 \r\n\" style=\"fill:none;stroke:#000000;stroke-linecap:square;stroke-linejoin:miter;stroke-width:0.8;\"/>\r\n   </g>\r\n   <g id=\"patch_5\">\r\n    <path d=\"M 26.925 224.815219 \r\nL 244.365 224.815219 \r\n\" style=\"fill:none;stroke:#000000;stroke-linecap:square;stroke-linejoin:miter;stroke-width:0.8;\"/>\r\n   </g>\r\n   <g id=\"patch_6\">\r\n    <path d=\"M 26.925 7.375219 \r\nL 244.365 7.375219 \r\n\" style=\"fill:none;stroke:#000000;stroke-linecap:square;stroke-linejoin:miter;stroke-width:0.8;\"/>\r\n   </g>\r\n  </g>\r\n </g>\r\n <defs>\r\n  <clipPath id=\"pc605081ba1\">\r\n   <rect height=\"217.44\" width=\"217.44\" x=\"26.925\" y=\"7.375219\"/>\r\n  </clipPath>\r\n </defs>\r\n</svg>\r\n",
      "image/png": "[encoded data removed]"
     },
     "metadata": {
      "needs_background": "light"
     }
    }
   ],
   "source": [
    "plt.imshow(S)"
   ]
  },
  {
   "cell_type": "code",
   "execution_count": 9,
   "metadata": {},
   "outputs": [
    {
     "output_type": "stream",
     "name": "stdout",
     "text": [
      "[[500.  500.  500.  500.  500.  500.  500.  500.  500.  500.  500.  500.\n  500.  500.  500.  500.  500.  500.  500.  500.  500.  500.  500.  500.\n  500.  500.  500.  500.  500.  500. ]\n [500.   21.5  21.   20.5  20.   19.5  19.   18.5  18.   17.5  17.   16.5\n   16.   15.   14.   13.   12.   11.   10.    9.    8.    7.    6.    5.\n    4.    3.    2.    1.    0.  500. ]\n [500.   22.5  22.   21.5  21.   20.5  20.   19.5  19.   18.5  18.   17.5\n   16.5  15.5  14.5  13.5  12.5  11.5  10.5   9.5   8.5   7.5   6.5   5.5\n    4.5   3.5   2.5   1.5   0.5 500. ]\n [500.   23.5  23.   22.5  22.   21.5  21.   20.5  20.   19.5  19.   18.\n   17.   16.   15.   14.   13.   12.   11.   10.    9.    8.    7.    6.\n    5.    4.    3.    2.    1.  500. ]\n [500.   24.5  24.   23.5  23.   22.5  22.   21.5  21.   20.5  19.5  18.5\n   17.5  16.5  15.5  14.5  13.5  12.5  11.5  10.5   9.5   8.5   7.5   6.5\n    5.5   4.5   3.5   2.5   1.5 500. ]\n [500.   25.5  25.   24.5  24.   23.5  23.   22.5  22.   21.   20.   19.\n   18.   17.   16.   15.   14.   13.   12.   11.   10.    9.    8.    7.\n    6.    5.    4.    3.    2.  500. ]\n [500.   26.5  26.   25.5  25.   24.5  24.   23.5  22.5  21.5  20.5  19.5\n   18.5  17.5  16.5  15.5  14.5  13.5  12.5  11.5  10.5   9.5   8.5   7.5\n    6.5   5.5   4.5   3.5   2.5 500. ]\n [500.   27.5  27.   26.5  26.   25.5  25.   24.   23.   22.   21.   20.\n   19.   18.   17.   16.   15.   14.   13.   12.   11.   10.    9.    8.\n    7.    6.    5.    4.    3.  500. ]\n [500.   28.5  28.   27.5  27.   26.5  25.5  24.5  23.5  22.5  21.5  20.5\n   19.5  18.5  17.5  16.5  15.5  14.5  13.5  12.5  11.5  10.5   9.5   8.5\n    7.5   6.5   5.5   4.5   3.5 500. ]\n [500.   29.5  29.   28.5  28.   27.   26.   25.   24.   23.   22.   21.\n   20.   19.   18.   17.   16.   15.   14.   13.   12.   11.   10.    9.\n    8.    7.    6.    5.    4.  500. ]\n [500.   30.5  30.   29.5  28.5  27.5  26.5  25.5  24.5  23.5  22.5  21.5\n   20.5  19.5  18.5  17.5  16.5  15.5  14.5  13.5  12.5  11.5  10.5   9.5\n    8.5   7.5   6.5   5.5   4.5 500. ]\n [500.   31.5  31.   30.   29.   28.   27.   26.   25.   24.   23.   22.\n   21.   20.   19.   18.   17.   16.   15.   14.   13.   12.   11.   10.\n    9.    8.    7.    6.    5.  500. ]\n [500.   32.5  31.5  30.5  29.5  28.5  27.5  26.5  25.5  24.5  23.5  22.5\n   21.5  20.5  19.5  18.5  17.5  16.5  15.5  14.5  13.5  12.5  11.5  10.5\n    9.5   8.5   7.5   6.5   5.5 500. ]\n [ 34.   33.   32.   31.   30.   29.   28.   27.   26.   25.   24.   23.\n   22.   21.   20.   19.   18.   17.   16.   15.   14.   13.   12.   11.\n   10.    9.    8.    7.    6.  500. ]\n [ 34.   33.   32.   31.   30.   29.   28.   27.   26.   25.   24.   23.\n   22.   21.   20.   19.   18.   17.   16.   15.   14.   13.   12.   11.\n   10.    9.    8.    7.    6.  500. ]\n [ 34.   33.   32.   31.   30.   29.   28.   27.   26.   25.   24.   23.\n   22.   21.   20.   19.   18.   17.   16.   15.   14.   13.   12.   11.\n   10.    9.    8.    7.    6.  500. ]\n [ 34.   33.   32.   31.   30.   29.   28.   27.   26.   25.   24.   23.\n   22.   21.   20.   19.   18.   17.   16.   15.   14.   13.   12.   11.\n   10.    9.    8.    7.    6.  500. ]\n [500.   32.5  31.5  30.5  29.5  28.5  27.5  26.5  25.5  24.5  23.5  22.5\n   21.5  20.5  19.5  18.5  17.5  16.5  15.5  14.5  13.5  12.5  11.5  10.5\n    9.5   8.5   7.5   6.5   5.5 500. ]\n [500.   31.5  31.   30.   29.   28.   27.   26.   25.   24.   23.   22.\n   21.   20.   19.   18.   17.   16.   15.   14.   13.   12.   11.   10.\n    9.    8.    7.    6.    5.  500. ]\n [500.   30.5  30.   29.5  28.5  27.5  26.5  25.5  24.5  23.5  22.5  21.5\n   20.5  19.5  18.5  17.5  16.5  15.5  14.5  13.5  12.5  11.5  10.5   9.5\n    8.5   7.5   6.5   5.5   4.5 500. ]\n [500.   29.5  29.   28.5  28.   27.   26.   25.   24.   23.   22.   21.\n   20.   19.   18.   17.   16.   15.   14.   13.   12.   11.   10.    9.\n    8.    7.    6.    5.    4.  500. ]\n [500.   28.5  28.   27.5  27.   26.5  25.5  24.5  23.5  22.5  21.5  20.5\n   19.5  18.5  17.5  16.5  15.5  14.5  13.5  12.5  11.5  10.5   9.5   8.5\n    7.5   6.5   5.5   4.5   3.5 500. ]\n [500.   27.5  27.   26.5  26.   25.5  25.   24.   23.   22.   21.   20.\n   19.   18.   17.   16.   15.   14.   13.   12.   11.   10.    9.    8.\n    7.    6.    5.    4.    3.  500. ]\n [500.   26.5  26.   25.5  25.   24.5  24.   23.5  22.5  21.5  20.5  19.5\n   18.5  17.5  16.5  15.5  14.5  13.5  12.5  11.5  10.5   9.5   8.5   7.5\n    6.5   5.5   4.5   3.5   2.5 500. ]\n [500.   25.5  25.   24.5  24.   23.5  23.   22.5  22.   21.   20.   19.\n   18.   17.   16.   15.   14.   13.   12.   11.   10.    9.    8.    7.\n    6.    5.    4.    3.    2.  500. ]\n [500.   24.5  24.   23.5  23.   22.5  22.   21.5  21.   20.5  19.5  18.5\n   17.5  16.5  15.5  14.5  13.5  12.5  11.5  10.5   9.5   8.5   7.5   6.5\n    5.5   4.5   3.5   2.5   1.5 500. ]\n [500.   23.5  23.   22.5  22.   21.5  21.   20.5  20.   19.5  19.   18.\n   17.   16.   15.   14.   13.   12.   11.   10.    9.    8.    7.    6.\n    5.    4.    3.    2.    1.  500. ]\n [500.   22.5  22.   21.5  21.   20.5  20.   19.5  19.   18.5  18.   17.5\n   16.5  15.5  14.5  13.5  12.5  11.5  10.5   9.5   8.5   7.5   6.5   5.5\n    4.5   3.5   2.5   1.5   0.5 500. ]\n [500.   21.5  21.   20.5  20.   19.5  19.   18.5  18.   17.5  17.   16.5\n   16.   15.   14.   13.   12.   11.   10.    9.    8.    7.    6.    5.\n    4.    3.    2.    1.    0.  500. ]\n [500.  500.  500.  500.  500.  500.  500.  500.  500.  500.  500.  500.\n  500.  500.  500.  500.  500.  500.  500.  500.  500.  500.  500.  500.\n  500.  500.  500.  500.  500.  500. ]]\n"
     ]
    }
   ],
   "source": [
    "print(S)"
   ]
  },
  {
   "cell_type": "code",
   "execution_count": 10,
   "metadata": {},
   "outputs": [],
   "source": [
    "prev_locations = get_locations(person_list)\n",
    "locations = np.concatenate((prev_locations[0:20, :] + 1, prev_locations[20:, :]))"
   ]
  },
  {
   "cell_type": "code",
   "execution_count": 15,
   "metadata": {},
   "outputs": [],
   "source": [
    "D = update_D(D, locations, prev_locations, diffusion_factor, decay_factor)"
   ]
  },
  {
   "cell_type": "code",
   "execution_count": 16,
   "metadata": {},
   "outputs": [
    {
     "output_type": "execute_result",
     "data": {
      "text/plain": [
       "<matplotlib.image.AxesImage at 0x1fbd550c970>"
      ]
     },
     "metadata": {},
     "execution_count": 16
    },
    {
     "output_type": "display_data",
     "data": {
      "text/plain": "<Figure size 432x288 with 1 Axes>",
      "image/svg+xml": "<?xml version=\"1.0\" encoding=\"utf-8\" standalone=\"no\"?>\r\n<!DOCTYPE svg PUBLIC \"-//W3C//DTD SVG 1.1//EN\"\r\n  \"http://www.w3.org/Graphics/SVG/1.1/DTD/svg11.dtd\">\r\n<svg height=\"248.693344pt\" version=\"1.1\" viewBox=\"0 0 251.565 248.693344\" width=\"251.565pt\" xmlns=\"http://www.w3.org/2000/svg\" xmlns:xlink=\"http://www.w3.org/1999/xlink\">\r\n <metadata>\r\n  <rdf:RDF xmlns:cc=\"http://creativecommons.org/ns#\" xmlns:dc=\"http://purl.org/dc/elements/1.1/\" xmlns:rdf=\"http://www.w3.org/1999/02/22-rdf-syntax-ns#\">\r\n   <cc:Work>\r\n    <dc:type rdf:resource=\"http://purl.org/dc/dcmitype/StillImage\"/>\r\n    <dc:date>2021-05-16T17:32:08.697153</dc:date>\r\n    <dc:format>image/svg+xml</dc:format>\r\n    <dc:creator>\r\n     <cc:Agent>\r\n      <dc:title>Matplotlib v3.4.1, https://matplotlib.org/</dc:title>\r\n     </cc:Agent>\r\n    </dc:creator>\r\n   </cc:Work>\r\n  </rdf:RDF>\r\n </metadata>\r\n <defs>\r\n  <style type=\"text/css\">*{stroke-linecap:butt;stroke-linejoin:round;}</style>\r\n </defs>\r\n <g id=\"figure_1\">\r\n  <g id=\"patch_1\">\r\n   <path d=\"M 0 248.693344 \r\nL 251.565 248.693344 \r\nL 251.565 0 \r\nL 0 0 \r\nz\r\n\" style=\"fill:none;\"/>\r\n  </g>\r\n  <g id=\"axes_1\">\r\n   <g id=\"patch_2\">\r\n    <path d=\"M 26.925 224.815219 \r\nL 244.365 224.815219 \r\nL 244.365 7.375219 \r\nL 26.925 7.375219 \r\nz\r\n\" style=\"fill:#ffffff;\"/>\r\n   </g>\r\n   <g clip-path=\"url(#pff97907b92)\">\r\n    <image height=\"218\" id=\"image331ed1ed0c\" transform=\"scale(1 -1)translate(0 -218)\" width=\"218\" x=\"26.925\" xlink:href=\"data:image/png;base64,\r\niVBORw0KGgoAAAANSUhEUgAAANoAAADaCAYAAADAHVzbAAAELklEQVR4nO3dMW7cRgBAUa6RxL5HIKfxMXwE9y5iIEXOkyKAco9cIY2rNJER5BpWXKwLwYABg5Sy9HyS0XstsV7K0scAM+TM6eXp1XkChnqy9Q3AYyA0CAgNAkKDgNAgIDQIfLP1DfDfnb797vLPPns6e+2vX65mrz3/8c/Za+cP/y5/58L93ly/mP/ON5d/594Y0SAgNAgIDQJCg4DQICA0CAgNAievyRzP4rrUb/PrUtM0TT/8/G722vn97UX3s2Yd7VLW0YAvCA0CQoOA0CAgNAgIDQKm9w9oxHT5NB1vyvxIjGgQEBoEhAYBoUFAaBAQGgTsgvUAe3v63DT88RjRICA0CAgNAkKDgNAgIDQImN5faWkznKWDIXhcjGgQEBoEhAYBoUFAaBAQGgSEBgG7YD3A3l6T4XiMaBAQGgSEBgGhQUBoEBAaBLwm8wCm4h2ssZYRDQJCg4DQICA0CAgNAkKDwLDpfdPBj8fSTmDTZDewaTKiQUJoEBAaBIQGAaFBQGgQ2OTpfQdD/L/4nd3PiAYBoUFAaBAQGgSEBgGhQUBoEBh2yIXXZPbJgR3bMKJBQGgQEBoEhAYBoUFAaBAY9pqMKd/j8frSOEY0CAgNAkKDgNAgIDQICA0Cw57eZ588vb8NIxoEhAYBoUFAaBAQGgSEBoFNDrlgnC02RbIR0/2MaBAQGgSEBgGhQUBoEBAaBIQGgVXraEd65cJaz50tdrra4juH/L6fnBYvn29v5z/6te8F+JLQICA0CAgNAkKDgNAgsGoXrKUp1EundLeY3l+612na5n4vNWoZY/E7nz29+LPn9/NT4mv+b0f8bd43vf/7P3/Mf3Txk8BXITQICA0CQoOA0CAgNAgMm96/lKf37+ztfo+2POLpfXiEhAYBoUFAaBAQGgSEBgGhQcBh8Ts15DWP6fJTYfb4KswIa9bfln4WIxoEhAYBoUFAaBAQGgSEBgGHxR/QsIMhFqbw3/36/ey1q5/+Xvx39zaFf6mb6+XXga5ev529ZkSDgNAgIDQICA0CQoOA0CBgen+gve1kxTrP39zzZsTCNSMaBIQGAaFBQGgQEBoEhAYBm/MM5GCIO5YjjGiQEBoEhAYBoUFAaBAQGgSEBgHraANZl+ITIxoEhAYBoUFAaBAQGgSEBgG7YA1kGp5PjGgQEBoEhAYBoUFAaBAQGgSEBgGhQUBoEBAaBIQGAaFBQGgQEBoEhAYBoUFAaBAQGgSEBgGhQUBoEBAaBIQGAaFBQGgQEBoEhAYBoUHAIRfwmTXnji8damJEg4DQICA0CAgNAkKDgNAgYHofHujm+sXi9avXb2evGdEgIDQICA0CQoOA0CAgNAicXp5enbe+CdgLT+/DgQkNAkKDgNAgIDQICA0CQoOA12TgM0trYWsY0SAgNAgIDQJCg4DQICA0CHwEoU3THV+WG6cAAAAASUVORK5CYII=\" y=\"-6.815219\"/>\r\n   </g>\r\n   <g id=\"matplotlib.axis_1\">\r\n    <g id=\"xtick_1\">\r\n     <g id=\"line2d_1\">\r\n      <defs>\r\n       <path d=\"M 0 0 \r\nL 0 3.5 \r\n\" id=\"mddb0ab9ff6\" style=\"stroke:#000000;stroke-width:0.8;\"/>\r\n      </defs>\r\n      <g>\r\n       <use style=\"stroke:#000000;stroke-width:0.8;\" x=\"30.549\" xlink:href=\"#mddb0ab9ff6\" y=\"224.815219\"/>\r\n      </g>\r\n     </g>\r\n     <g id=\"text_1\">\r\n      <!-- 0 -->\r\n      <g transform=\"translate(27.36775 239.413656)scale(0.1 -0.1)\">\r\n       <defs>\r\n        <path d=\"M 2034 4250 \r\nQ 1547 4250 1301 3770 \r\nQ 1056 3291 1056 2328 \r\nQ 1056 1369 1301 889 \r\nQ 1547 409 2034 409 \r\nQ 2525 409 2770 889 \r\nQ 3016 1369 3016 2328 \r\nQ 3016 3291 2770 3770 \r\nQ 2525 4250 2034 4250 \r\nz\r\nM 2034 4750 \r\nQ 2819 4750 3233 4129 \r\nQ 3647 3509 3647 2328 \r\nQ 3647 1150 3233 529 \r\nQ 2819 -91 2034 -91 \r\nQ 1250 -91 836 529 \r\nQ 422 1150 422 2328 \r\nQ 422 3509 836 4129 \r\nQ 1250 4750 2034 4750 \r\nz\r\n\" id=\"DejaVuSans-30\" transform=\"scale(0.015625)\"/>\r\n       </defs>\r\n       <use xlink:href=\"#DejaVuSans-30\"/>\r\n      </g>\r\n     </g>\r\n    </g>\r\n    <g id=\"xtick_2\">\r\n     <g id=\"line2d_2\">\r\n      <g>\r\n       <use style=\"stroke:#000000;stroke-width:0.8;\" x=\"66.789\" xlink:href=\"#mddb0ab9ff6\" y=\"224.815219\"/>\r\n      </g>\r\n     </g>\r\n     <g id=\"text_2\">\r\n      <!-- 5 -->\r\n      <g transform=\"translate(63.60775 239.413656)scale(0.1 -0.1)\">\r\n       <defs>\r\n        <path d=\"M 691 4666 \r\nL 3169 4666 \r\nL 3169 4134 \r\nL 1269 4134 \r\nL 1269 2991 \r\nQ 1406 3038 1543 3061 \r\nQ 1681 3084 1819 3084 \r\nQ 2600 3084 3056 2656 \r\nQ 3513 2228 3513 1497 \r\nQ 3513 744 3044 326 \r\nQ 2575 -91 1722 -91 \r\nQ 1428 -91 1123 -41 \r\nQ 819 9 494 109 \r\nL 494 744 \r\nQ 775 591 1075 516 \r\nQ 1375 441 1709 441 \r\nQ 2250 441 2565 725 \r\nQ 2881 1009 2881 1497 \r\nQ 2881 1984 2565 2268 \r\nQ 2250 2553 1709 2553 \r\nQ 1456 2553 1204 2497 \r\nQ 953 2441 691 2322 \r\nL 691 4666 \r\nz\r\n\" id=\"DejaVuSans-35\" transform=\"scale(0.015625)\"/>\r\n       </defs>\r\n       <use xlink:href=\"#DejaVuSans-35\"/>\r\n      </g>\r\n     </g>\r\n    </g>\r\n    <g id=\"xtick_3\">\r\n     <g id=\"line2d_3\">\r\n      <g>\r\n       <use style=\"stroke:#000000;stroke-width:0.8;\" x=\"103.029\" xlink:href=\"#mddb0ab9ff6\" y=\"224.815219\"/>\r\n      </g>\r\n     </g>\r\n     <g id=\"text_3\">\r\n      <!-- 10 -->\r\n      <g transform=\"translate(96.6665 239.413656)scale(0.1 -0.1)\">\r\n       <defs>\r\n        <path d=\"M 794 531 \r\nL 1825 531 \r\nL 1825 4091 \r\nL 703 3866 \r\nL 703 4441 \r\nL 1819 4666 \r\nL 2450 4666 \r\nL 2450 531 \r\nL 3481 531 \r\nL 3481 0 \r\nL 794 0 \r\nL 794 531 \r\nz\r\n\" id=\"DejaVuSans-31\" transform=\"scale(0.015625)\"/>\r\n       </defs>\r\n       <use xlink:href=\"#DejaVuSans-31\"/>\r\n       <use x=\"63.623047\" xlink:href=\"#DejaVuSans-30\"/>\r\n      </g>\r\n     </g>\r\n    </g>\r\n    <g id=\"xtick_4\">\r\n     <g id=\"line2d_4\">\r\n      <g>\r\n       <use style=\"stroke:#000000;stroke-width:0.8;\" x=\"139.269\" xlink:href=\"#mddb0ab9ff6\" y=\"224.815219\"/>\r\n      </g>\r\n     </g>\r\n     <g id=\"text_4\">\r\n      <!-- 15 -->\r\n      <g transform=\"translate(132.9065 239.413656)scale(0.1 -0.1)\">\r\n       <use xlink:href=\"#DejaVuSans-31\"/>\r\n       <use x=\"63.623047\" xlink:href=\"#DejaVuSans-35\"/>\r\n      </g>\r\n     </g>\r\n    </g>\r\n    <g id=\"xtick_5\">\r\n     <g id=\"line2d_5\">\r\n      <g>\r\n       <use style=\"stroke:#000000;stroke-width:0.8;\" x=\"175.509\" xlink:href=\"#mddb0ab9ff6\" y=\"224.815219\"/>\r\n      </g>\r\n     </g>\r\n     <g id=\"text_5\">\r\n      <!-- 20 -->\r\n      <g transform=\"translate(169.1465 239.413656)scale(0.1 -0.1)\">\r\n       <defs>\r\n        <path d=\"M 1228 531 \r\nL 3431 531 \r\nL 3431 0 \r\nL 469 0 \r\nL 469 531 \r\nQ 828 903 1448 1529 \r\nQ 2069 2156 2228 2338 \r\nQ 2531 2678 2651 2914 \r\nQ 2772 3150 2772 3378 \r\nQ 2772 3750 2511 3984 \r\nQ 2250 4219 1831 4219 \r\nQ 1534 4219 1204 4116 \r\nQ 875 4013 500 3803 \r\nL 500 4441 \r\nQ 881 4594 1212 4672 \r\nQ 1544 4750 1819 4750 \r\nQ 2544 4750 2975 4387 \r\nQ 3406 4025 3406 3419 \r\nQ 3406 3131 3298 2873 \r\nQ 3191 2616 2906 2266 \r\nQ 2828 2175 2409 1742 \r\nQ 1991 1309 1228 531 \r\nz\r\n\" id=\"DejaVuSans-32\" transform=\"scale(0.015625)\"/>\r\n       </defs>\r\n       <use xlink:href=\"#DejaVuSans-32\"/>\r\n       <use x=\"63.623047\" xlink:href=\"#DejaVuSans-30\"/>\r\n      </g>\r\n     </g>\r\n    </g>\r\n    <g id=\"xtick_6\">\r\n     <g id=\"line2d_6\">\r\n      <g>\r\n       <use style=\"stroke:#000000;stroke-width:0.8;\" x=\"211.749\" xlink:href=\"#mddb0ab9ff6\" y=\"224.815219\"/>\r\n      </g>\r\n     </g>\r\n     <g id=\"text_6\">\r\n      <!-- 25 -->\r\n      <g transform=\"translate(205.3865 239.413656)scale(0.1 -0.1)\">\r\n       <use xlink:href=\"#DejaVuSans-32\"/>\r\n       <use x=\"63.623047\" xlink:href=\"#DejaVuSans-35\"/>\r\n      </g>\r\n     </g>\r\n    </g>\r\n   </g>\r\n   <g id=\"matplotlib.axis_2\">\r\n    <g id=\"ytick_1\">\r\n     <g id=\"line2d_7\">\r\n      <defs>\r\n       <path d=\"M 0 0 \r\nL -3.5 0 \r\n\" id=\"mc203a15079\" style=\"stroke:#000000;stroke-width:0.8;\"/>\r\n      </defs>\r\n      <g>\r\n       <use style=\"stroke:#000000;stroke-width:0.8;\" x=\"26.925\" xlink:href=\"#mc203a15079\" y=\"10.999219\"/>\r\n      </g>\r\n     </g>\r\n     <g id=\"text_7\">\r\n      <!-- 0 -->\r\n      <g transform=\"translate(13.5625 14.798437)scale(0.1 -0.1)\">\r\n       <use xlink:href=\"#DejaVuSans-30\"/>\r\n      </g>\r\n     </g>\r\n    </g>\r\n    <g id=\"ytick_2\">\r\n     <g id=\"line2d_8\">\r\n      <g>\r\n       <use style=\"stroke:#000000;stroke-width:0.8;\" x=\"26.925\" xlink:href=\"#mc203a15079\" y=\"47.239219\"/>\r\n      </g>\r\n     </g>\r\n     <g id=\"text_8\">\r\n      <!-- 5 -->\r\n      <g transform=\"translate(13.5625 51.038437)scale(0.1 -0.1)\">\r\n       <use xlink:href=\"#DejaVuSans-35\"/>\r\n      </g>\r\n     </g>\r\n    </g>\r\n    <g id=\"ytick_3\">\r\n     <g id=\"line2d_9\">\r\n      <g>\r\n       <use style=\"stroke:#000000;stroke-width:0.8;\" x=\"26.925\" xlink:href=\"#mc203a15079\" y=\"83.479219\"/>\r\n      </g>\r\n     </g>\r\n     <g id=\"text_9\">\r\n      <!-- 10 -->\r\n      <g transform=\"translate(7.2 87.278437)scale(0.1 -0.1)\">\r\n       <use xlink:href=\"#DejaVuSans-31\"/>\r\n       <use x=\"63.623047\" xlink:href=\"#DejaVuSans-30\"/>\r\n      </g>\r\n     </g>\r\n    </g>\r\n    <g id=\"ytick_4\">\r\n     <g id=\"line2d_10\">\r\n      <g>\r\n       <use style=\"stroke:#000000;stroke-width:0.8;\" x=\"26.925\" xlink:href=\"#mc203a15079\" y=\"119.719219\"/>\r\n      </g>\r\n     </g>\r\n     <g id=\"text_10\">\r\n      <!-- 15 -->\r\n      <g transform=\"translate(7.2 123.518437)scale(0.1 -0.1)\">\r\n       <use xlink:href=\"#DejaVuSans-31\"/>\r\n       <use x=\"63.623047\" xlink:href=\"#DejaVuSans-35\"/>\r\n      </g>\r\n     </g>\r\n    </g>\r\n    <g id=\"ytick_5\">\r\n     <g id=\"line2d_11\">\r\n      <g>\r\n       <use style=\"stroke:#000000;stroke-width:0.8;\" x=\"26.925\" xlink:href=\"#mc203a15079\" y=\"155.959219\"/>\r\n      </g>\r\n     </g>\r\n     <g id=\"text_11\">\r\n      <!-- 20 -->\r\n      <g transform=\"translate(7.2 159.758437)scale(0.1 -0.1)\">\r\n       <use xlink:href=\"#DejaVuSans-32\"/>\r\n       <use x=\"63.623047\" xlink:href=\"#DejaVuSans-30\"/>\r\n      </g>\r\n     </g>\r\n    </g>\r\n    <g id=\"ytick_6\">\r\n     <g id=\"line2d_12\">\r\n      <g>\r\n       <use style=\"stroke:#000000;stroke-width:0.8;\" x=\"26.925\" xlink:href=\"#mc203a15079\" y=\"192.199219\"/>\r\n      </g>\r\n     </g>\r\n     <g id=\"text_12\">\r\n      <!-- 25 -->\r\n      <g transform=\"translate(7.2 195.998437)scale(0.1 -0.1)\">\r\n       <use xlink:href=\"#DejaVuSans-32\"/>\r\n       <use x=\"63.623047\" xlink:href=\"#DejaVuSans-35\"/>\r\n      </g>\r\n     </g>\r\n    </g>\r\n   </g>\r\n   <g id=\"patch_3\">\r\n    <path d=\"M 26.925 224.815219 \r\nL 26.925 7.375219 \r\n\" style=\"fill:none;stroke:#000000;stroke-linecap:square;stroke-linejoin:miter;stroke-width:0.8;\"/>\r\n   </g>\r\n   <g id=\"patch_4\">\r\n    <path d=\"M 244.365 224.815219 \r\nL 244.365 7.375219 \r\n\" style=\"fill:none;stroke:#000000;stroke-linecap:square;stroke-linejoin:miter;stroke-width:0.8;\"/>\r\n   </g>\r\n   <g id=\"patch_5\">\r\n    <path d=\"M 26.925 224.815219 \r\nL 244.365 224.815219 \r\n\" style=\"fill:none;stroke:#000000;stroke-linecap:square;stroke-linejoin:miter;stroke-width:0.8;\"/>\r\n   </g>\r\n   <g id=\"patch_6\">\r\n    <path d=\"M 26.925 7.375219 \r\nL 244.365 7.375219 \r\n\" style=\"fill:none;stroke:#000000;stroke-linecap:square;stroke-linejoin:miter;stroke-width:0.8;\"/>\r\n   </g>\r\n  </g>\r\n </g>\r\n <defs>\r\n  <clipPath id=\"pff97907b92\">\r\n   <rect height=\"217.44\" width=\"217.44\" x=\"26.925\" y=\"7.375219\"/>\r\n  </clipPath>\r\n </defs>\r\n</svg>\r\n",
      "image/png": "[encoded data removed]"
     },
     "metadata": {
      "needs_background": "light"
     }
    }
   ],
   "source": [
    "plt.imshow(D)"
   ]
  },
  {
   "cell_type": "code",
   "execution_count": 17,
   "metadata": {},
   "outputs": [
    {
     "output_type": "execute_result",
     "data": {
      "text/plain": [
       "(30, 30)"
      ]
     },
     "metadata": {},
     "execution_count": 17
    }
   ],
   "source": [
    "D.shape"
   ]
  },
  {
   "cell_type": "code",
   "execution_count": 18,
   "metadata": {},
   "outputs": [],
   "source": [
    "a = np.zeros((board_size, board_size), dtype = object)"
   ]
  },
  {
   "cell_type": "code",
   "execution_count": 55,
   "metadata": {},
   "outputs": [
    {
     "output_type": "stream",
     "name": "stdout",
     "text": [
      "[13, 15] [14, 16]\n"
     ]
    }
   ],
   "source": [
    "person = person_list[0]\n",
    "person.location = [13, 15] # To make sure no errors occur in this test\n",
    "person.direction = [0, 1]\n",
    "new_loc = [coord + 1 for coord in person.location]\n",
    "print(person.location, new_loc)"
   ]
  },
  {
   "cell_type": "code",
   "execution_count": 56,
   "metadata": {},
   "outputs": [
    {
     "output_type": "execute_result",
     "data": {
      "text/plain": [
       "1"
      ]
     },
     "metadata": {},
     "execution_count": 56
    }
   ],
   "source": [
    "calc_tumble(person,sight_radius,ka,kc,board,new_loc)"
   ]
  },
  {
   "cell_type": "code",
   "execution_count": 57,
   "metadata": {},
   "outputs": [
    {
     "output_type": "execute_result",
     "data": {
      "text/plain": [
       "0.0"
      ]
     },
     "metadata": {},
     "execution_count": 57
    }
   ],
   "source": [
    "board[new_loc] = 1 # Add a fallen pedestrian\n",
    "calc_tumble(person,sight_radius,ka,kc,board,new_loc)"
   ]
  },
  {
   "cell_type": "code",
   "execution_count": 58,
   "metadata": {},
   "outputs": [
    {
     "output_type": "execute_result",
     "data": {
      "text/plain": [
       "[15, 17]"
      ]
     },
     "metadata": {},
     "execution_count": 58
    }
   ],
   "source": [
    "fallen_location"
   ]
  },
  {
   "cell_type": "code",
   "execution_count": 39,
   "metadata": {},
   "outputs": [
    {
     "output_type": "execute_result",
     "data": {
      "text/plain": [
       "[0, 0]"
      ]
     },
     "metadata": {},
     "execution_count": 39
    }
   ],
   "source": []
  },
  {
   "cell_type": "code",
   "execution_count": null,
   "metadata": {},
   "outputs": [],
   "source": []
  }
 ]
}