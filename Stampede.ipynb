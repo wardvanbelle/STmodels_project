{
 "metadata": {
  "language_info": {
   "codemirror_mode": {
    "name": "ipython",
    "version": 3
   },
   "file_extension": ".py",
   "mimetype": "text/x-python",
   "name": "python",
   "nbconvert_exporter": "python",
   "pygments_lexer": "ipython3",
   "version": "3.8.9"
  },
  "orig_nbformat": 2,
  "kernelspec": {
   "name": "python389jvsc74a57bd005aff6734a0136c1456f6cababa7509d8ef823a72f9d7deb75637cc690b3e532",
   "display_name": "Python 3.8.9 64-bit"
  },
  "metadata": {
   "interpreter": {
    "hash": "05aff6734a0136c1456f6cababa7509d8ef823a72f9d7deb75637cc690b3e532"
   }
  }
 },
 "nbformat": 4,
 "nbformat_minor": 2,
 "cells": [
  {
   "source": [
    "# Chaos during a stampede\n",
    "\n",
    "Based on the paper: https://www.sciencedirect.com/science/article/pii/S1569190X20300861?casa_token=eoCj844--UoAAAAA%3AW5IEQVZQbP5ILasesMnahd3iIgfHNXfAWnaI7RsboLHrfqNA-UNxb_pyNF5FIyDN0hoKbjdC-EA "
   ],
   "cell_type": "markdown",
   "metadata": {}
  },
  {
   "source": [
    "### To do:\n",
    "Implement everything\n",
    "\n",
    "### Ideas:\n",
    "Implement people as class so that we can define their state and position as parts of that class.\n",
    "\n",
    "Use code example below, set all bordercells to 500 (= wall)\n",
    "Use different values for different states of people.\n",
    "Make custom update rules."
   ],
   "cell_type": "markdown",
   "metadata": {}
  },
  {
   "source": [
    "### Steps:\n",
    "1. Populate board with random amount of people in random positions\n",
    "2. In each time step, calculate the static floor field Sij, the dynamic floor field Dij and the event floor field Fij with help of the formulas.\n",
    "3. For each pedestrian, determine his/her state and make a decision regarding movement behavior. If the pedestrian is in\n",
    "state Ue,Un or Ae, calculate the transition probability according to Eqs. (15)–(17), respectively. If the pedestrian is in state An, he/\n",
    "she chooses one of the strategies S1, S2 or S3 to evacuate. If the pedestrian is in state C, calculate the probability of him/her\n",
    "getting up again.\n",
    "4. Each pedestrian moves to his/her target cell. If the pedestrian chooses a target cell that is occupied by a fallen pedestrian, he/she will be tripped and become a new fallen pedestrian.\n",
    "5. If the chaos duration is over, uninjured pedestrians regard fallen pedestrians as obstacles and conduct a normal evacuation. There will be no more new fallen pedestrians.\n",
    "6. When multiple pedestrians choose to move to the same target, one pedestrian is randomly selected with equal probability to move to the target cell, and other pedestrians remain in their original cells.\n",
    "7. Determine whether the evacuation is over. If there are still uninjured pedestrians in the room, return to step 2 and repeat the simulation process until all the uninjured pedestrians evacuate from the room.\n",
    "\n",
    "### Variables:\n",
    "\n",
    "S = static floor: describes pedestrian behavior of finding the shortest path to the exit during the evacuation process.\n",
    "D = dynamic floor: represents the interactions among pedestrians in the evacuation process.\n",
    "F = event floor: reflects thhat some pedestrians intend to escape from the stampede location when they are affected by the stampede.\n",
    "A = risk floor field: depicts that pedestrian movement direction affects the risk of being tripped.\n",
    "\n",
    "### evac strategies:\n",
    "S1 = Tries to stay away from the stampede location (Eq 1)\n",
    "S2 = Follows movement of neighbours \n",
    "S3 = keeps moving in same direction until wall is reached, then follows it clockwise or anti clockwise.\n",
    "     when they stay in the same cell for more then 5 time steps, they change the desired direction randomly.\n"
   ],
   "cell_type": "markdown",
   "metadata": {}
  },
  {
   "cell_type": "code",
   "execution_count": 10,
   "metadata": {},
   "outputs": [],
   "source": [
    "# imports\n",
    "\n",
    "import numpy as np\n",
    "import random\n",
    "import matplotlib.pyplot as plt"
   ]
  },
  {
   "cell_type": "code",
   "execution_count": 133,
   "metadata": {},
   "outputs": [],
   "source": [
    "# functions\n",
    "\n",
    "def init_board(board_size,num_people,exit_locs,sight_radius,state_dic):\n",
    "    # this function returns 2 things:\n",
    "    # 1. The board filled with numeric values. Where each state is represented by a certain number\n",
    "    # 2. The list of people on the board, this is the list that we can iterate over every time.\n",
    "        # populate board with size r x r with x people\n",
    "        # decide where exits are with e list of locations of exits\n",
    "        # set remaining walls to 500\n",
    "\n",
    "    # create board with all walls being 500\n",
    "    board = np.ones((board_size,board_size)) * 500\n",
    "    board[1:-1,1:-1] = 0\n",
    "\n",
    "    # add the exit locations\n",
    "    board[exit_locs] = 1\n",
    "\n",
    "    # calculate all possible locations\n",
    "    locations = []\n",
    "\n",
    "    for x in range(1,board_size-1):\n",
    "        for y in range(1,board_size-1):\n",
    "            locations.append([x,y])\n",
    "\n",
    "    if len(locations) >= num_people:\n",
    "        uniq_locations = random.sample(locations,num_people)\n",
    "    else:\n",
    "        raise ValueError('num_people can not be greater than the number of free spaces on the board')\n",
    "\n",
    "    # add the people to the board\n",
    "    person_list = []\n",
    "\n",
    "    for i,location in enumerate(uniq_locations):\n",
    "        # set standard state to 'Un' if exit in range set to 'Ue'\n",
    "        pstate = 'Un'\n",
    "        for exit_loc in exit_locs:\n",
    "            if np.sqrt((exit_loc[0]-location[0])**2+(exit_loc[1]-location[1])**2) <= sight_radius:\n",
    "                pstate = 'Ue'\n",
    "        \n",
    "        person_list.append(Pedestrian(location,pstate))\n",
    "\n",
    "        board[location[0], location[1]] = state_dic[pstate]\n",
    "\n",
    "    return board, person_list\n",
    "\n",
    "def get_locations(person_list):\n",
    "    return np.array([person.location for person in person_list])\n",
    "\n",
    "def init_S(board_size, S_wall, S_exit, obstacle_locs, exit_locs, mu):\n",
    "    \"\"\"Creates the initial static floor field S.\n",
    "    The static floor field describes the path on the grid which is the shortest way to the exit.\n",
    "    All walls are assumed to be on the outside of the grid.\n",
    "    Inputs:\n",
    "      board_size: Length of the square board\n",
    "      S_wall: Value of the static field for a wall or obstacle\n",
    "      S_exit: Value of the static field for the exit\n",
    "      obstacle_locs: Locations of the obstacles on the grid\n",
    "      exit_locs: Locations of the exit\n",
    "      mu: Ratio of distance when travelling to a neighbouring diagonal cell over travelling to a neighbouring cell on a side\n",
    "    \"\"\"\n",
    "    S = np.ones((board_size, board_size)) * np.inf # Initialise array full of +infinity since filling up S is based on selecting minimum values\n",
    "    side_neighbour_mask = np.zeros((3, 3), dtype = bool)\n",
    "    side_neighbour_mask[0, 1] = side_neighbour_mask[1, 0] = side_neighbour_mask[1, -1] = side_neighbour_mask[-1, 1] = True\n",
    "\n",
    "    diag_neighbour_mask = np.zeros((3,3), dtype = bool)\n",
    "    diag_neighbour_mask[0, 0] = diag_neighbour_mask[0, -1] = diag_neighbour_mask[-1, 0] = diag_neighbour_mask[-1, -1] = True\n",
    "\n",
    "    S[exit_locs] = S_exit\n",
    "\n",
    "    curr_cells = [[exit_locs[0][i], exit_locs[1][i]] for i in range(len(exit_locs[0]))]\n",
    "    next_cells = []\n",
    "    done_cells = []\n",
    "\n",
    "\n",
    "    # The exit cells are the only cells on the border to evaluate and require a special treatment (don't select any cells outside of the existing grid)\n",
    "    for y, x in curr_cells:\n",
    "        for i in np.arange(np.maximum(1, y-1), np.minimum(board_size, y+2)):\n",
    "            for j in np.arange(np.maximum(1, x-1), np.minimum(board_size, x+2)):\n",
    "                if (i, j) != (y, x):\n",
    "                    if ((y-i)+(x-j))%2 == 0: # diagonal neighbour\n",
    "                        S[i,j] = np.minimum(S[y, x] + mu, S[i, j])\n",
    "                    else: # side neighbour\n",
    "                        S[i,j] = np.minimum(S[y, x] + 1, S[i, j])\n",
    "\n",
    "                    next_cells += [[i, j]]\n",
    "\n",
    "                    S[:, 0] = S[:, -1] = S_wall\n",
    "                    S[0, :] = S[-1, :] = S_wall\n",
    "                    if obstacle_locs: # => If the list of obstacles isn't empty\n",
    "                        S[obstacle_locs] = S_wall\n",
    "                    S[exit_locs] = S_exit\n",
    "\n",
    "    while next_cells:\n",
    "        done_cells += curr_cells\n",
    "        curr_cells = next_cells\n",
    "        next_cells = []\n",
    "\n",
    "        for y, x in curr_cells:\n",
    "            S[y-1:y+2, x-1:x+2][side_neighbour_mask] = np.minimum(S[y, x] + 1, S[y-1:y+2, x-1:x+2][side_neighbour_mask])\n",
    "            S[y-1:y+2, x-1:x+2][diag_neighbour_mask] = np.minimum(S[y, x] + mu, S[y-1:y+2, x-1:x+2][diag_neighbour_mask])\n",
    "            next_cells += [[y+i, x+j] for i in range(-1, 2) for j in range(-1, 2) if i != 0 or j != 0 if y+i > 0 and y+i < board_size-1 if x+j > 0 and x+j < board_size-1] # Select all neighbouring cells but not the cell itself\n",
    "            S[:, 0] = S[:, -1] = S_wall\n",
    "            S[0, :] = S[-1, :] = S_wall\n",
    "            if obstacle_locs: # => If the list of obstacles isn't empty\n",
    "                S[obstacle_locs] = S_wall\n",
    "            S[exit_locs] = S_exit\n",
    "            \n",
    "        next_cells = np.unique(next_cells, axis = 0).tolist() # Specify axis or the list of lists will be flattened to 1 list\n",
    "        next_cells = [cell for cell in next_cells if not cell in done_cells]\n",
    "\n",
    "\n",
    "    \n",
    "\n",
    "    return S\n",
    "\n",
    "def init_D(board_size):\n",
    "    \"\"\"Creates the initial dynamic floor field D.\n",
    "    The dynamic floor field describes interactions between pedestrians \n",
    "    (i.e. people don't tend to intentionally sprint into eachother when trying to evacuate)\n",
    "    Inputs:\n",
    "      board_size: Length of the square board\n",
    "    \"\"\"\n",
    "    D = np.zeros((board_size, board_size))\n",
    "\n",
    "    return D\n",
    "\n",
    "def update_D(D, locations, locations_prev):\n",
    "    \"\"\"Updates the dynamic floor field D.\n",
    "    Inputs:\n",
    "      D: The previous state of the dynamic floor field.\n",
    "      locations: numpy array with current locations of all persons\n",
    "      locations_prev: numpy array with locations of all persons at previous timestep\n",
    "    \"\"\"\n",
    "    updated_locations = locations[np.where(prev_locations != locations)]\n",
    "    D[updated_locations[::2], updated_locations[1::2]] += 1\n",
    "    return D\n",
    "\n",
    "def calc_S(board, person):\n",
    "    return S \n",
    "\n",
    "def calc_D(board, person):\n",
    "    return D \n",
    "\n",
    "def calc_F(board, person):\n",
    "    return F \n",
    "\n",
    "def calc_tumble(sight_radius,ka,kc,board):\n",
    "    #rho = (sum of num of spaces that are occupied)/abs(U0)\n",
    "    if rho > 0.64: # more then 4 people/m^2 so trample threshold is exceeded\n",
    "        eps = 1\n",
    "    else:\n",
    "        eps = 0\n",
    "     \n",
    "    Aij = np.cos(theta) - 1 # theta is de hoek tussen bewegingsrichting van vorige stap en normaal van huidige cell naar cell ij\n",
    "    if board[i,j] == 500:\n",
    "        aij = kc*eps*rho*np.exp(ka*Aij)\n",
    "    else:\n",
    "        aij = 1\n",
    "    \n",
    "    return aij\n",
    "\n",
    "\n",
    "def check_state(person):\n",
    "    \n",
    "    return state # TODO: Im checking if this works :)\n",
    "\n",
    "def move_direction(person,board):\n",
    "    # this function looks at the current state of the person\n",
    "    # based on this state it defines it next movement step\n",
    "    # then it defines the chance of this step being taken\n",
    "    # if the person tumbles its state is changed to C and the board is adapted\n",
    "    # next the person gets its new location assigned in person.new_location\n",
    "\n",
    "    # calc trans prob for every direction, then max trans prob = movement\n",
    "\n",
    "    if person.state == 'Ue':\n",
    "        print()\n",
    "    elif person.state == 'Un':\n",
    "        print()\n",
    "    elif person.state == 'Ae':\n",
    "        print()\n",
    "    elif person.state == 'An':\n",
    "        if person.evac_strat == 'S1':\n",
    "            print()\n",
    "        elif person.evac_strat == 'S2':\n",
    "            print() \n",
    "        else:\n",
    "            print()\n",
    "    elif person.state == 'C':\n",
    "        print()\n",
    "        # implement that they get up with probability x\n",
    "        # where x follows a poisson distribution with lambda = 1 based on the duration that they are down\n",
    "    else:\n",
    "        raise ValueError('Non existing person state')\n",
    "\n",
    "    return location\n",
    "\n",
    "def check_stampede(people_list):\n",
    "    states = [person.state for person in people_list]\n",
    "\n",
    "    if any(not(states == 'left' or states == 'C')):\n",
    "        stampede = True\n",
    "    else:\n",
    "        stampede = False\n",
    "    \n",
    "    return stampede\n",
    "\n",
    "def plot_room(board):\n",
    "    color_map = {0: np.array([255, 255, 255]), # white\n",
    "             1: np.array([255, 255, 255]), # white\n",
    "             2: np.array([0, 255, 0]), # green\n",
    "             3: np.array([0, 0, 255]), # blue\n",
    "             4: np.array([255, 0, ]), # red\n",
    "             5: np.array([255, 153, 51]), # orange\n",
    "             6: np.array([255, 255, 0]), # yellow\n",
    "             500: np.array([128, 128, 128])} # gray \n",
    "\n",
    "    # make a 3d numpy array that has a color channel dimension   \n",
    "    data_3d = np.ndarray(shape=(board.shape[0], board.shape[1], 3), dtype=int)\n",
    "    for i in range(0, board.shape[0]):\n",
    "        for j in range(0, board.shape[1]):\n",
    "            data_3d[i][j] = color_map[int(board[i][j])]\n",
    "    \n",
    "    return data_3d\n",
    "\n",
    "\n",
    "# classes\n",
    "\n",
    "class Pedestrian:\n",
    "  def __init__(self, location, state):\n",
    "    self.evac_strat = random.choices(['S1','S2','S3'],(50,30,20))[0]\n",
    "    self.location = location\n",
    "    self.state = state \n",
    "    self.direction = 'none'\n",
    "    self.new_location = [0,0]\n"
   ]
  },
  {
   "cell_type": "code",
   "execution_count": 142,
   "metadata": {},
   "outputs": [],
   "source": [
    "# parameters\n",
    "board_size = 30 # size of board \n",
    "num_people = 100 # number of people\n",
    "\n",
    "##b Assigning locations as a tuple of a list with all y-coordinates and a list with all x-coordinates allows for multiple indexing\n",
    "exit_locs = ([int(board_size/2-2), int(board_size/2-1), int(board_size/2), int(board_size/2+1)], [0, 0, 0, 0]) # exit locations (middle of left wall)\n",
    "obstacle_locs = () # No obstacles for now\n",
    "\n",
    "S_wall = 500\n",
    "S_exit = 1\n",
    "mu = 1.5\n",
    "\n",
    "Ts = 1 # occurrence time of the stampede\n",
    "Tc = Ts + 50 # chaos duration\n",
    "\n",
    "kc = 0.5 # sensitivity parameter for tumble factor \n",
    "ka = 1 # sensitivity parameter for tumble factor \n",
    "ks = 5 # sensitivity parameter for the static field\n",
    "kd = 1 # sensitivity parameter for the dynamic field\n",
    "alpha = 0.3\n",
    "delta = 0.3\n",
    "sight_radius = 5 # perception radius for each person\n",
    "\n",
    "Srange = 8 # stampede range\n",
    "\n",
    "state_dic = {'Ue':2,'Un':3,'Ae':4,'An':5,'C':6}\n",
    "# each time step == 0.3s"
   ]
  },
  {
   "cell_type": "code",
   "execution_count": 143,
   "metadata": {},
   "outputs": [],
   "source": [
    "board, person_list = init_board(board_size,num_people,exit_locs,sight_radius,state_dic) \n",
    "S = init_S(board_size, S_wall, S_exit, obstacle_locs, exit_locs, mu)\n",
    "D = init_D(board_size)"
   ]
  },
  {
   "cell_type": "code",
   "execution_count": 144,
   "metadata": {},
   "outputs": [
    {
     "output_type": "error",
     "ename": "IndentationError",
     "evalue": "expected an indented block (<ipython-input-144-31fe63d53647>, line 69)",
     "traceback": [
      "\u001b[1;36m  File \u001b[1;32m\"<ipython-input-144-31fe63d53647>\"\u001b[1;36m, line \u001b[1;32m69\u001b[0m\n\u001b[1;33m    for #non dupes:\u001b[0m\n\u001b[1;37m    ^\u001b[0m\n\u001b[1;31mIndentationError\u001b[0m\u001b[1;31m:\u001b[0m expected an indented block\n"
     ]
    }
   ],
   "source": [
    "# main function\n",
    "\n",
    "# fill board with people and initialize them\n",
    "\n",
    "board, person_list = init_board(board_size,num_people,exit_locs,sight_radius,state_dic) \n",
    "\n",
    "# add starting board to stampede clip, this will later be transformed to a gif.\n",
    "\n",
    "stampede_clip = np.zeros((0,board_size,board_size,3))\n",
    "temp = np.reshape(plot_room(board),(1,board_size,board_size,3))\n",
    "stampede_clip = np.vstack((stampede_clip,temp))\n",
    "\n",
    "time = 1\n",
    "\n",
    "stampede = True\n",
    "chaos = False\n",
    "\n",
    "S = calc_S(board, person)\n",
    "\n",
    "while stampede:\n",
    "\n",
    "    if time == Ts:\n",
    "        chaos = True\n",
    "        x = random.randint(0,len(person_list))\n",
    "        person_list[x].state = 'C'\n",
    "        c_loc = person_list[x].location\n",
    "        board[c_loc[0],c_loc[1]] = state_dic['C']\n",
    "        \n",
    "    \n",
    "    if time > Tc:\n",
    "        chaos = False\n",
    "        # C becomes obstacle (= 500)\n",
    "        S = calc_S(board)\n",
    "        # change evacuation strategy of others to normal\n",
    "        # change to fall = 0\n",
    "\n",
    "    # step 2: iterate over every person in person_list\n",
    "\n",
    "    D = calc_D(board, person)\n",
    "    F = calc_F(board, person)\n",
    "\n",
    "    for person in person_list:\n",
    "        \n",
    "        # calculate state of person\n",
    "\n",
    "        person.state = check_state(person)\n",
    "    \n",
    "        # calculate Sij, Dij and Fij\n",
    "\n",
    "\n",
    "        # calculate movement of each person \n",
    "        # or if person.state = 'C' calculate chance of getting up\n",
    "\n",
    "        person = move_direction(person,board)\n",
    "    \n",
    "    next_locations = [person.new_location for person in person_list if person.state != 'C']\n",
    "\n",
    "    # find duplicate locations in next_locations list and put in dupes\n",
    "\n",
    "    dupes = []\n",
    "    dupes = ...\n",
    "\n",
    "    if dupes:\n",
    "\n",
    "        for dupe in dupes:\n",
    "            # for all dupes calc which person moves and set its location to new location\n",
    "            # The other persons stay in there original location\n",
    "        \n",
    "        for #non dupes:\n",
    "            # set location to new locations\n",
    "    \n",
    "    else:\n",
    "        for person in person_list:\n",
    "            person.location = person.new_location\n",
    "\n",
    "    # check if stampede is over\n",
    "\n",
    "    stampede = check_stampede(person_list)\n",
    "\n",
    "    # write current board to total\n",
    "    temp = np.reshape(plot_room(board),(1,board_size,board_size,3))\n",
    "    stampede_clip = np.vstack((stampede_clip,temp))\n",
    "    time += 1\n"
   ]
  },
  {
   "cell_type": "code",
   "execution_count": 145,
   "metadata": {},
   "outputs": [
    {
     "output_type": "execute_result",
     "data": {
      "text/plain": [
       "<matplotlib.image.AxesImage at 0x2ecffcc55e0>"
      ]
     },
     "metadata": {},
     "execution_count": 145
    },
    {
     "output_type": "display_data",
     "data": {
      "text/plain": "<Figure size 432x288 with 1 Axes>",
      "image/svg+xml": "<?xml version=\"1.0\" encoding=\"utf-8\" standalone=\"no\"?>\r\n<!DOCTYPE svg PUBLIC \"-//W3C//DTD SVG 1.1//EN\"\r\n  \"http://www.w3.org/Graphics/SVG/1.1/DTD/svg11.dtd\">\r\n<svg height=\"248.693344pt\" version=\"1.1\" viewBox=\"0 0 251.565 248.693344\" width=\"251.565pt\" xmlns=\"http://www.w3.org/2000/svg\" xmlns:xlink=\"http://www.w3.org/1999/xlink\">\r\n <metadata>\r\n  <rdf:RDF xmlns:cc=\"http://creativecommons.org/ns#\" xmlns:dc=\"http://purl.org/dc/elements/1.1/\" xmlns:rdf=\"http://www.w3.org/1999/02/22-rdf-syntax-ns#\">\r\n   <cc:Work>\r\n    <dc:type rdf:resource=\"http://purl.org/dc/dcmitype/StillImage\"/>\r\n    <dc:date>2021-05-15T20:35:50.583915</dc:date>\r\n    <dc:format>image/svg+xml</dc:format>\r\n    <dc:creator>\r\n     <cc:Agent>\r\n      <dc:title>Matplotlib v3.4.1, https://matplotlib.org/</dc:title>\r\n     </cc:Agent>\r\n    </dc:creator>\r\n   </cc:Work>\r\n  </rdf:RDF>\r\n </metadata>\r\n <defs>\r\n  <style type=\"text/css\">*{stroke-linecap:butt;stroke-linejoin:round;}</style>\r\n </defs>\r\n <g id=\"figure_1\">\r\n  <g id=\"patch_1\">\r\n   <path d=\"M 0 248.693344 \r\nL 251.565 248.693344 \r\nL 251.565 0 \r\nL 0 0 \r\nz\r\n\" style=\"fill:none;\"/>\r\n  </g>\r\n  <g id=\"axes_1\">\r\n   <g id=\"patch_2\">\r\n    <path d=\"M 26.925 224.815219 \r\nL 244.365 224.815219 \r\nL 244.365 7.375219 \r\nL 26.925 7.375219 \r\nz\r\n\" style=\"fill:#ffffff;\"/>\r\n   </g>\r\n   <g clip-path=\"url(#p4cfd0f615d)\">\r\n    <image height=\"218\" id=\"image4116a8b9b1\" transform=\"scale(1 -1)translate(0 -218)\" width=\"218\" x=\"26.925\" xlink:href=\"data:image/png;base64,\r\niVBORw0KGgoAAAANSUhEUgAAANoAAADaCAYAAADAHVzbAAAEbElEQVR4nO3dy40UOwBA0ZmniYI1AZAFMZMFUUAUiLdiOdVSW762q8/ZjuhPNVeW7Cr7/c/vr3/fgKn+W/0B4BUIDQJCg4DQICA0CAgNAh9Xf/z+5Vv0MW7q/f3zv/21qjLVgmv/49fPT/9mRIOA0CAgNAgIDQJCg4DQICA0CFyuoy1xtf7x9nbW+tNJn/VuNrv2RjQICA0CQoOA0CAgNAgIDQLX0/srptofvaZHT8asuH5+MyMaFIQGAaFBQGgQEBoEhAaB6+n9FVOvd7p7/8qq77ni+p30m01aijCiQUBoEBAaBIQGAaFBQGgQ2G9znpGp4JPuEt/t8+xoxe856XWNaBAQGgSEBgGhQUBoEBAaBIQGgf3W0eCfG+3KZUSDgNAgIDQICA0CQoOA0CAwdsjFs66mUEd2h7rToycOo5hnwXcxokFAaBAQGgSEBgGhQUBoENjvkIs7TSOPTJe79ms45ALOJTQICA0CQoOA0CAgNAjYnGcm0+XzzDoD3OY8cC6hQUBoEBAaBIQGAaFBQGgQGNsFa8aaw4r3nGXkkYtZO5BdOenaHrYTmBENAkKDgNAgIDQICA0CQoOAXbBG7XYwxGnX78rIEofHZOD1CA0CQoOA0CAgNAgIDQLn7YL17HT6rGn4We95p2n6GUauz4InI4xoEBAaBIQGAaFBQGgQEBoEPr5/+fb8v15x5/pmd2Vv9553stv/oQFGNAgIDQJCg4DQICA0CAgNAkKDwNhjMs+uR+y2c9RpVuwOdWXHw1CuWEeDexIaBIQGAaFBQGgQEBoE1uyCNWsHo92WBlbsvDXLrO/y7Ouu2AXLGdawN6FBQGgQEBoEhAYBoUHgvEMudpvCvzLrs560+9iq193sPY1oEBAaBIQGAaFBQGgQEBoEhAaBjx+/fn76x6GTZnazYu3pTo/J3Mmzv8vAzltGNAgIDQJCg4DQICA0CAgNAtePyYwcXrBgp6Fpr7vbd+GxGUsrdsGCvQkNAkKDgNAgIDQICA0C19P7p91h7m75eznpQJMHjGgQEBoEhAYBoUFAaBAQGgTOO+TiymFTvkcZmWpfcU71Zv8XjGgQEBoEhAYBoUFAaBAQGgSEBoE162g3evzhZdxoTevSwEEWV4xoEBAaBIQGAaFBQGgQEBoE1kzv77ZD1iMnTU/fyYrfbNJvbUSDgNAgIDQICA0CQoOA0CAw7wzr3cz6rJ5EmOdG18+IBgGhQUBoEBAaBIQGAaFBYOwM6xVT2zPec9Zd4q8y9X+nZaBJjGgQEBoEhAYBoUFAaBAQGgSEBoGxXbBmrFs9es0ZazLWecbMWm+dtQ757LrpwHsa0SAgNAgIDQJCg4DQICA0CLzOIRcr7Pg9Vzy6s9mBEyt+FyMaBIQGAaFBQGgQEBoEhAYBoUFAaBAQGgSEBgGhQUBoEBAaBNbcvT/rUIln33PHu+y51W9mRIOA0CAgNAgIDQJCg4DQICA0CLz/+f31rAUJOJARDQJCg4DQICA0CAgNAkKDwP806xwbXDTumwAAAABJRU5ErkJggg==\" y=\"-6.815219\"/>\r\n   </g>\r\n   <g id=\"matplotlib.axis_1\">\r\n    <g id=\"xtick_1\">\r\n     <g id=\"line2d_1\">\r\n      <defs>\r\n       <path d=\"M 0 0 \r\nL 0 3.5 \r\n\" id=\"m7428f78379\" style=\"stroke:#000000;stroke-width:0.8;\"/>\r\n      </defs>\r\n      <g>\r\n       <use style=\"stroke:#000000;stroke-width:0.8;\" x=\"30.549\" xlink:href=\"#m7428f78379\" y=\"224.815219\"/>\r\n      </g>\r\n     </g>\r\n     <g id=\"text_1\">\r\n      <!-- 0 -->\r\n      <g transform=\"translate(27.36775 239.413656)scale(0.1 -0.1)\">\r\n       <defs>\r\n        <path d=\"M 2034 4250 \r\nQ 1547 4250 1301 3770 \r\nQ 1056 3291 1056 2328 \r\nQ 1056 1369 1301 889 \r\nQ 1547 409 2034 409 \r\nQ 2525 409 2770 889 \r\nQ 3016 1369 3016 2328 \r\nQ 3016 3291 2770 3770 \r\nQ 2525 4250 2034 4250 \r\nz\r\nM 2034 4750 \r\nQ 2819 4750 3233 4129 \r\nQ 3647 3509 3647 2328 \r\nQ 3647 1150 3233 529 \r\nQ 2819 -91 2034 -91 \r\nQ 1250 -91 836 529 \r\nQ 422 1150 422 2328 \r\nQ 422 3509 836 4129 \r\nQ 1250 4750 2034 4750 \r\nz\r\n\" id=\"DejaVuSans-30\" transform=\"scale(0.015625)\"/>\r\n       </defs>\r\n       <use xlink:href=\"#DejaVuSans-30\"/>\r\n      </g>\r\n     </g>\r\n    </g>\r\n    <g id=\"xtick_2\">\r\n     <g id=\"line2d_2\">\r\n      <g>\r\n       <use style=\"stroke:#000000;stroke-width:0.8;\" x=\"66.789\" xlink:href=\"#m7428f78379\" y=\"224.815219\"/>\r\n      </g>\r\n     </g>\r\n     <g id=\"text_2\">\r\n      <!-- 5 -->\r\n      <g transform=\"translate(63.60775 239.413656)scale(0.1 -0.1)\">\r\n       <defs>\r\n        <path d=\"M 691 4666 \r\nL 3169 4666 \r\nL 3169 4134 \r\nL 1269 4134 \r\nL 1269 2991 \r\nQ 1406 3038 1543 3061 \r\nQ 1681 3084 1819 3084 \r\nQ 2600 3084 3056 2656 \r\nQ 3513 2228 3513 1497 \r\nQ 3513 744 3044 326 \r\nQ 2575 -91 1722 -91 \r\nQ 1428 -91 1123 -41 \r\nQ 819 9 494 109 \r\nL 494 744 \r\nQ 775 591 1075 516 \r\nQ 1375 441 1709 441 \r\nQ 2250 441 2565 725 \r\nQ 2881 1009 2881 1497 \r\nQ 2881 1984 2565 2268 \r\nQ 2250 2553 1709 2553 \r\nQ 1456 2553 1204 2497 \r\nQ 953 2441 691 2322 \r\nL 691 4666 \r\nz\r\n\" id=\"DejaVuSans-35\" transform=\"scale(0.015625)\"/>\r\n       </defs>\r\n       <use xlink:href=\"#DejaVuSans-35\"/>\r\n      </g>\r\n     </g>\r\n    </g>\r\n    <g id=\"xtick_3\">\r\n     <g id=\"line2d_3\">\r\n      <g>\r\n       <use style=\"stroke:#000000;stroke-width:0.8;\" x=\"103.029\" xlink:href=\"#m7428f78379\" y=\"224.815219\"/>\r\n      </g>\r\n     </g>\r\n     <g id=\"text_3\">\r\n      <!-- 10 -->\r\n      <g transform=\"translate(96.6665 239.413656)scale(0.1 -0.1)\">\r\n       <defs>\r\n        <path d=\"M 794 531 \r\nL 1825 531 \r\nL 1825 4091 \r\nL 703 3866 \r\nL 703 4441 \r\nL 1819 4666 \r\nL 2450 4666 \r\nL 2450 531 \r\nL 3481 531 \r\nL 3481 0 \r\nL 794 0 \r\nL 794 531 \r\nz\r\n\" id=\"DejaVuSans-31\" transform=\"scale(0.015625)\"/>\r\n       </defs>\r\n       <use xlink:href=\"#DejaVuSans-31\"/>\r\n       <use x=\"63.623047\" xlink:href=\"#DejaVuSans-30\"/>\r\n      </g>\r\n     </g>\r\n    </g>\r\n    <g id=\"xtick_4\">\r\n     <g id=\"line2d_4\">\r\n      <g>\r\n       <use style=\"stroke:#000000;stroke-width:0.8;\" x=\"139.269\" xlink:href=\"#m7428f78379\" y=\"224.815219\"/>\r\n      </g>\r\n     </g>\r\n     <g id=\"text_4\">\r\n      <!-- 15 -->\r\n      <g transform=\"translate(132.9065 239.413656)scale(0.1 -0.1)\">\r\n       <use xlink:href=\"#DejaVuSans-31\"/>\r\n       <use x=\"63.623047\" xlink:href=\"#DejaVuSans-35\"/>\r\n      </g>\r\n     </g>\r\n    </g>\r\n    <g id=\"xtick_5\">\r\n     <g id=\"line2d_5\">\r\n      <g>\r\n       <use style=\"stroke:#000000;stroke-width:0.8;\" x=\"175.509\" xlink:href=\"#m7428f78379\" y=\"224.815219\"/>\r\n      </g>\r\n     </g>\r\n     <g id=\"text_5\">\r\n      <!-- 20 -->\r\n      <g transform=\"translate(169.1465 239.413656)scale(0.1 -0.1)\">\r\n       <defs>\r\n        <path d=\"M 1228 531 \r\nL 3431 531 \r\nL 3431 0 \r\nL 469 0 \r\nL 469 531 \r\nQ 828 903 1448 1529 \r\nQ 2069 2156 2228 2338 \r\nQ 2531 2678 2651 2914 \r\nQ 2772 3150 2772 3378 \r\nQ 2772 3750 2511 3984 \r\nQ 2250 4219 1831 4219 \r\nQ 1534 4219 1204 4116 \r\nQ 875 4013 500 3803 \r\nL 500 4441 \r\nQ 881 4594 1212 4672 \r\nQ 1544 4750 1819 4750 \r\nQ 2544 4750 2975 4387 \r\nQ 3406 4025 3406 3419 \r\nQ 3406 3131 3298 2873 \r\nQ 3191 2616 2906 2266 \r\nQ 2828 2175 2409 1742 \r\nQ 1991 1309 1228 531 \r\nz\r\n\" id=\"DejaVuSans-32\" transform=\"scale(0.015625)\"/>\r\n       </defs>\r\n       <use xlink:href=\"#DejaVuSans-32\"/>\r\n       <use x=\"63.623047\" xlink:href=\"#DejaVuSans-30\"/>\r\n      </g>\r\n     </g>\r\n    </g>\r\n    <g id=\"xtick_6\">\r\n     <g id=\"line2d_6\">\r\n      <g>\r\n       <use style=\"stroke:#000000;stroke-width:0.8;\" x=\"211.749\" xlink:href=\"#m7428f78379\" y=\"224.815219\"/>\r\n      </g>\r\n     </g>\r\n     <g id=\"text_6\">\r\n      <!-- 25 -->\r\n      <g transform=\"translate(205.3865 239.413656)scale(0.1 -0.1)\">\r\n       <use xlink:href=\"#DejaVuSans-32\"/>\r\n       <use x=\"63.623047\" xlink:href=\"#DejaVuSans-35\"/>\r\n      </g>\r\n     </g>\r\n    </g>\r\n   </g>\r\n   <g id=\"matplotlib.axis_2\">\r\n    <g id=\"ytick_1\">\r\n     <g id=\"line2d_7\">\r\n      <defs>\r\n       <path d=\"M 0 0 \r\nL -3.5 0 \r\n\" id=\"m869d7de424\" style=\"stroke:#000000;stroke-width:0.8;\"/>\r\n      </defs>\r\n      <g>\r\n       <use style=\"stroke:#000000;stroke-width:0.8;\" x=\"26.925\" xlink:href=\"#m869d7de424\" y=\"10.999219\"/>\r\n      </g>\r\n     </g>\r\n     <g id=\"text_7\">\r\n      <!-- 0 -->\r\n      <g transform=\"translate(13.5625 14.798437)scale(0.1 -0.1)\">\r\n       <use xlink:href=\"#DejaVuSans-30\"/>\r\n      </g>\r\n     </g>\r\n    </g>\r\n    <g id=\"ytick_2\">\r\n     <g id=\"line2d_8\">\r\n      <g>\r\n       <use style=\"stroke:#000000;stroke-width:0.8;\" x=\"26.925\" xlink:href=\"#m869d7de424\" y=\"47.239219\"/>\r\n      </g>\r\n     </g>\r\n     <g id=\"text_8\">\r\n      <!-- 5 -->\r\n      <g transform=\"translate(13.5625 51.038437)scale(0.1 -0.1)\">\r\n       <use xlink:href=\"#DejaVuSans-35\"/>\r\n      </g>\r\n     </g>\r\n    </g>\r\n    <g id=\"ytick_3\">\r\n     <g id=\"line2d_9\">\r\n      <g>\r\n       <use style=\"stroke:#000000;stroke-width:0.8;\" x=\"26.925\" xlink:href=\"#m869d7de424\" y=\"83.479219\"/>\r\n      </g>\r\n     </g>\r\n     <g id=\"text_9\">\r\n      <!-- 10 -->\r\n      <g transform=\"translate(7.2 87.278437)scale(0.1 -0.1)\">\r\n       <use xlink:href=\"#DejaVuSans-31\"/>\r\n       <use x=\"63.623047\" xlink:href=\"#DejaVuSans-30\"/>\r\n      </g>\r\n     </g>\r\n    </g>\r\n    <g id=\"ytick_4\">\r\n     <g id=\"line2d_10\">\r\n      <g>\r\n       <use style=\"stroke:#000000;stroke-width:0.8;\" x=\"26.925\" xlink:href=\"#m869d7de424\" y=\"119.719219\"/>\r\n      </g>\r\n     </g>\r\n     <g id=\"text_10\">\r\n      <!-- 15 -->\r\n      <g transform=\"translate(7.2 123.518437)scale(0.1 -0.1)\">\r\n       <use xlink:href=\"#DejaVuSans-31\"/>\r\n       <use x=\"63.623047\" xlink:href=\"#DejaVuSans-35\"/>\r\n      </g>\r\n     </g>\r\n    </g>\r\n    <g id=\"ytick_5\">\r\n     <g id=\"line2d_11\">\r\n      <g>\r\n       <use style=\"stroke:#000000;stroke-width:0.8;\" x=\"26.925\" xlink:href=\"#m869d7de424\" y=\"155.959219\"/>\r\n      </g>\r\n     </g>\r\n     <g id=\"text_11\">\r\n      <!-- 20 -->\r\n      <g transform=\"translate(7.2 159.758437)scale(0.1 -0.1)\">\r\n       <use xlink:href=\"#DejaVuSans-32\"/>\r\n       <use x=\"63.623047\" xlink:href=\"#DejaVuSans-30\"/>\r\n      </g>\r\n     </g>\r\n    </g>\r\n    <g id=\"ytick_6\">\r\n     <g id=\"line2d_12\">\r\n      <g>\r\n       <use style=\"stroke:#000000;stroke-width:0.8;\" x=\"26.925\" xlink:href=\"#m869d7de424\" y=\"192.199219\"/>\r\n      </g>\r\n     </g>\r\n     <g id=\"text_12\">\r\n      <!-- 25 -->\r\n      <g transform=\"translate(7.2 195.998437)scale(0.1 -0.1)\">\r\n       <use xlink:href=\"#DejaVuSans-32\"/>\r\n       <use x=\"63.623047\" xlink:href=\"#DejaVuSans-35\"/>\r\n      </g>\r\n     </g>\r\n    </g>\r\n   </g>\r\n   <g id=\"patch_3\">\r\n    <path d=\"M 26.925 224.815219 \r\nL 26.925 7.375219 \r\n\" style=\"fill:none;stroke:#000000;stroke-linecap:square;stroke-linejoin:miter;stroke-width:0.8;\"/>\r\n   </g>\r\n   <g id=\"patch_4\">\r\n    <path d=\"M 244.365 224.815219 \r\nL 244.365 7.375219 \r\n\" style=\"fill:none;stroke:#000000;stroke-linecap:square;stroke-linejoin:miter;stroke-width:0.8;\"/>\r\n   </g>\r\n   <g id=\"patch_5\">\r\n    <path d=\"M 26.925 224.815219 \r\nL 244.365 224.815219 \r\n\" style=\"fill:none;stroke:#000000;stroke-linecap:square;stroke-linejoin:miter;stroke-width:0.8;\"/>\r\n   </g>\r\n   <g id=\"patch_6\">\r\n    <path d=\"M 26.925 7.375219 \r\nL 244.365 7.375219 \r\n\" style=\"fill:none;stroke:#000000;stroke-linecap:square;stroke-linejoin:miter;stroke-width:0.8;\"/>\r\n   </g>\r\n  </g>\r\n </g>\r\n <defs>\r\n  <clipPath id=\"p4cfd0f615d\">\r\n   <rect height=\"217.44\" width=\"217.44\" x=\"26.925\" y=\"7.375219\"/>\r\n  </clipPath>\r\n </defs>\r\n</svg>\r\n",
      "image/png": "[encoded data removed]"
     },
     "metadata": {
      "needs_background": "light"
     }
    }
   ],
   "source": [
    "plt.imshow(board)"
   ]
  },
  {
   "cell_type": "code",
   "execution_count": 146,
   "metadata": {},
   "outputs": [
    {
     "output_type": "execute_result",
     "data": {
      "text/plain": [
       "<matplotlib.image.AxesImage at 0x2ec899a9460>"
      ]
     },
     "metadata": {},
     "execution_count": 146
    },
    {
     "output_type": "display_data",
     "data": {
      "text/plain": "<Figure size 432x288 with 1 Axes>",
      "image/svg+xml": "<?xml version=\"1.0\" encoding=\"utf-8\" standalone=\"no\"?>\r\n<!DOCTYPE svg PUBLIC \"-//W3C//DTD SVG 1.1//EN\"\r\n  \"http://www.w3.org/Graphics/SVG/1.1/DTD/svg11.dtd\">\r\n<svg height=\"248.693344pt\" version=\"1.1\" viewBox=\"0 0 251.565 248.693344\" width=\"251.565pt\" xmlns=\"http://www.w3.org/2000/svg\" xmlns:xlink=\"http://www.w3.org/1999/xlink\">\r\n <metadata>\r\n  <rdf:RDF xmlns:cc=\"http://creativecommons.org/ns#\" xmlns:dc=\"http://purl.org/dc/elements/1.1/\" xmlns:rdf=\"http://www.w3.org/1999/02/22-rdf-syntax-ns#\">\r\n   <cc:Work>\r\n    <dc:type rdf:resource=\"http://purl.org/dc/dcmitype/StillImage\"/>\r\n    <dc:date>2021-05-15T20:35:51.385282</dc:date>\r\n    <dc:format>image/svg+xml</dc:format>\r\n    <dc:creator>\r\n     <cc:Agent>\r\n      <dc:title>Matplotlib v3.4.1, https://matplotlib.org/</dc:title>\r\n     </cc:Agent>\r\n    </dc:creator>\r\n   </cc:Work>\r\n  </rdf:RDF>\r\n </metadata>\r\n <defs>\r\n  <style type=\"text/css\">*{stroke-linecap:butt;stroke-linejoin:round;}</style>\r\n </defs>\r\n <g id=\"figure_1\">\r\n  <g id=\"patch_1\">\r\n   <path d=\"M 0 248.693344 \r\nL 251.565 248.693344 \r\nL 251.565 0 \r\nL 0 0 \r\nz\r\n\" style=\"fill:none;\"/>\r\n  </g>\r\n  <g id=\"axes_1\">\r\n   <g id=\"patch_2\">\r\n    <path d=\"M 26.925 224.815219 \r\nL 244.365 224.815219 \r\nL 244.365 7.375219 \r\nL 26.925 7.375219 \r\nz\r\n\" style=\"fill:#ffffff;\"/>\r\n   </g>\r\n   <g clip-path=\"url(#pe943fb22ae)\">\r\n    <image height=\"218\" id=\"image5a9c75acbd\" transform=\"scale(1 -1)translate(0 -218)\" width=\"218\" x=\"26.925\" xlink:href=\"data:image/png;base64,\r\niVBORw0KGgoAAAANSUhEUgAAANoAAADaCAYAAADAHVzbAAAFUklEQVR4nO3dsW4cRQCA4T3LT0EBEooEJQVCNNCS8L4IUtMiREtLkTxFbAorBcXNhpnsv7H9fa1lz96df680s+O5vHv74n4DDnVz9gXAcyA0CAgNAkKDgNAgIDQI3I6++OrL748Z9eaEvi+XfsyF13mZvd6bhdd5mbzepTEnv3f2Wrdt+nr3PpNf/nx9fcipEYH/RWgQEBoEhAYBoUFAaBAQGgSG62j39+MdNNNrPXd3c9+3bfNrUzuvZeiI13nGWiKn8WlDQGgQEBoEhAYBoUFAaBAYTu/v2Zv+v2Z6WWDb5pcGVqbTR6/zoO03o/d2+P7d7Xwmoy0i94P3drQtZWnMyfd2dK3bNn+9g2ud/X3fNnc0SAgNAkKDgNAgIDQICA0C4+n9lWnbgZVp0k9ux8Ds9PTe9Xi6/0nxaUJAaBAQGgSEBgGhQUBoEFh6en93+v+ahUMRTtkx8ImZfrJ/26afXJ9+sn9pzIVdE0fsRFj4vXVHg4DQICA0CAgNAkKDgNAgIDQIjNfRVv7T0Mjs+tu2HbI1Z3/tafKwipV1IAdkPCk+MQgIDQJCg4DQICA0CAgNAmvbZPam/6+ZXRbYtsO2MTwVS+eOH7GFZtuO2Zayt11q9oCMlcM8BtzRICA0CAgNAkKDgNAgIDQIDKf373emMy+z0+mzywIPg17/2kFnE4+nxA94sv9h0I8/JqfxqUBAaBAQGgSEBgGhQUBoEFh6en9v+v+a0bLAb//8Mfzel198NzUmD6b/SdHKrokzDpyY/cdIK4d5DLijQUBoEBAaBIQGAaFBQGgQEBoETjnkYrT+9vLzb3e+u1+TmV97WtjOMrsONBrzQ8blEN51CAgNAkKDgNAgIDQICA0Cxx1ysXKQBac4ZAvNts0fkLFy4MTsARmzW2h2qAECQoOA0CAgNAgIDQJCg8DO0/v9OcFLB2ucMFV8yJP92zZ/QMZozL1xPdl/GO8sBIQGAaFBQGgQEBoEhAaB258+++bsa+ARmF7G2Lb5f4y0sjtkesyFpZMBdzQICA0CQoOA0CAgNAgIDQJCg4DQICA0CAgNAkKDgNAgIDQICA0CQoOA0CAgNAgIDQJCg4DQICA0CAgNAkKDgNAgIDQICA0CQoOA0CAgNAjcvn7z19UvOmmG93ZPjBkZnd4yHHThPjA95sLrHHBHg4DQICA0CAgNAkKDgNAgcDv86spU5+TU7GV2WnZhzOmp4G1h2vtm4W/c0lS7v61n8K5DQGgQEBoEhAYBoUFAaBAYT+/vWXm6mlP8+vfvV7/289c/zv3QR7YkM708svD7rhQICA0CQoOA0CAgNAgIDQI7T+8f06En9D9o0EPGfPXVDx99SPa5o0FAaBAQGgSEBgGhQUBoEBAaBJa2ySyth3GK+TXBx7X2ecZWmBF3NAgIDQJCg4DQICA0CAgNAsPp/cOm74/671mT17t2PvPka3FQxbPiE4OA0CAgNAgIDQJCg4DQIPD4DrmwY2BobanihCfep8d8XLsJ3NEgIDQICA0CQoOA0CAgNAiccsjFGVP0ntDnTD5NCAgNAkKDgNAgIDQICA0CQoPA2jaZx7Ye9kTYCvMh33vCwRqjH3vITwX+Q2gQEBoEhAYBoUFAaBAYT+8fNNV5yhT9UdtOps+E9jfuOfFpQ0BoEBAaBIQGAaFBQGgQWHp6/0lN04+c8Dqn39uVJZkznniffZ0n7CZY+X13R4OA0CAgNAgIDQJCg4DQIDCc3j9s+v6ZTNF7Qp/3/CZAQGgQEBoEhAYBoUFAaBAQGgQu796+uD/7IuCpc0eDgNAgIDQICA0CQoOA0CDwL80F1sytn4jXAAAAAElFTkSuQmCC\" y=\"-6.815219\"/>\r\n   </g>\r\n   <g id=\"matplotlib.axis_1\">\r\n    <g id=\"xtick_1\">\r\n     <g id=\"line2d_1\">\r\n      <defs>\r\n       <path d=\"M 0 0 \r\nL 0 3.5 \r\n\" id=\"ma11eff6c54\" style=\"stroke:#000000;stroke-width:0.8;\"/>\r\n      </defs>\r\n      <g>\r\n       <use style=\"stroke:#000000;stroke-width:0.8;\" x=\"30.549\" xlink:href=\"#ma11eff6c54\" y=\"224.815219\"/>\r\n      </g>\r\n     </g>\r\n     <g id=\"text_1\">\r\n      <!-- 0 -->\r\n      <g transform=\"translate(27.36775 239.413656)scale(0.1 -0.1)\">\r\n       <defs>\r\n        <path d=\"M 2034 4250 \r\nQ 1547 4250 1301 3770 \r\nQ 1056 3291 1056 2328 \r\nQ 1056 1369 1301 889 \r\nQ 1547 409 2034 409 \r\nQ 2525 409 2770 889 \r\nQ 3016 1369 3016 2328 \r\nQ 3016 3291 2770 3770 \r\nQ 2525 4250 2034 4250 \r\nz\r\nM 2034 4750 \r\nQ 2819 4750 3233 4129 \r\nQ 3647 3509 3647 2328 \r\nQ 3647 1150 3233 529 \r\nQ 2819 -91 2034 -91 \r\nQ 1250 -91 836 529 \r\nQ 422 1150 422 2328 \r\nQ 422 3509 836 4129 \r\nQ 1250 4750 2034 4750 \r\nz\r\n\" id=\"DejaVuSans-30\" transform=\"scale(0.015625)\"/>\r\n       </defs>\r\n       <use xlink:href=\"#DejaVuSans-30\"/>\r\n      </g>\r\n     </g>\r\n    </g>\r\n    <g id=\"xtick_2\">\r\n     <g id=\"line2d_2\">\r\n      <g>\r\n       <use style=\"stroke:#000000;stroke-width:0.8;\" x=\"66.789\" xlink:href=\"#ma11eff6c54\" y=\"224.815219\"/>\r\n      </g>\r\n     </g>\r\n     <g id=\"text_2\">\r\n      <!-- 5 -->\r\n      <g transform=\"translate(63.60775 239.413656)scale(0.1 -0.1)\">\r\n       <defs>\r\n        <path d=\"M 691 4666 \r\nL 3169 4666 \r\nL 3169 4134 \r\nL 1269 4134 \r\nL 1269 2991 \r\nQ 1406 3038 1543 3061 \r\nQ 1681 3084 1819 3084 \r\nQ 2600 3084 3056 2656 \r\nQ 3513 2228 3513 1497 \r\nQ 3513 744 3044 326 \r\nQ 2575 -91 1722 -91 \r\nQ 1428 -91 1123 -41 \r\nQ 819 9 494 109 \r\nL 494 744 \r\nQ 775 591 1075 516 \r\nQ 1375 441 1709 441 \r\nQ 2250 441 2565 725 \r\nQ 2881 1009 2881 1497 \r\nQ 2881 1984 2565 2268 \r\nQ 2250 2553 1709 2553 \r\nQ 1456 2553 1204 2497 \r\nQ 953 2441 691 2322 \r\nL 691 4666 \r\nz\r\n\" id=\"DejaVuSans-35\" transform=\"scale(0.015625)\"/>\r\n       </defs>\r\n       <use xlink:href=\"#DejaVuSans-35\"/>\r\n      </g>\r\n     </g>\r\n    </g>\r\n    <g id=\"xtick_3\">\r\n     <g id=\"line2d_3\">\r\n      <g>\r\n       <use style=\"stroke:#000000;stroke-width:0.8;\" x=\"103.029\" xlink:href=\"#ma11eff6c54\" y=\"224.815219\"/>\r\n      </g>\r\n     </g>\r\n     <g id=\"text_3\">\r\n      <!-- 10 -->\r\n      <g transform=\"translate(96.6665 239.413656)scale(0.1 -0.1)\">\r\n       <defs>\r\n        <path d=\"M 794 531 \r\nL 1825 531 \r\nL 1825 4091 \r\nL 703 3866 \r\nL 703 4441 \r\nL 1819 4666 \r\nL 2450 4666 \r\nL 2450 531 \r\nL 3481 531 \r\nL 3481 0 \r\nL 794 0 \r\nL 794 531 \r\nz\r\n\" id=\"DejaVuSans-31\" transform=\"scale(0.015625)\"/>\r\n       </defs>\r\n       <use xlink:href=\"#DejaVuSans-31\"/>\r\n       <use x=\"63.623047\" xlink:href=\"#DejaVuSans-30\"/>\r\n      </g>\r\n     </g>\r\n    </g>\r\n    <g id=\"xtick_4\">\r\n     <g id=\"line2d_4\">\r\n      <g>\r\n       <use style=\"stroke:#000000;stroke-width:0.8;\" x=\"139.269\" xlink:href=\"#ma11eff6c54\" y=\"224.815219\"/>\r\n      </g>\r\n     </g>\r\n     <g id=\"text_4\">\r\n      <!-- 15 -->\r\n      <g transform=\"translate(132.9065 239.413656)scale(0.1 -0.1)\">\r\n       <use xlink:href=\"#DejaVuSans-31\"/>\r\n       <use x=\"63.623047\" xlink:href=\"#DejaVuSans-35\"/>\r\n      </g>\r\n     </g>\r\n    </g>\r\n    <g id=\"xtick_5\">\r\n     <g id=\"line2d_5\">\r\n      <g>\r\n       <use style=\"stroke:#000000;stroke-width:0.8;\" x=\"175.509\" xlink:href=\"#ma11eff6c54\" y=\"224.815219\"/>\r\n      </g>\r\n     </g>\r\n     <g id=\"text_5\">\r\n      <!-- 20 -->\r\n      <g transform=\"translate(169.1465 239.413656)scale(0.1 -0.1)\">\r\n       <defs>\r\n        <path d=\"M 1228 531 \r\nL 3431 531 \r\nL 3431 0 \r\nL 469 0 \r\nL 469 531 \r\nQ 828 903 1448 1529 \r\nQ 2069 2156 2228 2338 \r\nQ 2531 2678 2651 2914 \r\nQ 2772 3150 2772 3378 \r\nQ 2772 3750 2511 3984 \r\nQ 2250 4219 1831 4219 \r\nQ 1534 4219 1204 4116 \r\nQ 875 4013 500 3803 \r\nL 500 4441 \r\nQ 881 4594 1212 4672 \r\nQ 1544 4750 1819 4750 \r\nQ 2544 4750 2975 4387 \r\nQ 3406 4025 3406 3419 \r\nQ 3406 3131 3298 2873 \r\nQ 3191 2616 2906 2266 \r\nQ 2828 2175 2409 1742 \r\nQ 1991 1309 1228 531 \r\nz\r\n\" id=\"DejaVuSans-32\" transform=\"scale(0.015625)\"/>\r\n       </defs>\r\n       <use xlink:href=\"#DejaVuSans-32\"/>\r\n       <use x=\"63.623047\" xlink:href=\"#DejaVuSans-30\"/>\r\n      </g>\r\n     </g>\r\n    </g>\r\n    <g id=\"xtick_6\">\r\n     <g id=\"line2d_6\">\r\n      <g>\r\n       <use style=\"stroke:#000000;stroke-width:0.8;\" x=\"211.749\" xlink:href=\"#ma11eff6c54\" y=\"224.815219\"/>\r\n      </g>\r\n     </g>\r\n     <g id=\"text_6\">\r\n      <!-- 25 -->\r\n      <g transform=\"translate(205.3865 239.413656)scale(0.1 -0.1)\">\r\n       <use xlink:href=\"#DejaVuSans-32\"/>\r\n       <use x=\"63.623047\" xlink:href=\"#DejaVuSans-35\"/>\r\n      </g>\r\n     </g>\r\n    </g>\r\n   </g>\r\n   <g id=\"matplotlib.axis_2\">\r\n    <g id=\"ytick_1\">\r\n     <g id=\"line2d_7\">\r\n      <defs>\r\n       <path d=\"M 0 0 \r\nL -3.5 0 \r\n\" id=\"mbdd9613676\" style=\"stroke:#000000;stroke-width:0.8;\"/>\r\n      </defs>\r\n      <g>\r\n       <use style=\"stroke:#000000;stroke-width:0.8;\" x=\"26.925\" xlink:href=\"#mbdd9613676\" y=\"10.999219\"/>\r\n      </g>\r\n     </g>\r\n     <g id=\"text_7\">\r\n      <!-- 0 -->\r\n      <g transform=\"translate(13.5625 14.798437)scale(0.1 -0.1)\">\r\n       <use xlink:href=\"#DejaVuSans-30\"/>\r\n      </g>\r\n     </g>\r\n    </g>\r\n    <g id=\"ytick_2\">\r\n     <g id=\"line2d_8\">\r\n      <g>\r\n       <use style=\"stroke:#000000;stroke-width:0.8;\" x=\"26.925\" xlink:href=\"#mbdd9613676\" y=\"47.239219\"/>\r\n      </g>\r\n     </g>\r\n     <g id=\"text_8\">\r\n      <!-- 5 -->\r\n      <g transform=\"translate(13.5625 51.038437)scale(0.1 -0.1)\">\r\n       <use xlink:href=\"#DejaVuSans-35\"/>\r\n      </g>\r\n     </g>\r\n    </g>\r\n    <g id=\"ytick_3\">\r\n     <g id=\"line2d_9\">\r\n      <g>\r\n       <use style=\"stroke:#000000;stroke-width:0.8;\" x=\"26.925\" xlink:href=\"#mbdd9613676\" y=\"83.479219\"/>\r\n      </g>\r\n     </g>\r\n     <g id=\"text_9\">\r\n      <!-- 10 -->\r\n      <g transform=\"translate(7.2 87.278437)scale(0.1 -0.1)\">\r\n       <use xlink:href=\"#DejaVuSans-31\"/>\r\n       <use x=\"63.623047\" xlink:href=\"#DejaVuSans-30\"/>\r\n      </g>\r\n     </g>\r\n    </g>\r\n    <g id=\"ytick_4\">\r\n     <g id=\"line2d_10\">\r\n      <g>\r\n       <use style=\"stroke:#000000;stroke-width:0.8;\" x=\"26.925\" xlink:href=\"#mbdd9613676\" y=\"119.719219\"/>\r\n      </g>\r\n     </g>\r\n     <g id=\"text_10\">\r\n      <!-- 15 -->\r\n      <g transform=\"translate(7.2 123.518437)scale(0.1 -0.1)\">\r\n       <use xlink:href=\"#DejaVuSans-31\"/>\r\n       <use x=\"63.623047\" xlink:href=\"#DejaVuSans-35\"/>\r\n      </g>\r\n     </g>\r\n    </g>\r\n    <g id=\"ytick_5\">\r\n     <g id=\"line2d_11\">\r\n      <g>\r\n       <use style=\"stroke:#000000;stroke-width:0.8;\" x=\"26.925\" xlink:href=\"#mbdd9613676\" y=\"155.959219\"/>\r\n      </g>\r\n     </g>\r\n     <g id=\"text_11\">\r\n      <!-- 20 -->\r\n      <g transform=\"translate(7.2 159.758437)scale(0.1 -0.1)\">\r\n       <use xlink:href=\"#DejaVuSans-32\"/>\r\n       <use x=\"63.623047\" xlink:href=\"#DejaVuSans-30\"/>\r\n      </g>\r\n     </g>\r\n    </g>\r\n    <g id=\"ytick_6\">\r\n     <g id=\"line2d_12\">\r\n      <g>\r\n       <use style=\"stroke:#000000;stroke-width:0.8;\" x=\"26.925\" xlink:href=\"#mbdd9613676\" y=\"192.199219\"/>\r\n      </g>\r\n     </g>\r\n     <g id=\"text_12\">\r\n      <!-- 25 -->\r\n      <g transform=\"translate(7.2 195.998437)scale(0.1 -0.1)\">\r\n       <use xlink:href=\"#DejaVuSans-32\"/>\r\n       <use x=\"63.623047\" xlink:href=\"#DejaVuSans-35\"/>\r\n      </g>\r\n     </g>\r\n    </g>\r\n   </g>\r\n   <g id=\"patch_3\">\r\n    <path d=\"M 26.925 224.815219 \r\nL 26.925 7.375219 \r\n\" style=\"fill:none;stroke:#000000;stroke-linecap:square;stroke-linejoin:miter;stroke-width:0.8;\"/>\r\n   </g>\r\n   <g id=\"patch_4\">\r\n    <path d=\"M 244.365 224.815219 \r\nL 244.365 7.375219 \r\n\" style=\"fill:none;stroke:#000000;stroke-linecap:square;stroke-linejoin:miter;stroke-width:0.8;\"/>\r\n   </g>\r\n   <g id=\"patch_5\">\r\n    <path d=\"M 26.925 224.815219 \r\nL 244.365 224.815219 \r\n\" style=\"fill:none;stroke:#000000;stroke-linecap:square;stroke-linejoin:miter;stroke-width:0.8;\"/>\r\n   </g>\r\n   <g id=\"patch_6\">\r\n    <path d=\"M 26.925 7.375219 \r\nL 244.365 7.375219 \r\n\" style=\"fill:none;stroke:#000000;stroke-linecap:square;stroke-linejoin:miter;stroke-width:0.8;\"/>\r\n   </g>\r\n  </g>\r\n </g>\r\n <defs>\r\n  <clipPath id=\"pe943fb22ae\">\r\n   <rect height=\"217.44\" width=\"217.44\" x=\"26.925\" y=\"7.375219\"/>\r\n  </clipPath>\r\n </defs>\r\n</svg>\r\n",
      "image/png": "[encoded data removed]"
     },
     "metadata": {
      "needs_background": "light"
     }
    }
   ],
   "source": [
    "plt.imshow(S)"
   ]
  },
  {
   "cell_type": "code",
   "execution_count": 147,
   "metadata": {},
   "outputs": [
    {
     "output_type": "stream",
     "name": "stdout",
     "text": [
      "[[500.  500.  500.  500.  500.  500.  500.  500.  500.  500.  500.  500.\n  500.  500.  500.  500.  500.  500.  500.  500.  500.  500.  500.  500.\n  500.  500.  500.  500.  500.  500. ]\n [500.   13.5  14.   14.5  15.   15.5  16.   16.5  17.   17.5  18.   18.5\n   19.   20.   21.   22.   23.   24.   25.   26.   27.   28.   29.   30.\n   31.   32.   33.   34.   35.  500. ]\n [500.   12.5  13.   13.5  14.   14.5  15.   15.5  16.   16.5  17.   17.5\n   18.5  19.5  20.5  21.5  22.5  23.5  24.5  25.5  26.5  27.5  28.5  29.5\n   30.5  31.5  32.5  33.5  34.5 500. ]\n [500.   11.5  12.   12.5  13.   13.5  14.   14.5  15.   15.5  16.   17.\n   18.   19.   20.   21.   22.   23.   24.   25.   26.   27.   28.   29.\n   30.   31.   32.   33.   34.  500. ]\n [500.   10.5  11.   11.5  12.   12.5  13.   13.5  14.   14.5  15.5  16.5\n   17.5  18.5  19.5  20.5  21.5  22.5  23.5  24.5  25.5  26.5  27.5  28.5\n   29.5  30.5  31.5  32.5  33.5 500. ]\n [500.    9.5  10.   10.5  11.   11.5  12.   12.5  13.   14.   15.   16.\n   17.   18.   19.   20.   21.   22.   23.   24.   25.   26.   27.   28.\n   29.   30.   31.   32.   33.  500. ]\n [500.    8.5   9.    9.5  10.   10.5  11.   11.5  12.5  13.5  14.5  15.5\n   16.5  17.5  18.5  19.5  20.5  21.5  22.5  23.5  24.5  25.5  26.5  27.5\n   28.5  29.5  30.5  31.5  32.5 500. ]\n [500.    7.5   8.    8.5   9.    9.5  10.   11.   12.   13.   14.   15.\n   16.   17.   18.   19.   20.   21.   22.   23.   24.   25.   26.   27.\n   28.   29.   30.   31.   32.  500. ]\n [500.    6.5   7.    7.5   8.    8.5   9.5  10.5  11.5  12.5  13.5  14.5\n   15.5  16.5  17.5  18.5  19.5  20.5  21.5  22.5  23.5  24.5  25.5  26.5\n   27.5  28.5  29.5  30.5  31.5 500. ]\n [500.    5.5   6.    6.5   7.    8.    9.   10.   11.   12.   13.   14.\n   15.   16.   17.   18.   19.   20.   21.   22.   23.   24.   25.   26.\n   27.   28.   29.   30.   31.  500. ]\n [500.    4.5   5.    5.5   6.5   7.5   8.5   9.5  10.5  11.5  12.5  13.5\n   14.5  15.5  16.5  17.5  18.5 500.   20.5  21.5  22.5  23.5  24.5  25.5\n   26.5  27.5  28.5  29.5  30.5 500. ]\n [500.    3.5   4.    5.    6.    7.    8.    9.   10.   11.   12.   13.\n   14.   15.   16.   17.   18.   19.   20.   21.   22.   23.   24.   25.\n   26.   27.   28.   29.   30.  500. ]\n [500.    2.5   3.5   4.5   5.5   6.5   7.5   8.5   9.5  10.5  11.5  12.5\n   13.5  14.5  15.5  16.5  17.5  18.5  19.5  20.5  21.5  22.5  23.5  24.5\n   25.5  26.5  27.5  28.5  29.5 500. ]\n [  1.    2.    3.    4.    5.    6.    7.    8.    9.   10.   11.   12.\n   13.   14.   15.   16.   17.   18.   19.   20.   21.   22.   23.   24.\n   25.   26.   27.   28.   29.  500. ]\n [  1.    2.    3.    4.    5.    6.    7.    8.    9.   10.   11.   12.\n   13.   14.   15.   16.   17.   18.   19.   20.   21.   22.   23.   24.\n   25.   26.   27.   28.   29.  500. ]\n [  1.    2.    3.    4.    5.    6.    7.    8.    9.   10.   11.   12.\n   13.   14.   15.   16.   17.   18.   19.   20.   21.   22.   23.   24.\n   25.   26.   27.   28.   29.  500. ]\n [  1.    2.    3.    4.    5.    6.    7.    8.    9.   10.   11.   12.\n   13.   14.   15.   16.   17.   18.   19.   20.   21.   22.   23.   24.\n   25.   26.   27.   28.   29.  500. ]\n [500.    2.5   3.5   4.5   5.5   6.5   7.5   8.5   9.5  10.5  11.5  12.5\n   13.5  14.5  15.5  16.5  17.5  18.5  19.5  20.5  21.5  22.5  23.5  24.5\n   25.5  26.5  27.5  28.5  29.5 500. ]\n [500.    3.5   4.    5.    6.    7.    8.    9.   10.   11.   12.   13.\n   14.   15.   16.   17.   18.   19.   20.   21.   22.   23.   24.   25.\n   26.   27.   28.   29.   30.  500. ]\n [500.    4.5   5.    5.5   6.5   7.5   8.5   9.5  10.5  11.5  12.5  13.5\n   14.5  15.5  16.5  17.5  18.5  19.5  20.5  21.5  22.5  23.5  24.5  25.5\n   26.5  27.5  28.5  29.5  30.5 500. ]\n [500.    5.5   6.    6.5   7.  500.    9.   10.   11.   12.   13.   14.\n   15.   16.   17.   18.   19.   20.   21.   22.   23.   24.   25.   26.\n   27.   28.   29.   30.   31.  500. ]\n [500.    6.5   7.    7.5   8.    8.5   9.5  10.5  11.5  12.5  13.5  14.5\n   15.5  16.5  17.5  18.5  19.5  20.5  21.5  22.5  23.5  24.5  25.5  26.5\n   27.5  28.5  29.5  30.5  31.5 500. ]\n [500.    7.5   8.    8.5   9.    9.5  10.   11.   12.   13.   14.   15.\n   16.   17.   18.   19.   20.   21.   22.   23.   24.   25.   26.   27.\n   28.   29.   30.   31.   32.  500. ]\n [500.    8.5   9.    9.5  10.   10.5  11.   11.5  12.5  13.5  14.5  15.5\n   16.5  17.5  18.5  19.5  20.5  21.5  22.5  23.5  24.5  25.5  26.5  27.5\n   28.5  29.5  30.5  31.5  32.5 500. ]\n [500.    9.5  10.   10.5  11.   11.5  12.   12.5  13.   14.   15.   16.\n   17.   18.   19.   20.   21.   22.   23.   24.   25.   26.   27.   28.\n   29.   30.   31.   32.   33.  500. ]\n [500.   10.5  11.   11.5  12.   12.5  13.   13.5  14.   14.5  15.5  16.5\n   17.5  18.5  19.5  20.5  21.5  22.5  23.5  24.5  25.5  26.5  27.5  28.5\n   29.5  30.5  31.5  32.5  33.5 500. ]\n [500.   11.5  12.   12.5  13.   13.5  14.   14.5  15.   15.5  16.   17.\n   18.   19.   20.   21.   22.   23.   24.   25.   26.   27.   28.   29.\n   30.   31.   32.   33.   34.  500. ]\n [500.   12.5  13.   13.5  14.   14.5  15.   15.5  16.   16.5  17.   17.5\n   18.5  19.5  20.5  21.5  22.5  23.5  24.5  25.5  26.5  27.5  28.5  29.5\n   30.5  31.5  32.5  33.5  34.5 500. ]\n [500.   13.5  14.   14.5  15.   15.5  16.   16.5  17.   17.5  18.   18.5\n   19.   20.   21.   22.   23.   24.   25.   26.   27.   28.   29.   30.\n   31.   32.   33.   34.   35.  500. ]\n [500.  500.  500.  500.  500.  500.  500.  500.  500.  500.  500.  500.\n  500.  500.  500.  500.  500.  500.  500.  500.  500.  500.  500.  500.\n  500.  500.  500.  500.  500.  500. ]]\n"
     ]
    }
   ],
   "source": [
    "print(S)"
   ]
  },
  {
   "cell_type": "code",
   "execution_count": 139,
   "metadata": {},
   "outputs": [],
   "source": [
    "prev_locations = get_locations(person_list)\n",
    "locations = np.concatenate((prev_locations[0:20, :] + 1, prev_locations[20:, :]))"
   ]
  },
  {
   "cell_type": "code",
   "execution_count": 140,
   "metadata": {},
   "outputs": [],
   "source": [
    "D = update_D(D, locations, prev_locations)"
   ]
  },
  {
   "cell_type": "code",
   "execution_count": 141,
   "metadata": {},
   "outputs": [
    {
     "output_type": "execute_result",
     "data": {
      "text/plain": [
       "<matplotlib.image.AxesImage at 0x2ec8961a2e0>"
      ]
     },
     "metadata": {},
     "execution_count": 141
    },
    {
     "output_type": "display_data",
     "data": {
      "text/plain": "<Figure size 432x288 with 1 Axes>",
      "image/svg+xml": "<?xml version=\"1.0\" encoding=\"utf-8\" standalone=\"no\"?>\r\n<!DOCTYPE svg PUBLIC \"-//W3C//DTD SVG 1.1//EN\"\r\n  \"http://www.w3.org/Graphics/SVG/1.1/DTD/svg11.dtd\">\r\n<svg height=\"248.693344pt\" version=\"1.1\" viewBox=\"0 0 251.565 248.693344\" width=\"251.565pt\" xmlns=\"http://www.w3.org/2000/svg\" xmlns:xlink=\"http://www.w3.org/1999/xlink\">\r\n <metadata>\r\n  <rdf:RDF xmlns:cc=\"http://creativecommons.org/ns#\" xmlns:dc=\"http://purl.org/dc/elements/1.1/\" xmlns:rdf=\"http://www.w3.org/1999/02/22-rdf-syntax-ns#\">\r\n   <cc:Work>\r\n    <dc:type rdf:resource=\"http://purl.org/dc/dcmitype/StillImage\"/>\r\n    <dc:date>2021-05-15T20:35:23.198519</dc:date>\r\n    <dc:format>image/svg+xml</dc:format>\r\n    <dc:creator>\r\n     <cc:Agent>\r\n      <dc:title>Matplotlib v3.4.1, https://matplotlib.org/</dc:title>\r\n     </cc:Agent>\r\n    </dc:creator>\r\n   </cc:Work>\r\n  </rdf:RDF>\r\n </metadata>\r\n <defs>\r\n  <style type=\"text/css\">*{stroke-linecap:butt;stroke-linejoin:round;}</style>\r\n </defs>\r\n <g id=\"figure_1\">\r\n  <g id=\"patch_1\">\r\n   <path d=\"M 0 248.693344 \r\nL 251.565 248.693344 \r\nL 251.565 0 \r\nL 0 0 \r\nz\r\n\" style=\"fill:none;\"/>\r\n  </g>\r\n  <g id=\"axes_1\">\r\n   <g id=\"patch_2\">\r\n    <path d=\"M 26.925 224.815219 \r\nL 244.365 224.815219 \r\nL 244.365 7.375219 \r\nL 26.925 7.375219 \r\nz\r\n\" style=\"fill:#ffffff;\"/>\r\n   </g>\r\n   <g clip-path=\"url(#p3f1ac59b43)\">\r\n    <image height=\"218\" id=\"image59517b5606\" transform=\"scale(1 -1)translate(0 -218)\" width=\"218\" x=\"26.925\" xlink:href=\"data:image/png;base64,\r\niVBORw0KGgoAAAANSUhEUgAAANoAAADaCAYAAADAHVzbAAADOklEQVR4nO3dy03DUBBA0RhRBVVQBBINpFm6oAraCLvscKIE3+fPOVskCImuRhrHz9PHdL6cDuDr5/vPn32+vWev44jm3vs5e/pcXka/ADgCoUFAaBAQGgSEBgGhQWA6ynofRjLRICA0CAgNAkKDgNAgIDQICA0CQoOA0CAgNAgIDQJCg4DQICA0CLyO+KN7OpFqT/8LyzHRICA0CAgNAkKDgNAgIDQIOAVrpVw22BcTDQJCg4DQICA0CAgNAkKDwJBv73ObFf6+mGgQEBoEhAYBoUFAaBAQGgSEBgHX0VitPd0qZKJBQGgQEBoEhAYBoUFAaBCw3me1trbCn2OiQUBoEBAaBIQGAaFBQGgQEBoEhAYBoUFAaBAQGgSEBgGhQcC39+FOc4cFnU7zdxuYaBAQGgSEBgGhQUBoEBAaBIQGAdfR4E63TuWau85mokFAaBAQGgSEBgGhQUBoELDeh3/iNhkYTGgQEBoEhAYBoUFAaBDY3Hp/7hvSjz7z+JnTjeAeJhoEhAYBoUFAaBAQGgSEBoHpYzpfRr8I2DsTDQJCg4DQICA0CAgNAkKDgNAgIDQICA0CQoOA0CAgNAgIDQJCg8DmTsEaYYmTtzgWEw0CQoOA0CAgNAgIDQJCg4D1/h22tML3wI7lPPPemmgQEBoEhAYBoUFAaBAQGgSEBgFPk2FxbjMy0SAhNAgIDQJCg4DQICA0CLhNhsWtbYU/4nKDiQYBoUFAaBAQGgSEBgGhQcB6n8MZcbnBRIOA0CAgNAgIDQJCg4DQICA0CAgNAkKDgNAgIDQICA0CQoOA0CDgNhmuPIxiOSYaBIQGAaFBQGgQEBoEhAaBIet9a+R18t4vx0SDgNAgIDQICA0CQoOA0CAwZL1vjczRmGgQEBoEhAYBoUFAaBAQGgSEBgGhQUBoEBAaBIQGAaFBQGgQEBoEhAYBoUFAaBAQGgSEBgGhQUBoEPAMa648fGQ5JhoEhAYBoUFAaBAQGgSEBgHrfa4eXeHPXRZ45vfuiYkGAaFBQGgQEBoEhAYBoUHAep+nWd/fZqJBQGgQEBoEhAYBoUFAaBAQGgSEBgGhQUBoEBAaBIQGAaFBQGgQ+AWPhEh2+TsI2gAAAABJRU5ErkJggg==\" y=\"-6.815219\"/>\r\n   </g>\r\n   <g id=\"matplotlib.axis_1\">\r\n    <g id=\"xtick_1\">\r\n     <g id=\"line2d_1\">\r\n      <defs>\r\n       <path d=\"M 0 0 \r\nL 0 3.5 \r\n\" id=\"m6666216106\" style=\"stroke:#000000;stroke-width:0.8;\"/>\r\n      </defs>\r\n      <g>\r\n       <use style=\"stroke:#000000;stroke-width:0.8;\" x=\"30.549\" xlink:href=\"#m6666216106\" y=\"224.815219\"/>\r\n      </g>\r\n     </g>\r\n     <g id=\"text_1\">\r\n      <!-- 0 -->\r\n      <g transform=\"translate(27.36775 239.413656)scale(0.1 -0.1)\">\r\n       <defs>\r\n        <path d=\"M 2034 4250 \r\nQ 1547 4250 1301 3770 \r\nQ 1056 3291 1056 2328 \r\nQ 1056 1369 1301 889 \r\nQ 1547 409 2034 409 \r\nQ 2525 409 2770 889 \r\nQ 3016 1369 3016 2328 \r\nQ 3016 3291 2770 3770 \r\nQ 2525 4250 2034 4250 \r\nz\r\nM 2034 4750 \r\nQ 2819 4750 3233 4129 \r\nQ 3647 3509 3647 2328 \r\nQ 3647 1150 3233 529 \r\nQ 2819 -91 2034 -91 \r\nQ 1250 -91 836 529 \r\nQ 422 1150 422 2328 \r\nQ 422 3509 836 4129 \r\nQ 1250 4750 2034 4750 \r\nz\r\n\" id=\"DejaVuSans-30\" transform=\"scale(0.015625)\"/>\r\n       </defs>\r\n       <use xlink:href=\"#DejaVuSans-30\"/>\r\n      </g>\r\n     </g>\r\n    </g>\r\n    <g id=\"xtick_2\">\r\n     <g id=\"line2d_2\">\r\n      <g>\r\n       <use style=\"stroke:#000000;stroke-width:0.8;\" x=\"66.789\" xlink:href=\"#m6666216106\" y=\"224.815219\"/>\r\n      </g>\r\n     </g>\r\n     <g id=\"text_2\">\r\n      <!-- 5 -->\r\n      <g transform=\"translate(63.60775 239.413656)scale(0.1 -0.1)\">\r\n       <defs>\r\n        <path d=\"M 691 4666 \r\nL 3169 4666 \r\nL 3169 4134 \r\nL 1269 4134 \r\nL 1269 2991 \r\nQ 1406 3038 1543 3061 \r\nQ 1681 3084 1819 3084 \r\nQ 2600 3084 3056 2656 \r\nQ 3513 2228 3513 1497 \r\nQ 3513 744 3044 326 \r\nQ 2575 -91 1722 -91 \r\nQ 1428 -91 1123 -41 \r\nQ 819 9 494 109 \r\nL 494 744 \r\nQ 775 591 1075 516 \r\nQ 1375 441 1709 441 \r\nQ 2250 441 2565 725 \r\nQ 2881 1009 2881 1497 \r\nQ 2881 1984 2565 2268 \r\nQ 2250 2553 1709 2553 \r\nQ 1456 2553 1204 2497 \r\nQ 953 2441 691 2322 \r\nL 691 4666 \r\nz\r\n\" id=\"DejaVuSans-35\" transform=\"scale(0.015625)\"/>\r\n       </defs>\r\n       <use xlink:href=\"#DejaVuSans-35\"/>\r\n      </g>\r\n     </g>\r\n    </g>\r\n    <g id=\"xtick_3\">\r\n     <g id=\"line2d_3\">\r\n      <g>\r\n       <use style=\"stroke:#000000;stroke-width:0.8;\" x=\"103.029\" xlink:href=\"#m6666216106\" y=\"224.815219\"/>\r\n      </g>\r\n     </g>\r\n     <g id=\"text_3\">\r\n      <!-- 10 -->\r\n      <g transform=\"translate(96.6665 239.413656)scale(0.1 -0.1)\">\r\n       <defs>\r\n        <path d=\"M 794 531 \r\nL 1825 531 \r\nL 1825 4091 \r\nL 703 3866 \r\nL 703 4441 \r\nL 1819 4666 \r\nL 2450 4666 \r\nL 2450 531 \r\nL 3481 531 \r\nL 3481 0 \r\nL 794 0 \r\nL 794 531 \r\nz\r\n\" id=\"DejaVuSans-31\" transform=\"scale(0.015625)\"/>\r\n       </defs>\r\n       <use xlink:href=\"#DejaVuSans-31\"/>\r\n       <use x=\"63.623047\" xlink:href=\"#DejaVuSans-30\"/>\r\n      </g>\r\n     </g>\r\n    </g>\r\n    <g id=\"xtick_4\">\r\n     <g id=\"line2d_4\">\r\n      <g>\r\n       <use style=\"stroke:#000000;stroke-width:0.8;\" x=\"139.269\" xlink:href=\"#m6666216106\" y=\"224.815219\"/>\r\n      </g>\r\n     </g>\r\n     <g id=\"text_4\">\r\n      <!-- 15 -->\r\n      <g transform=\"translate(132.9065 239.413656)scale(0.1 -0.1)\">\r\n       <use xlink:href=\"#DejaVuSans-31\"/>\r\n       <use x=\"63.623047\" xlink:href=\"#DejaVuSans-35\"/>\r\n      </g>\r\n     </g>\r\n    </g>\r\n    <g id=\"xtick_5\">\r\n     <g id=\"line2d_5\">\r\n      <g>\r\n       <use style=\"stroke:#000000;stroke-width:0.8;\" x=\"175.509\" xlink:href=\"#m6666216106\" y=\"224.815219\"/>\r\n      </g>\r\n     </g>\r\n     <g id=\"text_5\">\r\n      <!-- 20 -->\r\n      <g transform=\"translate(169.1465 239.413656)scale(0.1 -0.1)\">\r\n       <defs>\r\n        <path d=\"M 1228 531 \r\nL 3431 531 \r\nL 3431 0 \r\nL 469 0 \r\nL 469 531 \r\nQ 828 903 1448 1529 \r\nQ 2069 2156 2228 2338 \r\nQ 2531 2678 2651 2914 \r\nQ 2772 3150 2772 3378 \r\nQ 2772 3750 2511 3984 \r\nQ 2250 4219 1831 4219 \r\nQ 1534 4219 1204 4116 \r\nQ 875 4013 500 3803 \r\nL 500 4441 \r\nQ 881 4594 1212 4672 \r\nQ 1544 4750 1819 4750 \r\nQ 2544 4750 2975 4387 \r\nQ 3406 4025 3406 3419 \r\nQ 3406 3131 3298 2873 \r\nQ 3191 2616 2906 2266 \r\nQ 2828 2175 2409 1742 \r\nQ 1991 1309 1228 531 \r\nz\r\n\" id=\"DejaVuSans-32\" transform=\"scale(0.015625)\"/>\r\n       </defs>\r\n       <use xlink:href=\"#DejaVuSans-32\"/>\r\n       <use x=\"63.623047\" xlink:href=\"#DejaVuSans-30\"/>\r\n      </g>\r\n     </g>\r\n    </g>\r\n    <g id=\"xtick_6\">\r\n     <g id=\"line2d_6\">\r\n      <g>\r\n       <use style=\"stroke:#000000;stroke-width:0.8;\" x=\"211.749\" xlink:href=\"#m6666216106\" y=\"224.815219\"/>\r\n      </g>\r\n     </g>\r\n     <g id=\"text_6\">\r\n      <!-- 25 -->\r\n      <g transform=\"translate(205.3865 239.413656)scale(0.1 -0.1)\">\r\n       <use xlink:href=\"#DejaVuSans-32\"/>\r\n       <use x=\"63.623047\" xlink:href=\"#DejaVuSans-35\"/>\r\n      </g>\r\n     </g>\r\n    </g>\r\n   </g>\r\n   <g id=\"matplotlib.axis_2\">\r\n    <g id=\"ytick_1\">\r\n     <g id=\"line2d_7\">\r\n      <defs>\r\n       <path d=\"M 0 0 \r\nL -3.5 0 \r\n\" id=\"m4d91d4c0b1\" style=\"stroke:#000000;stroke-width:0.8;\"/>\r\n      </defs>\r\n      <g>\r\n       <use style=\"stroke:#000000;stroke-width:0.8;\" x=\"26.925\" xlink:href=\"#m4d91d4c0b1\" y=\"10.999219\"/>\r\n      </g>\r\n     </g>\r\n     <g id=\"text_7\">\r\n      <!-- 0 -->\r\n      <g transform=\"translate(13.5625 14.798437)scale(0.1 -0.1)\">\r\n       <use xlink:href=\"#DejaVuSans-30\"/>\r\n      </g>\r\n     </g>\r\n    </g>\r\n    <g id=\"ytick_2\">\r\n     <g id=\"line2d_8\">\r\n      <g>\r\n       <use style=\"stroke:#000000;stroke-width:0.8;\" x=\"26.925\" xlink:href=\"#m4d91d4c0b1\" y=\"47.239219\"/>\r\n      </g>\r\n     </g>\r\n     <g id=\"text_8\">\r\n      <!-- 5 -->\r\n      <g transform=\"translate(13.5625 51.038437)scale(0.1 -0.1)\">\r\n       <use xlink:href=\"#DejaVuSans-35\"/>\r\n      </g>\r\n     </g>\r\n    </g>\r\n    <g id=\"ytick_3\">\r\n     <g id=\"line2d_9\">\r\n      <g>\r\n       <use style=\"stroke:#000000;stroke-width:0.8;\" x=\"26.925\" xlink:href=\"#m4d91d4c0b1\" y=\"83.479219\"/>\r\n      </g>\r\n     </g>\r\n     <g id=\"text_9\">\r\n      <!-- 10 -->\r\n      <g transform=\"translate(7.2 87.278437)scale(0.1 -0.1)\">\r\n       <use xlink:href=\"#DejaVuSans-31\"/>\r\n       <use x=\"63.623047\" xlink:href=\"#DejaVuSans-30\"/>\r\n      </g>\r\n     </g>\r\n    </g>\r\n    <g id=\"ytick_4\">\r\n     <g id=\"line2d_10\">\r\n      <g>\r\n       <use style=\"stroke:#000000;stroke-width:0.8;\" x=\"26.925\" xlink:href=\"#m4d91d4c0b1\" y=\"119.719219\"/>\r\n      </g>\r\n     </g>\r\n     <g id=\"text_10\">\r\n      <!-- 15 -->\r\n      <g transform=\"translate(7.2 123.518437)scale(0.1 -0.1)\">\r\n       <use xlink:href=\"#DejaVuSans-31\"/>\r\n       <use x=\"63.623047\" xlink:href=\"#DejaVuSans-35\"/>\r\n      </g>\r\n     </g>\r\n    </g>\r\n    <g id=\"ytick_5\">\r\n     <g id=\"line2d_11\">\r\n      <g>\r\n       <use style=\"stroke:#000000;stroke-width:0.8;\" x=\"26.925\" xlink:href=\"#m4d91d4c0b1\" y=\"155.959219\"/>\r\n      </g>\r\n     </g>\r\n     <g id=\"text_11\">\r\n      <!-- 20 -->\r\n      <g transform=\"translate(7.2 159.758437)scale(0.1 -0.1)\">\r\n       <use xlink:href=\"#DejaVuSans-32\"/>\r\n       <use x=\"63.623047\" xlink:href=\"#DejaVuSans-30\"/>\r\n      </g>\r\n     </g>\r\n    </g>\r\n    <g id=\"ytick_6\">\r\n     <g id=\"line2d_12\">\r\n      <g>\r\n       <use style=\"stroke:#000000;stroke-width:0.8;\" x=\"26.925\" xlink:href=\"#m4d91d4c0b1\" y=\"192.199219\"/>\r\n      </g>\r\n     </g>\r\n     <g id=\"text_12\">\r\n      <!-- 25 -->\r\n      <g transform=\"translate(7.2 195.998437)scale(0.1 -0.1)\">\r\n       <use xlink:href=\"#DejaVuSans-32\"/>\r\n       <use x=\"63.623047\" xlink:href=\"#DejaVuSans-35\"/>\r\n      </g>\r\n     </g>\r\n    </g>\r\n   </g>\r\n   <g id=\"patch_3\">\r\n    <path d=\"M 26.925 224.815219 \r\nL 26.925 7.375219 \r\n\" style=\"fill:none;stroke:#000000;stroke-linecap:square;stroke-linejoin:miter;stroke-width:0.8;\"/>\r\n   </g>\r\n   <g id=\"patch_4\">\r\n    <path d=\"M 244.365 224.815219 \r\nL 244.365 7.375219 \r\n\" style=\"fill:none;stroke:#000000;stroke-linecap:square;stroke-linejoin:miter;stroke-width:0.8;\"/>\r\n   </g>\r\n   <g id=\"patch_5\">\r\n    <path d=\"M 26.925 224.815219 \r\nL 244.365 224.815219 \r\n\" style=\"fill:none;stroke:#000000;stroke-linecap:square;stroke-linejoin:miter;stroke-width:0.8;\"/>\r\n   </g>\r\n   <g id=\"patch_6\">\r\n    <path d=\"M 26.925 7.375219 \r\nL 244.365 7.375219 \r\n\" style=\"fill:none;stroke:#000000;stroke-linecap:square;stroke-linejoin:miter;stroke-width:0.8;\"/>\r\n   </g>\r\n  </g>\r\n </g>\r\n <defs>\r\n  <clipPath id=\"p3f1ac59b43\">\r\n   <rect height=\"217.44\" width=\"217.44\" x=\"26.925\" y=\"7.375219\"/>\r\n  </clipPath>\r\n </defs>\r\n</svg>\r\n",
      "image/png": "[encoded data removed]"
     },
     "metadata": {
      "needs_background": "light"
     }
    }
   ],
   "source": [
    "plt.imshow(D)"
   ]
  },
  {
   "cell_type": "code",
   "execution_count": null,
   "metadata": {},
   "outputs": [],
   "source": []
  }
 ]
}