{
 "metadata": {
  "language_info": {
   "codemirror_mode": {
    "name": "ipython",
    "version": 3
   },
   "file_extension": ".py",
   "mimetype": "text/x-python",
   "name": "python",
   "nbconvert_exporter": "python",
   "pygments_lexer": "ipython3",
   "version": "3.8.5"
  },
  "orig_nbformat": 2,
  "kernelspec": {
   "name": "python385jvsc74a57bd0d163ea45bd2cab844339aee21428a939709027bb084b146d6f32097ba0bd9484",
   "display_name": "Python 3.8.5 64-bit ('base': conda)"
  }
 },
 "nbformat": 4,
 "nbformat_minor": 2,
 "cells": [
  {
   "source": [
    "# Chaos during a stampede\n",
    "\n",
    "Based on the paper: https://www.sciencedirect.com/science/article/pii/S1569190X20300861?casa_token=eoCj844--UoAAAAA%3AW5IEQVZQbP5ILasesMnahd3iIgfHNXfAWnaI7RsboLHrfqNA-UNxb_pyNF5FIyDN0hoKbjdC-EA "
   ],
   "cell_type": "markdown",
   "metadata": {}
  },
  {
   "source": [
    "### To do:\n",
    "Implement everything\n",
    "\n",
    "### Ideas:\n",
    "Implement people as class so that we can define their state and position as parts of that class.\n",
    "\n",
    "Use code example below, set all bordercells to 500 (= wall)\n",
    "Use different values for different states of people.\n",
    "Make custom update rules."
   ],
   "cell_type": "markdown",
   "metadata": {}
  },
  {
   "source": [
    "### Steps:\n",
    "1. Populate board with random amount of people in random positions\n",
    "2. In each time step, calculate the static floor field Sij, the dynamic floor field Dij and the event floor field Fij with help of the formulas.\n",
    "3. For each pedestrian, determine his/her state and make a decision regarding movement behavior. If the pedestrian is in\n",
    "state Ue,Un or Ae, calculate the transition probability according to Eqs. (15)–(17), respectively. If the pedestrian is in state An, he/\n",
    "she chooses one of the strategies S1, S2 or S3 to evacuate. If the pedestrian is in state C, calculate the probability of him/her\n",
    "getting up again.\n",
    "4. Each pedestrian moves to his/her target cell. If the pedestrian chooses a target cell that is occupied by a fallen pedestrian, he/she will be tripped and become a new fallen pedestrian.\n",
    "5. If the chaos duration is over, uninjured pedestrians regard fallen pedestrians as obstacles and conduct a normal evacuation. There will be no more new fallen pedestrians.\n",
    "6. When multiple pedestrians choose to move to the same target, one pedestrian is randomly selected with equal probability to move to the target cell, and other pedestrians remain in their original cells.\n",
    "7. Determine whether the evacuation is over. If there are still uninjured pedestrians in the room, return to step 2 and repeat the simulation process until all the uninjured pedestrians evacuate from the room.\n",
    "\n",
    "### Variables:\n",
    "\n",
    "S = static floor: describes pedestrian behavior of finding the shortest path to the exit during the evacuation process.\n",
    "D = dynamic floor: represents the interactions among pedestrians in the evacuation process.\n",
    "F = event floor: reflects thhat some pedestrians intend to escape from the stampede location when they are affected by the stampede.\n",
    "A = risk floor field: depicts that pedestrian movement direction affects the risk of being tripped.\n",
    "\n",
    "### evac strategies:\n",
    "S1 = Tries to stay away from the stampede location (Eq 1)\n",
    "S2 = Follows movement of neighbours \n",
    "S3 = keeps moving in same direction until wall is reached, then follows it clockwise or anti clockwise.\n",
    "     when they stay in the same cell for more then 5 time steps, they change the desired direction randomly.\n"
   ],
   "cell_type": "markdown",
   "metadata": {}
  },
  {
   "cell_type": "code",
   "execution_count": 4,
   "metadata": {},
   "outputs": [],
   "source": [
    "# imports\n",
    "\n",
    "import numpy as np\n",
    "import random"
   ]
  },
  {
   "cell_type": "code",
   "execution_count": 1,
   "metadata": {},
   "outputs": [
    {
     "output_type": "error",
     "ename": "NameError",
     "evalue": "name 'cpl' is not defined",
     "traceback": [
      "\u001b[1;31m---------------------------------------------------------------------------\u001b[0m",
      "\u001b[1;31mNameError\u001b[0m                                 Traceback (most recent call last)",
      "\u001b[1;32m<ipython-input-1-083ffb1c20bb>\u001b[0m in \u001b[0;36m<module>\u001b[1;34m\u001b[0m\n\u001b[0;32m      5\u001b[0m     \u001b[1;32mreturn\u001b[0m \u001b[0mboard\u001b[0m\u001b[1;33m\u001b[0m\u001b[1;33m\u001b[0m\u001b[0m\n\u001b[0;32m      6\u001b[0m \u001b[1;33m\u001b[0m\u001b[0m\n\u001b[1;32m----> 7\u001b[1;33m \u001b[0mcellular_stampede\u001b[0m \u001b[1;33m=\u001b[0m \u001b[0mcpl\u001b[0m\u001b[1;33m.\u001b[0m\u001b[0minit_random2d\u001b[0m\u001b[1;33m(\u001b[0m\u001b[1;36m10\u001b[0m\u001b[1;33m,\u001b[0m\u001b[1;36m10\u001b[0m\u001b[1;33m)\u001b[0m\u001b[1;33m\u001b[0m\u001b[1;33m\u001b[0m\u001b[0m\n\u001b[0m\u001b[0;32m      8\u001b[0m \u001b[1;33m\u001b[0m\u001b[0m\n\u001b[0;32m      9\u001b[0m \u001b[0mcomplete\u001b[0m \u001b[1;33m=\u001b[0m \u001b[1;32mFalse\u001b[0m\u001b[1;33m\u001b[0m\u001b[1;33m\u001b[0m\u001b[0m\n",
      "\u001b[1;31mNameError\u001b[0m: name 'cpl' is not defined"
     ]
    }
   ],
   "source": [
    "# functions\n",
    "\n",
    "def init_board(r,N,e):\n",
    "        # populate board with size r x r with x people\n",
    "        # decide where exits are with e num of exits\n",
    "        # set remaining walls to 500\n",
    "    return board \n",
    "\n",
    "def calc_S(board):\n",
    "    return S \n",
    "\n",
    "def calc_D(board):\n",
    "    return D \n",
    "\n",
    "def calc_F(board):\n",
    "    return F \n",
    "\n",
    "def calc_tumble(Rper,ka,kc,board):\n",
    "    #rho = (sum of num of spaces that are occupied)/abs(U0)\n",
    "    if rho > 0.64: # more then 4 people/m^2 so trample threshold is exceeded\n",
    "        eps = 1\n",
    "    else:\n",
    "        eps = 0\n",
    "     \n",
    "    Aij = np.cos(theta) - 1 # theta is de hoek tussen bewegingsrichting van vorige stap en normaal van huidige cell naar cell ij\n",
    "    if board[i,j] == 500:\n",
    "        aij = kc*eps*rho*np.exp(ka*Aij)\n",
    "    else:\n",
    "        aij = 1\n",
    "    \n",
    "    return aij\n",
    "\n",
    "\n",
    "def move_direction(person,board):\n",
    "\n",
    "    if person_state = 'Ue':\n",
    "            ....\n",
    "    elif person_state = 'Un':\n",
    "        ....\n",
    "    elif person_state = 'Ae':\n",
    "        ....\n",
    "    elif person_state = 'An':\n",
    "        if person.evac_strat == 'S1':\n",
    "        ...\n",
    "        elif person.evac_strat == 'S2':\n",
    "            ... \n",
    "        else:\n",
    "            ...\n",
    "    elif person_state = 'C':\n",
    "        # implement that they get up with probability x\n",
    "        # where x follows a poisson distribution with lambda = 1 based on the duration that they are down\n",
    "    else:\n",
    "        raise ValueError('Non existing person state')\n",
    "\n",
    "    return direction\n",
    "\n",
    "def check_stampede(people_list):\n",
    "    states = [person.state for person in people_list]\n",
    "\n",
    "    if any(not(states == 'left' or states == 'C')):\n",
    "        stampede = True\n",
    "    else:\n",
    "        stampede = False\n",
    "    \n",
    "    return stampede\n",
    "\n",
    "# classes\n",
    "\n",
    "class pedestrian:\n",
    "  def __init__(self, location, state):\n",
    "    self.name = name\n",
    "    self.evac_strat = random.choices(['S1','S2','S3'],(50,30,20))[0]\n",
    "    self.location = location\n",
    "    self.state = 'Ue' # implement way to find out if they can see exit or not\n",
    "    self.direction = 'up'\n"
   ]
  },
  {
   "cell_type": "code",
   "execution_count": null,
   "metadata": {},
   "outputs": [],
   "source": [
    "# parameters\n",
    "r = 30 # size of board\n",
    "N = 100 # number of people\n",
    "e = [(r/2-1):(r/2+3),0] # exit locations (middle of left wall)\n",
    "\n",
    "Ts = 1 # occurrence time of the stampede\n",
    "Tc = 50 # chaos duration\n",
    "\n",
    "kc = 0.5 # sensitivity parameter for tumble factor \n",
    "ka = 1 # sensitivity parameter for tumble factor \n",
    "ks = 5\n",
    "kd = 1\n",
    "alpha = 0.3\n",
    "delta = 0.3\n",
    "R = 5 # perception radius for each person\n",
    "\n",
    "Srange = 8 # stampede range\n",
    "\n",
    "# each time step == 0.3s"
   ]
  },
  {
   "cell_type": "code",
   "execution_count": 18,
   "metadata": {},
   "outputs": [
    {
     "output_type": "stream",
     "name": "stdout",
     "text": [
      "[[[0 0 0 1 0 0 0 1 1 0]\n  [1 0 0 1 0 0 1 0 0 0]\n  [0 1 1 1 1 0 0 0 1 0]\n  [0 0 1 1 1 1 0 0 0 0]\n  [1 0 0 0 0 1 0 0 0 1]\n  [1 0 1 0 1 1 1 0 0 0]\n  [1 0 0 1 0 0 0 1 1 0]\n  [0 1 1 1 1 1 1 1 1 1]\n  [0 0 0 0 0 0 0 1 0 1]\n  [0 1 1 1 0 1 0 1 1 0]]]\n[[0 0 0 1 0 0 0 1 1 0]\n [1 0 0 1 0 0 1 0 0 0]\n [0 1 1 1 1 0 0 0 1 0]\n [0 0 1 1 1 1 0 0 0 0]\n [1 0 0 0 0 1 0 0 0 1]\n [1 0 1 0 1 1 1 0 0 0]\n [1 0 0 1 0 0 0 1 1 0]\n [0 1 1 1 1 1 1 1 1 1]\n [0 0 0 0 0 0 0 1 0 1]\n [0 1 1 1 0 1 0 1 1 0]]\n"
     ]
    }
   ],
   "source": [
    "# main function\r\n",
    "\r\n",
    "# step 1\r\n",
    "\r\n",
    "board = init_board(r,N,e)\r\n",
    "\r\n",
    "stampede = True\r\n",
    "\r\n",
    "while stampede:\r\n",
    "\r\n",
    "    board = cellular_stampede[-1,:,:]\r\n",
    "\r\n",
    "    # step 2\r\n",
    "    \r\n",
    "    S = calc_S(board)\r\n",
    "    D = calc_D(board)\r\n",
    "    F = calc_F(board)\r\n",
    "\r\n",
    "    # step 3 and 4\r\n",
    "    # if target cell is occupied state becomes C\r\n",
    "\r\n",
    "    states = {500:'wall', 1:'..'}\r\n",
    "\r\n",
    "    person_pos = board[...]\r\n",
    "\r\n",
    "    next_board = board\r\n",
    "\r\n",
    "    # step 5\r\n",
    "\r\n",
    "    if T > Tc:\r\n",
    "        # C becomes obstacle (= 500)\r\n",
    "        # change evacuation strategy of others to normal\r\n",
    "        # change to fall = 0\r\n",
    "\r\n",
    "    # step 6\r\n",
    "        # make list of steps with 1 current pos en 2 next pos. If multiple person have same next pos than equal chance to stay or move\r\n",
    "\r\n",
    "    # step 7\r\n",
    "\r\n",
    "    stampede = check_stampede(people_list)\r\n"
   ]
  },
  {
   "cell_type": "code",
   "execution_count": null,
   "metadata": {},
   "outputs": [],
   "source": []
  }
 ]
}